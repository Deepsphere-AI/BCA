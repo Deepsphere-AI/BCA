{
  "nbformat": 4,
  "nbformat_minor": 0,
  "metadata": {
    "colab": {
      "provenance": [],
      "authorship_tag": "ABX9TyOVROOFecwlfCVPNO6+y1AD",
      "include_colab_link": true
    },
    "kernelspec": {
      "name": "python3",
      "display_name": "Python 3"
    },
    "language_info": {
      "name": "python"
    }
  },
  "cells": [
    {
      "cell_type": "markdown",
      "metadata": {
        "id": "view-in-github",
        "colab_type": "text"
      },
      "source": [
        "<a href=\"https://colab.research.google.com/github/Deepsphere-AI/BCA/blob/main/SEM-2/Advanced%20Computing%20with%20Distributed%20Data%20Processing/Programs/06_eachword_count.ipynb\" target=\"_parent\"><img src=\"https://colab.research.google.com/assets/colab-badge.svg\" alt=\"Open In Colab\"/></a>"
      ]
    },
    {
      "cell_type": "code",
      "execution_count": null,
      "metadata": {
        "colab": {
          "base_uri": "https://localhost:8080/"
        },
        "id": "zEknN-c5Dh4E",
        "outputId": "3871c1ee-5ca8-45e7-ae8d-6c0b462dd4b4"
      },
      "outputs": [
        {
          "output_type": "stream",
          "name": "stdout",
          "text": [
            "Looking in indexes: https://pypi.org/simple, https://us-python.pkg.dev/colab-wheels/public/simple/\n",
            "Collecting pyspark\n",
            "  Downloading pyspark-3.3.1.tar.gz (281.4 MB)\n",
            "\u001b[2K     \u001b[90m━━━━━━━━━━━━━━━━━━━━━━━━━━━━━━━━━━━━━━━\u001b[0m \u001b[32m281.4/281.4 MB\u001b[0m \u001b[31m4.5 MB/s\u001b[0m eta \u001b[36m0:00:00\u001b[0m\n",
            "\u001b[?25h  Preparing metadata (setup.py) ... \u001b[?25l\u001b[?25hdone\n",
            "Collecting py4j==0.10.9.5\n",
            "  Downloading py4j-0.10.9.5-py2.py3-none-any.whl (199 kB)\n",
            "\u001b[2K     \u001b[90m━━━━━━━━━━━━━━━━━━━━━━━━━━━━━━━━━━━━━━\u001b[0m \u001b[32m199.7/199.7 KB\u001b[0m \u001b[31m19.8 MB/s\u001b[0m eta \u001b[36m0:00:00\u001b[0m\n",
            "\u001b[?25hBuilding wheels for collected packages: pyspark\n",
            "  Building wheel for pyspark (setup.py) ... \u001b[?25l\u001b[?25hdone\n",
            "  Created wheel for pyspark: filename=pyspark-3.3.1-py2.py3-none-any.whl size=281845512 sha256=19e26a94d9b69fde8007ed3d4e2ec2f6b7cf899827bcff4d5c6be04cb898b30c\n",
            "  Stored in directory: /root/.cache/pip/wheels/43/dc/11/ec201cd671da62fa9c5cc77078235e40722170ceba231d7598\n",
            "Successfully built pyspark\n",
            "Installing collected packages: py4j, pyspark\n",
            "Successfully installed py4j-0.10.9.5 pyspark-3.3.1\n"
          ]
        }
      ],
      "source": [
        "!pip install pyspark"
      ]
    },
    {
      "cell_type": "code",
      "source": [
        "from pyspark import SparkConf, SparkContext\n",
        "import pandas as pd\n",
        "\n",
        "# Set up the Spark configuration and context once \n",
        "conf = SparkConf().setAppName(\"SimilarityWordCount\")\n",
        "sc = SparkContext(conf=conf)"
      ],
      "metadata": {
        "id": "Z9Nl2SSMY8Wk"
      },
      "execution_count": null,
      "outputs": []
    },
    {
      "cell_type": "code",
      "source": [
        "import urllib.request\n",
        "from PIL import Image\n",
        "\n",
        "# Read in the documents as RDDs\n",
        "path=\"https://raw.githubusercontent.com/Deepsphere-AI/BCA/main/SEM-2/Advanced%20Computing%20with%20Distributed%20Data%20Processing/Programs/content/demo.txt\"\n",
        "\n",
        "urllib.request.urlretrieve(path,\"demo.txt\")"
      ],
      "metadata": {
        "colab": {
          "base_uri": "https://localhost:8080/"
        },
        "id": "qIml3K11Fgfn",
        "outputId": "8aaa9578-5d4d-4897-bf66-a4eabbf011f0"
      },
      "execution_count": null,
      "outputs": [
        {
          "output_type": "execute_result",
          "data": {
            "text/plain": [
              "('demo.txt', <http.client.HTTPMessage at 0x7ff72005c2e0>)"
            ]
          },
          "metadata": {},
          "execution_count": 13
        }
      ]
    },
    {
      "cell_type": "code",
      "source": [
        "doc1 = sc.textFile(\"/content/demo.txt\")\n",
        "\n",
        "# Perform word count on the documents\n",
        "vAR_wordCount1 = doc1.flatMap(lambda line: line.split(\" \")) \\\n",
        "                .map(lambda word: (word, 1)) \\\n",
        "                .reduceByKey(lambda a, b: a + b)\n",
        "\n",
        "# Print the result\n",
        "vAR_a=vAR_wordCount1.collect()\n",
        "vAR_unique_word_count=len(vAR_a)\n",
        "print(\"************************************************************************\\n\")\n",
        "print(\"OUTPUT : \")\n",
        "print(\"Unique word count : \",vAR_unique_word_count ,\"\\n\")\n",
        "co_of_each=[]\n",
        "for i in vAR_a:\n",
        "  co_of_each.append(i)\n",
        "print(\"************************************************************************\\n\")\n",
        "print(\"Count of each word in the paragraph : \\n\")\n",
        "print(co_of_each,\"\\n\")\n",
        "print(\"************************************************************************\")"
      ],
      "metadata": {
        "colab": {
          "base_uri": "https://localhost:8080/"
        },
        "id": "BdxuugGbDqJ2",
        "outputId": "cbbf3c05-5afd-4764-8d56-fb87259362f7"
      },
      "execution_count": null,
      "outputs": [
        {
          "output_type": "stream",
          "name": "stdout",
          "text": [
            "************************************************************************\n",
            "\n",
            "OUTPUT : \n",
            "Unique word count :  80 \n",
            "\n",
            "************************************************************************\n",
            "\n",
            "Count of each word in the paragraph : \n",
            "\n",
            "[('is', 2), ('Danish', 1), ('learning', 2), ('of', 2), ('broader', 1), ('family', 1), ('machine', 2), ('based', 1), ('artificial', 1), ('neural', 4), ('networks', 2), ('representation', 1), ('learning.', 1), ('supervised,', 1), ('semi-supervised', 1), ('Deep-learning', 1), ('architectures', 1), ('as', 1), ('networks,', 3), ('belief', 1), ('reinforcement', 1), ('learning,', 1), ('recurrent', 1), ('convolutional', 1), ('Transformers', 1), ('have', 2), ('applied', 1), ('fields', 1), ('vision,', 1), ('speech', 1), ('recognition,', 1), ('language', 1), ('processing,', 1), ('bioinformatics,', 1), ('medical', 1), ('image', 1), ('climate', 1), ('material', 1), ('board', 1), ('where', 1), ('produced', 1), ('results', 1), ('comparable', 1), ('in', 1), ('cases', 1), ('human', 1), ('expert', 1), (\"'This\", 1), ('file', 1), ('Deep', 1), ('part', 1), ('a', 1), ('methods', 1), ('on', 1), ('with', 1), ('Learning', 1), ('can', 1), ('be', 1), ('or', 1), ('unsupervised.', 1), ('such', 1), ('deep', 3), ('and', 3), ('been', 1), ('to', 2), ('including', 1), ('computer', 1), ('natural', 1), ('translation,', 1), ('drug', 1), ('design,', 1), ('analysis,', 1), ('science,', 1), ('inspection', 1), ('game', 1), ('programs,', 1), ('they', 1), ('some', 1), ('surpassing', 1), (\"performance.'\", 1)] \n",
            "\n",
            "************************************************************************\n"
          ]
        }
      ]
    }
  ]
}