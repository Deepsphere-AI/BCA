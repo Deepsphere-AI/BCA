{
  "nbformat": 4,
  "nbformat_minor": 0,
  "metadata": {
    "colab": {
      "provenance": [],
      "authorship_tag": "ABX9TyNiOmdr3qOkynvdQh75ahKQ",
      "include_colab_link": true
    },
    "kernelspec": {
      "name": "python3",
      "display_name": "Python 3"
    },
    "language_info": {
      "name": "python"
    }
  },
  "cells": [
    {
      "cell_type": "markdown",
      "metadata": {
        "id": "view-in-github",
        "colab_type": "text"
      },
      "source": [
        "<a href=\"https://colab.research.google.com/github/Deepsphere-AI/BCA/blob/main/SEM-2/Advanced%20Computing%20with%20Distributed%20Data%20Processing/Programs/Lab6_spark.ipynb\" target=\"_parent\"><img src=\"https://colab.research.google.com/assets/colab-badge.svg\" alt=\"Open In Colab\"/></a>"
      ]
    },
    {
      "cell_type": "code",
      "execution_count": 2,
      "metadata": {
        "colab": {
          "base_uri": "https://localhost:8080/"
        },
        "id": "vOVlwgMXDwh3",
        "outputId": "d4a9934a-d37d-40c7-be23-6805787f4b37"
      },
      "outputs": [
        {
          "output_type": "stream",
          "name": "stdout",
          "text": [
            "Looking in indexes: https://pypi.org/simple, https://us-python.pkg.dev/colab-wheels/public/simple/\n",
            "Collecting pyspark\n",
            "  Downloading pyspark-3.3.1.tar.gz (281.4 MB)\n",
            "\u001b[2K     \u001b[90m━━━━━━━━━━━━━━━━━━━━━━━━━━━━━━━━━━━━━━━\u001b[0m \u001b[32m281.4/281.4 MB\u001b[0m \u001b[31m5.5 MB/s\u001b[0m eta \u001b[36m0:00:00\u001b[0m\n",
            "\u001b[?25h  Preparing metadata (setup.py) ... \u001b[?25l\u001b[?25hdone\n",
            "Collecting py4j==0.10.9.5\n",
            "  Downloading py4j-0.10.9.5-py2.py3-none-any.whl (199 kB)\n",
            "\u001b[2K     \u001b[90m━━━━━━━━━━━━━━━━━━━━━━━━━━━━━━━━━━━━━━\u001b[0m \u001b[32m199.7/199.7 KB\u001b[0m \u001b[31m16.9 MB/s\u001b[0m eta \u001b[36m0:00:00\u001b[0m\n",
            "\u001b[?25hBuilding wheels for collected packages: pyspark\n",
            "  Building wheel for pyspark (setup.py) ... \u001b[?25l\u001b[?25hdone\n",
            "  Created wheel for pyspark: filename=pyspark-3.3.1-py2.py3-none-any.whl size=281845512 sha256=e247bec3960d8186d4a42a9dab2624156d0d4e9aba7f346cadec1ce335f01176\n",
            "  Stored in directory: /root/.cache/pip/wheels/43/dc/11/ec201cd671da62fa9c5cc77078235e40722170ceba231d7598\n",
            "Successfully built pyspark\n",
            "Installing collected packages: py4j, pyspark\n",
            "Successfully installed py4j-0.10.9.5 pyspark-3.3.1\n"
          ]
        }
      ],
      "source": [
        "pip install pyspark"
      ]
    },
    {
      "cell_type": "code",
      "source": [
        "from pyspark import SparkConf, SparkContext\n",
        "import pandas as pd\n",
        "\n",
        "# Set up the Spark configuration and context once \n",
        "conf = SparkConf().setAppName(\"SimilarityWordCount\")\n",
        "sc = SparkContext(conf=conf)"
      ],
      "metadata": {
        "id": "rTN5I_ElD40r"
      },
      "execution_count": 3,
      "outputs": []
    },
    {
      "cell_type": "code",
      "source": [
        "# Read in the documents as RDDs\n",
        "vAR_doc1 = sc.textFile(\"/content/demo.txt\")\n",
        "#word count\n",
        "\n",
        "# Perform word count on the documents\n",
        "vAR_wordCount1 = vAR_doc1.flatMap(lambda line: line.split(\" \")) \\\n",
        "                .map(lambda word: (word, 1)) \\\n",
        "                .reduceByKey(lambda a, b: a + b)\n",
        "\n",
        "# Print the result\n",
        "vAR_a=vAR_wordCount1.collect()\n",
        "vAR_unique_word_count=len(vAR_a)\n",
        "print(\"************************************************************************\\n\")\n",
        "print(\"OUTPUT : \")\n",
        "print(\"Unique word count : \",vAR_unique_word_count ,\"\\n\")\n",
        "co_of_each=[]\n",
        "for i in vAR_a:\n",
        "  co_of_each.append(i)\n",
        "print(\"************************************************************************\\n\")\n",
        "print(\"Count of each word in the paragraph : \\n\")\n",
        "print(co_of_each,\"\\n\")\n",
        "print(\"************************************************************************\")"
      ],
      "metadata": {
        "colab": {
          "base_uri": "https://localhost:8080/"
        },
        "id": "ALbDtNO2Ei7A",
        "outputId": "04f45f42-87b8-4c91-b43f-eaf8603d184d"
      },
      "execution_count": 13,
      "outputs": [
        {
          "output_type": "stream",
          "name": "stdout",
          "text": [
            "************************************************************************\n",
            "\n",
            "OUTPUT : \n",
            "Unique word count :  77 \n",
            "\n",
            "************************************************************************\n",
            "\n",
            "Count of each word in the paragraph : \n",
            "\n",
            "[('learning', 2), ('is', 1), ('of', 2), ('broader', 1), ('family', 1), ('machine', 2), ('based', 1), ('artificial', 1), ('neural', 4), ('networks', 2), ('representation', 1), ('learning.', 1), ('supervised,', 1), ('semi-supervised', 1), ('Deep-learning', 1), ('architectures', 1), ('as', 1), ('networks,', 3), ('belief', 1), ('reinforcement', 1), ('learning,', 1), ('recurrent', 1), ('convolutional', 1), ('Transformers', 1), ('have', 2), ('applied', 1), ('fields', 1), ('vision,', 1), ('speech', 1), ('recognition,', 1), ('language', 1), ('processing,', 1), ('bioinformatics,', 1), ('medical', 1), ('image', 1), ('climate', 1), ('material', 1), ('board', 1), ('where', 1), ('produced', 1), ('results', 1), ('comparable', 1), ('in', 1), ('cases', 1), ('human', 1), ('expert', 1), (\"'Deep\", 1), ('part', 1), ('a', 1), ('methods', 1), ('on', 1), ('with', 1), ('Learning', 1), ('can', 1), ('be', 1), ('or', 1), ('unsupervised.', 1), ('such', 1), ('deep', 3), ('and', 3), ('been', 1), ('to', 2), ('including', 1), ('computer', 1), ('natural', 1), ('translation,', 1), ('drug', 1), ('design,', 1), ('analysis,', 1), ('science,', 1), ('inspection', 1), ('game', 1), ('programs,', 1), ('they', 1), ('some', 1), ('surpassing', 1), (\"performance.'\", 1)] \n",
            "\n",
            "************************************************************************\n"
          ]
        }
      ]
    }
  ]
}