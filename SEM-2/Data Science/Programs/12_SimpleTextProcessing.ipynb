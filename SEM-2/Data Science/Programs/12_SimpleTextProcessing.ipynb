{
  "nbformat": 4,
  "nbformat_minor": 0,
  "metadata": {
    "colab": {
      "provenance": [],
      "include_colab_link": true
    },
    "kernelspec": {
      "name": "python3",
      "display_name": "Python 3"
    },
    "language_info": {
      "name": "python"
    }
  },
  "cells": [
    {
      "cell_type": "markdown",
      "metadata": {
        "id": "view-in-github",
        "colab_type": "text"
      },
      "source": [
        "<a href=\"https://colab.research.google.com/github/Deepsphere-AI/BCA/blob/main/SEM-2/Data%20Science/Programs/12_SimpleTextProcessing.ipynb\" target=\"_parent\"><img src=\"https://colab.research.google.com/assets/colab-badge.svg\" alt=\"Open In Colab\"/></a>"
      ]
    },
    {
      "cell_type": "code",
      "source": [
        "# ***********************************************************************************************\n",
        "  \n",
        "  # File Name \t:   12_SimpleTextProcessing\n",
        "  # Purpose \t  :   Install, Import nltk(Natural Language Toolkit) and Explore a Simple sentence for text Processing\n",
        "  # Author\t    :   Deepsphere.ai\n",
        "  # Reviewer \t  :   Jothi Periasamy\n",
        "  # Date        :   08/02/2023 \n",
        "  # Version\t    :   1.0\t\n",
        "  \n",
        "# ***********************************************************************************************\n",
        "\n",
        "## Program Description : \n",
        "  #  1. This program splits the given paragraph and perform tokenization to split paragraphs and sentences into smaller units.\n",
        "  #  2. It performs stemming to removes last few characters from a word\n",
        "## Python Development Environment & Runtime - Python, Anaconda\n",
        "\n",
        "#Importing warnings to ignore them\n",
        "import warnings\n",
        "warnings.filterwarnings(\"ignore\")\n",
        "\n",
        "\n",
        "#To install NLTK, you can use the pip package manager. Open up the terminal or colab and run the following command:\n",
        "#!pip install nltk\n",
        "\n",
        "#Importing the nltk library, PorterStemmer and word_tokenize\n",
        "import nltk\n",
        "\n",
        "#The Porter stemming algorithm (or 'Porter stemmer') is a process for removing the commoner morphological and inflexional endings from words in English.     \n",
        "from nltk.stem import PorterStemmer\n",
        "\n",
        "#This tokenizer divides a text into a list of sentences by using an unsupervised algorithm to build a model for abbreviation words, collocations, and words that start sentences.\n",
        "nltk.download('punkt') \n",
        "\n",
        "#Now that you have installed and imported the NLTK library, you can start with a simple text processing task. Here is an example code to perform word tokenization:\n",
        "\n",
        "#Performing the word tokenization\n",
        "#Tokenization is used in natural language processing to split paragraphs and sentences into smaller units that can be more easily assigned meaning. \n",
        "from nltk.tokenize import word_tokenize\n",
        "\n",
        "vAR_text = \"Stemming and Lemmatization are Text Normalization techniques in the field of Natural Language Processing\"\n",
        "\n",
        "# Tokenize the text\n",
        "vAR_tokens = word_tokenize(vAR_text)\n",
        "\n",
        "# Print the tokens\n",
        "print(\"**************************OUTPUT***************************** \\n\")\n",
        "print(\"Tokenized output : \",vAR_tokens)\n",
        "\n",
        "\n",
        "#Stemming is a process that stems or removes last few characters from a word, often leading to incorrect meanings and spelling.\n",
        "#For instance, stemming the word 'Caring' would return 'Car'.\n",
        "vAR_ps = PorterStemmer()\n",
        "\n",
        "#Printing the output for the stemming process\n",
        "print()\n",
        "print()\n",
        "print(\"Output after stemming : \")\n",
        "print()\n",
        "vAR_out=[]\n",
        "for w in vAR_tokens:\n",
        "    vAR_stem=(w, vAR_ps.stem(w))\n",
        "    vAR_out.append(vAR_stem)\n",
        "print(vAR_out)\n",
        "print(\"\\n*************************************************************\")\n"
      ],
      "metadata": {
        "colab": {
          "base_uri": "https://localhost:8080/"
        },
        "id": "QSbOngqpy0XT",
        "outputId": "07ba3480-cb36-4737-e12d-82b472364218"
      },
      "execution_count": 1,
      "outputs": [
        {
          "output_type": "stream",
          "name": "stderr",
          "text": [
            "[nltk_data] Downloading package punkt to /root/nltk_data...\n",
            "[nltk_data]   Unzipping tokenizers/punkt.zip.\n"
          ]
        },
        {
          "output_type": "stream",
          "name": "stdout",
          "text": [
            "**************************OUTPUT***************************** \n",
            "\n",
            "Tokenized output :  ['Stemming', 'and', 'Lemmatization', 'are', 'Text', 'Normalization', 'techniques', 'in', 'the', 'field', 'of', 'Natural', 'Language', 'Processing', 'processed']\n",
            "\n",
            "\n",
            "Output after stemming : \n",
            "\n",
            "[('Stemming', 'stem'), ('and', 'and'), ('Lemmatization', 'lemmat'), ('are', 'are'), ('Text', 'text'), ('Normalization', 'normal'), ('techniques', 'techniqu'), ('in', 'in'), ('the', 'the'), ('field', 'field'), ('of', 'of'), ('Natural', 'natur'), ('Language', 'languag'), ('Processing', 'process'), ('processed', 'process')]\n",
            "\n",
            "*************************************************************\n"
          ]
        }
      ]
    },
    {
      "cell_type": "code",
      "source": [],
      "metadata": {
        "id": "g77Gexcj6yXA"
      },
      "execution_count": null,
      "outputs": []
    }
  ]
}