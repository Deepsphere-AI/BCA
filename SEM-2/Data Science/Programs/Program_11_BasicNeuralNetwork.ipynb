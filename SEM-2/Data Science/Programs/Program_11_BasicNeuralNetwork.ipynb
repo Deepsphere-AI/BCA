{
  "nbformat": 4,
  "nbformat_minor": 0,
  "metadata": {
    "colab": {
      "provenance": [],
      "authorship_tag": "ABX9TyN9ENWK+AYp6MnOZ15pwhIM",
      "include_colab_link": true
    },
    "kernelspec": {
      "name": "python3",
      "display_name": "Python 3"
    },
    "language_info": {
      "name": "python"
    }
  },
  "cells": [
    {
      "cell_type": "markdown",
      "metadata": {
        "id": "view-in-github",
        "colab_type": "text"
      },
      "source": [
        "<a href=\"https://colab.research.google.com/github/Deepsphere-AI/BCA/blob/main/SEM-2/Data%20Science/Programs/Program_11_BasicNeuralNetwork.ipynb\" target=\"_parent\"><img src=\"https://colab.research.google.com/assets/colab-badge.svg\" alt=\"Open In Colab\"/></a>"
      ]
    },
    {
      "cell_type": "markdown",
      "source": [
        "# **Lab 11: Install, Import Tensorflow and Keras. Create a Basic Neural Network with few layers.**"
      ],
      "metadata": {
        "id": "3h7dtKrzbNt5"
      }
    },
    {
      "cell_type": "markdown",
      "source": [],
      "metadata": {
        "id": "hJ38pGNYu4jH"
      }
    },
    {
      "cell_type": "markdown",
      "source": [
        "### This code creates a simple neural network with two fully connected layers. The first layer has 128 neurons and uses the ReLU activation function, and the second layer has 10 neurons and uses the softmax activation function. The network is trained on the MNIST dataset for 10 epochs. After training, the accuracy of the network on the test data is printed."
      ],
      "metadata": {
        "id": "LnT11C4S35mk"
      }
    },
    {
      "cell_type": "markdown",
      "source": [
        "To install TensorFlow and Keras, you can use the following pip command in your terminal or command prompt:"
      ],
      "metadata": {
        "id": "kvOsJ4y4bTra"
      }
    },
    {
      "cell_type": "code",
      "execution_count": null,
      "metadata": {
        "id": "Dg0dBGBvawcU"
      },
      "outputs": [],
      "source": [
        "#To install TensorFlow and Keras, you can use the following pip command in your terminal or command prompt:\n",
        "!pip install tensorflow"
      ]
    },
    {
      "cell_type": "markdown",
      "source": [
        "To import these libraries in your Python script, you can use the following code:"
      ],
      "metadata": {
        "id": "E7byMSo9bUq7"
      }
    },
    {
      "cell_type": "code",
      "source": [
        "#To import these libraries in your Python script, you can use the following code:\n",
        "import tensorflow as tf\n",
        "import keras"
      ],
      "metadata": {
        "id": "h4HTBe9Ya1um"
      },
      "execution_count": 11,
      "outputs": []
    },
    {
      "cell_type": "markdown",
      "source": [
        "Load the MNIST dataset"
      ],
      "metadata": {
        "id": "_aPbURFMbVVT"
      }
    },
    {
      "cell_type": "code",
      "source": [
        "#Load the MNIST dataset\n",
        "(vAR_x_train, vAR_y_train), (vAR_x_test, vAR_y_test) = keras.datasets.mnist.load_data()"
      ],
      "metadata": {
        "id": "4d-oCVh7a31T"
      },
      "execution_count": 12,
      "outputs": []
    },
    {
      "cell_type": "markdown",
      "source": [
        "Preprocess the data"
      ],
      "metadata": {
        "id": "iXB22eXwbV-_"
      }
    },
    {
      "cell_type": "code",
      "source": [
        "#Preprocess the data and training\n",
        "vAR_x_train = vAR_x_train.reshape(vAR_x_train.shape[0], 28 * 28) / 255.0\n",
        "vAR_x_test = vAR_x_test.reshape(vAR_x_test.shape[0], 28 * 28) / 255.0"
      ],
      "metadata": {
        "id": "vtk-mE2Ua9Ne"
      },
      "execution_count": 13,
      "outputs": []
    },
    {
      "cell_type": "markdown",
      "source": [
        "Build the model"
      ],
      "metadata": {
        "id": "xVqwc8b5bWm_"
      }
    },
    {
      "cell_type": "code",
      "source": [
        "#Building the model\n",
        "vAR_model = keras.Sequential([\n",
        "    keras.layers.Dense(128, activation='relu', input_shape=(28 * 28,)),\n",
        "    keras.layers.Dense(10, activation='softmax')\n",
        "])\n",
        "\n",
        "#input layer - 128 neurons\n",
        "#hidden layer - 50 neurons\n",
        "#output layer - 10 neurons\n",
        "# Since we have 0 to 9 numbers (i.e) 10 classes, Hence we are using softmax in the output layer."
      ],
      "metadata": {
        "id": "WAvAceqVbAMz"
      },
      "execution_count": 14,
      "outputs": []
    },
    {
      "cell_type": "markdown",
      "source": [
        "Compile the model"
      ],
      "metadata": {
        "id": "ifjpJeSJbXbW"
      }
    },
    {
      "cell_type": "code",
      "source": [
        "#Compile the model\n",
        "#Since we have multiclass classification we are using \"sparse categorical crossentropy\"\n",
        "vAR_model.compile(optimizer='adam', loss='sparse_categorical_crossentropy', metrics=['accuracy'])"
      ],
      "metadata": {
        "id": "vaxMz8vizp9d"
      },
      "execution_count": 17,
      "outputs": []
    },
    {
      "cell_type": "markdown",
      "source": [
        "Train the model"
      ],
      "metadata": {
        "id": "-_0UtxkR3ZXn"
      }
    },
    {
      "cell_type": "code",
      "source": [
        "#Train the model\n",
        "vAR_model.fit(vAR_x_train, vAR_y_train, epochs=10)"
      ],
      "metadata": {
        "colab": {
          "base_uri": "https://localhost:8080/"
        },
        "id": "Flf0zsfL3XTY",
        "outputId": "2b8eebef-337c-4e23-fbc5-e40b79e2ec83"
      },
      "execution_count": 18,
      "outputs": [
        {
          "output_type": "stream",
          "name": "stdout",
          "text": [
            "Epoch 1/10\n",
            "1875/1875 [==============================] - 6s 3ms/step - loss: 0.2639 - accuracy: 0.9242\n",
            "Epoch 2/10\n",
            "1875/1875 [==============================] - 5s 3ms/step - loss: 0.1158 - accuracy: 0.9650\n",
            "Epoch 3/10\n",
            "1875/1875 [==============================] - 6s 3ms/step - loss: 0.0788 - accuracy: 0.9755\n",
            "Epoch 4/10\n",
            "1875/1875 [==============================] - 5s 3ms/step - loss: 0.0597 - accuracy: 0.9814\n",
            "Epoch 5/10\n",
            "1875/1875 [==============================] - 6s 3ms/step - loss: 0.0442 - accuracy: 0.9864\n",
            "Epoch 6/10\n",
            "1875/1875 [==============================] - 5s 3ms/step - loss: 0.0356 - accuracy: 0.9887\n",
            "Epoch 7/10\n",
            "1875/1875 [==============================] - 5s 3ms/step - loss: 0.0284 - accuracy: 0.9913\n",
            "Epoch 8/10\n",
            "1875/1875 [==============================] - 7s 4ms/step - loss: 0.0231 - accuracy: 0.9929\n",
            "Epoch 9/10\n",
            "1875/1875 [==============================] - 5s 3ms/step - loss: 0.0187 - accuracy: 0.9942\n",
            "Epoch 10/10\n",
            "1875/1875 [==============================] - 6s 3ms/step - loss: 0.0161 - accuracy: 0.9949\n"
          ]
        },
        {
          "output_type": "execute_result",
          "data": {
            "text/plain": [
              "<keras.callbacks.History at 0x7f3f43979280>"
            ]
          },
          "metadata": {},
          "execution_count": 18
        }
      ]
    },
    {
      "cell_type": "markdown",
      "source": [
        "Evaluate the model"
      ],
      "metadata": {
        "id": "dNK-plqi3emx"
      }
    },
    {
      "cell_type": "code",
      "source": [
        "#Getting the loss and accuracy\n",
        "vAR_test_loss, vAR_test_acc = vAR_model.evaluate(vAR_x_test, vAR_y_test)"
      ],
      "metadata": {
        "colab": {
          "base_uri": "https://localhost:8080/"
        },
        "id": "KX9IBrNE3df9",
        "outputId": "8b9fd4dd-6796-44f1-81ac-20e25d8a6c66"
      },
      "execution_count": 22,
      "outputs": [
        {
          "output_type": "stream",
          "name": "stdout",
          "text": [
            "313/313 [==============================] - 1s 2ms/step - loss: 0.0871 - accuracy: 0.9781\n"
          ]
        }
      ]
    },
    {
      "cell_type": "code",
      "source": [
        "#Printing the test accuracy\n",
        "print(\"**************************OUTPUT***************************** \\n\")\n",
        "\n",
        "print('Test Accuracy:', vAR_test_acc)\n",
        "\n",
        "print(\"\\n*************************************************************\")"
      ],
      "metadata": {
        "colab": {
          "base_uri": "https://localhost:8080/"
        },
        "id": "oLSMSp8y30nn",
        "outputId": "6b7a2958-df43-42a6-b2e0-4798cc8b3eb8"
      },
      "execution_count": 23,
      "outputs": [
        {
          "output_type": "stream",
          "name": "stdout",
          "text": [
            "**************************OUTPUT***************************** \n",
            "\n",
            "Test Accuracy: 0.9781000018119812\n",
            "\n",
            "*************************************************************\n"
          ]
        }
      ]
    },
    {
      "cell_type": "code",
      "source": [],
      "metadata": {
        "id": "aPqwGVHL4lri"
      },
      "execution_count": 9,
      "outputs": []
    }
  ]
}