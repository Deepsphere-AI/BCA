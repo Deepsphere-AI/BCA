{
  "nbformat": 4,
  "nbformat_minor": 0,
  "metadata": {
    "colab": {
      "provenance": [],
      "authorship_tag": "ABX9TyPKGhF3+4k+YWSWUeV4zdEA",
      "include_colab_link": true
    },
    "kernelspec": {
      "name": "python3",
      "display_name": "Python 3"
    },
    "language_info": {
      "name": "python"
    }
  },
  "cells": [
    {
      "cell_type": "markdown",
      "metadata": {
        "id": "view-in-github",
        "colab_type": "text"
      },
      "source": [
        "<a href=\"https://colab.research.google.com/github/Deepsphere-AI/BCA/blob/main/SEM-2/Data%20Science/Programs/05_basic_python_functions.ipynb\" target=\"_parent\"><img src=\"https://colab.research.google.com/assets/colab-badge.svg\" alt=\"Open In Colab\"/></a>"
      ]
    },
    {
      "cell_type": "code",
      "source": [
        "# ***********************************************************************************************\n",
        "  \n",
        "  # File Name \t:   05_Basic_python_functions\n",
        "  # Purpose \t  :   Install Python and apply basic python functions\n",
        "  # Author\t    :   Deepsphere.ai\n",
        "  # Reviewer \t  :   Jothi Periasamy\n",
        "  # Date        :   08/02/2023 \n",
        "  # Version\t    :   1.0\t\n",
        "  \n",
        "# ***********************************************************************************************\n",
        "\n",
        "## Program Description : A built-in function is a function that is included in the Python standard library and can be used without the need for an additional library or module.\n",
        "# Perfomed basic functions like\n",
        "# 1. len()\n",
        "# 2. max()\n",
        "# 3. min()\n",
        "# 4. sort()\n",
        "# 5. sum()\n",
        "\n",
        "## Python Development Environment & Runtime - Python, Anaconda\n",
        "\n",
        "# ***********************************************************************************************\n",
        "print(\"\\n***************** OutPut **********************\\n\")\n",
        "# This function returns length\n",
        "vAR_a = 'Deepsphere.ai'\n",
        "print('Length of the string ', vAR_a ,':',len(vAR_a))\n",
        "\n",
        "#This function returns the maximum value\n",
        "vAR_b = [1,7,5,8,10,5,6]\n",
        "print('List :',vAR_b)\n",
        "print('Maximum value : ',max(vAR_b))\n",
        "\n",
        "#This function returns the minimum value\n",
        "print('Minimum value :',min(vAR_b))\n",
        "\n",
        "#This function returns the sum of all elements\n",
        "print('Sum of all elements :',sum(vAR_b))\n",
        "\n",
        "#This function returns a sorted version of elements\n",
        "print('Acending Order of the all elements:',sorted(vAR_b))\n",
        "print('Descending Order of the all elements:',sorted(vAR_b,reverse=True))"
      ],
      "metadata": {
        "colab": {
          "base_uri": "https://localhost:8080/"
        },
        "id": "f2uL6dIg7cjV",
        "outputId": "08ed55ef-55bc-4d04-8c81-0430eef89d14"
      },
      "execution_count": 16,
      "outputs": [
        {
          "output_type": "stream",
          "name": "stdout",
          "text": [
            "\n",
            "***************** OutPut **********************\n",
            "\n",
            "Length of the string  Deepsphere.ai : 13\n",
            "List : [1, 7, 5, 8, 10, 5, 6]\n",
            "Maximum value :  10\n",
            "Minimum value : 1\n",
            "Sum of all elements : 42\n",
            "Acending Order of the all elements: [1, 5, 5, 6, 7, 8, 10]\n",
            "Descending Order of the all elements: [10, 8, 7, 6, 5, 5, 1]\n"
          ]
        }
      ]
    },
    {
      "cell_type": "code",
      "source": [],
      "metadata": {
        "id": "YLqC4CBRCPn3"
      },
      "execution_count": null,
      "outputs": []
    }
  ]
}