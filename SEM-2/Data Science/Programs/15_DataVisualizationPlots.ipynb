{
  "nbformat": 4,
  "nbformat_minor": 0,
  "metadata": {
    "colab": {
      "provenance": [],
      "include_colab_link": true
    },
    "kernelspec": {
      "name": "python3",
      "display_name": "Python 3"
    },
    "language_info": {
      "name": "python"
    }
  },
  "cells": [
    {
      "cell_type": "markdown",
      "metadata": {
        "id": "view-in-github",
        "colab_type": "text"
      },
      "source": [
        "<a href=\"https://colab.research.google.com/github/Deepsphere-AI/BCA/blob/main/SEM-2/Data%20Science/Programs/15_DataVisualizationPlots.ipynb\" target=\"_parent\"><img src=\"https://colab.research.google.com/assets/colab-badge.svg\" alt=\"Open In Colab\"/></a>"
      ]
    },
    {
      "cell_type": "code",
      "source": [
        "# ***********************************************************************************************\n",
        "  \n",
        "  # File Name \t:   15_DataVisualizationPlots\n",
        "  # Purpose \t  :   Create all Data Visualization Plots using Matlotlib\n",
        "  # Author\t    :   Deepsphere.ai\n",
        "  # Reviewer \t  :   Jothi Periasamy\n",
        "  # Date        :   08/02/2023 \n",
        "  # Version\t    :   1.0\t\n",
        "  \n",
        "# ***********************************************************************************************\n",
        "\n",
        "## Program Description : Creating all Data Visualization using matplotlib such as Line plot, Bar plot, Scatter plot, Histogram, Pie chart, Box plot, \n",
        "##                       Stacked bar plot, Heatmap by creating a small dataset manually.\n",
        "\n",
        "## Python Development Environment & Runtime - Python, Anaconda"
      ],
      "metadata": {
        "id": "NQL-cetRi3Ym"
      },
      "execution_count": null,
      "outputs": []
    },
    {
      "cell_type": "code",
      "source": [
        "#Line Plot: To create a simple line plot in Matplotlib, you can use the following code:\n",
        "import matplotlib.pyplot as plt\n",
        "\n",
        "vAR_x = [1, 2, 3, 4, 5]\n",
        "vAR_y = [2, 4, 6, 8, 10]\n",
        "plt.plot(vAR_x, vAR_y)\n",
        "plt.xlabel('X-axis')\n",
        "plt.ylabel('Y-axis')\n",
        "plt.title('Line Plot')\n",
        "\n",
        "print(\"**************************OUTPUT***************************** \\n\")\n",
        "\n",
        "plt.show()\n",
        "\n"
      ],
      "metadata": {
        "colab": {
          "base_uri": "https://localhost:8080/",
          "height": 330
        },
        "id": "rauVtTf1rmiI",
        "outputId": "083a9015-d838-494f-af53-1ca31dc9f760"
      },
      "execution_count": null,
      "outputs": [
        {
          "output_type": "stream",
          "name": "stdout",
          "text": [
            "**************************OUTPUT***************************** \n",
            "\n"
          ]
        },
        {
          "output_type": "display_data",
          "data": {
            "text/plain": [
              "<Figure size 432x288 with 1 Axes>"
            ],
            "image/png": "[encoded data removed]"
          },
          "metadata": {
            "needs_background": "light"
          }
        }
      ]
    },
    {
      "cell_type": "code",
      "source": [
        "#Bar Plot: To create a simple bar plot in Matplotlib, you can use the following code:\n",
        "import matplotlib.pyplot as plt\n",
        "\n",
        "vAR_x = [1, 2, 3, 4, 5]\n",
        "vAR_y = [2, 4, 6, 8, 10]\n",
        "plt.bar(vAR_x, vAR_y)\n",
        "plt.xlabel('X-axis')\n",
        "plt.ylabel('Y-axis')\n",
        "plt.title('Bar Plot')\n",
        "\n",
        "print(\"**************************OUTPUT***************************** \\n\")\n",
        "\n",
        "plt.show()\n",
        "\n"
      ],
      "metadata": {
        "colab": {
          "base_uri": "https://localhost:8080/",
          "height": 330
        },
        "id": "JvIQ6y6crpVI",
        "outputId": "0abf4e57-cc39-4762-dacc-9e8e89d84259"
      },
      "execution_count": null,
      "outputs": [
        {
          "output_type": "stream",
          "name": "stdout",
          "text": [
            "**************************OUTPUT***************************** \n",
            "\n"
          ]
        },
        {
          "output_type": "display_data",
          "data": {
            "text/plain": [
              "<Figure size 432x288 with 1 Axes>"
            ],
            "image/png": "[encoded data removed]"
          },
          "metadata": {
            "needs_background": "light"
          }
        }
      ]
    },
    {
      "cell_type": "code",
      "source": [
        "#Scatter Plot: To create a simple scatter plot in Matplotlib, you can use the following code:\n",
        "import matplotlib.pyplot as plt\n",
        "\n",
        "vAR_x = [1, 2, 3, 4, 5]\n",
        "vAR_y = [2, 4, 6, 8, 10]\n",
        "plt.scatter(vAR_x, vAR_y)\n",
        "plt.xlabel('X-axis')\n",
        "plt.ylabel('Y-axis')\n",
        "plt.title('Scatter Plot')\n",
        "\n",
        "print(\"**************************OUTPUT***************************** \\n\")\n",
        "\n",
        "plt.show()\n"
      ],
      "metadata": {
        "colab": {
          "base_uri": "https://localhost:8080/",
          "height": 330
        },
        "id": "XD1odKTSrtJc",
        "outputId": "93b40548-318d-4aa7-c10a-001e4f630941"
      },
      "execution_count": null,
      "outputs": [
        {
          "output_type": "stream",
          "name": "stdout",
          "text": [
            "**************************OUTPUT***************************** \n",
            "\n"
          ]
        },
        {
          "output_type": "display_data",
          "data": {
            "text/plain": [
              "<Figure size 432x288 with 1 Axes>"
            ],
            "image/png": "[encoded data removed]"
          },
          "metadata": {
            "needs_background": "light"
          }
        }
      ]
    },
    {
      "cell_type": "code",
      "source": [
        "#Histogram: To create a simple histogram in Matplotlib, you can use the following code:\n",
        "import matplotlib.pyplot as plt\n",
        "import numpy as np\n",
        "\n",
        "vAR_data = np.random.normal(100, 10, 1000)\n",
        "plt.hist(vAR_data, bins=30)\n",
        "plt.xlabel('X-axis')\n",
        "plt.ylabel('Y-axis')\n",
        "plt.title('Histogram')\n",
        "\n",
        "print(\"**************************OUTPUT***************************** \\n\")\n",
        "\n",
        "plt.show()\n",
        "\n"
      ],
      "metadata": {
        "colab": {
          "base_uri": "https://localhost:8080/",
          "height": 330
        },
        "id": "RIAHuVr8r17j",
        "outputId": "cc3fed33-3e95-414c-f747-1cf455b2e23b"
      },
      "execution_count": null,
      "outputs": [
        {
          "output_type": "stream",
          "name": "stdout",
          "text": [
            "**************************OUTPUT***************************** \n",
            "\n"
          ]
        },
        {
          "output_type": "display_data",
          "data": {
            "text/plain": [
              "<Figure size 432x288 with 1 Axes>"
            ],
            "image/png": "[encoded data removed]"
          },
          "metadata": {
            "needs_background": "light"
          }
        }
      ]
    },
    {
      "cell_type": "code",
      "source": [
        "# A Pie Chart is used to visualize the proportion of different categories in a categorical variable. \n",
        "It shows the value of each category as a slice of a pie, where the size of each slice is proportional to the value of that category.\n",
        "\n",
        "#Pie Chart: To create a simple pie chart in Matplotlib, you can use the following code:\n",
        "import matplotlib.pyplot as plt\n",
        "\n",
        "vAR_labels = ['A', 'B', 'C', 'D']\n",
        "vAR_values = [20, 30, 40, 10]\n",
        "plt.pie(vAR_values, labels=vAR_labels, startangle=90, autopct='%1.1f%%')\n",
        "plt.axis('equal')\n",
        "plt.title('Pie Chart')\n",
        "\n",
        "print(\"**************************OUTPUT***************************** \\n\")\n",
        "\n",
        "plt.show()\n",
        "\n"
      ],
      "metadata": {
        "colab": {
          "base_uri": "https://localhost:8080/",
          "height": 299
        },
        "id": "KQpnZldksC2_",
        "outputId": "bf880dc9-6872-4569-937b-3e62a5520350"
      },
      "execution_count": null,
      "outputs": [
        {
          "output_type": "stream",
          "name": "stdout",
          "text": [
            "**************************OUTPUT***************************** \n",
            "\n"
          ]
        },
        {
          "output_type": "display_data",
          "data": {
            "text/plain": [
              "<Figure size 432x288 with 1 Axes>"
            ],
            "image/png": "[encoded data removed]"
          },
          "metadata": {}
        }
      ]
    },
    {
      "cell_type": "code",
      "source": [
        "#Box plot: To create a simple box plot in Matplotlib, you can use the following code:\n",
        "import matplotlib.pyplot as plt\n",
        "import numpy as np\n",
        "\n",
        "vAR_data = np.random.normal(100, 10, 1000)\n",
        "plt.boxplot(vAR_data)\n",
        "plt.xlabel('Data')\n",
        "plt.ylabel('Values')\n",
        "plt.title('Box Plot')\n",
        "\n",
        "print(\"**************************OUTPUT***************************** \\n\")\n",
        "\n",
        "plt.show()\n",
        "\n"
      ],
      "metadata": {
        "colab": {
          "base_uri": "https://localhost:8080/",
          "height": 330
        },
        "id": "6muExLltvAVX",
        "outputId": "43d4052c-080f-4a98-e166-18b94efd28e2"
      },
      "execution_count": null,
      "outputs": [
        {
          "output_type": "stream",
          "name": "stdout",
          "text": [
            "**************************OUTPUT***************************** \n",
            "\n"
          ]
        },
        {
          "output_type": "display_data",
          "data": {
            "text/plain": [
              "<Figure size 432x288 with 1 Axes>"
            ],
            "image/png": "[encoded data removed]"
          },
          "metadata": {
            "needs_background": "light"
          }
        }
      ]
    },
    {
      "cell_type": "code",
      "source": [
        "#Stacked bar plot: To create a simple stacked bar plot in Matplotlib, you can use the following code:\n",
        "import matplotlib.pyplot as plt\n",
        "\n",
        "vAR_x = [1, 2, 3, 4, 5]\n",
        "vAR_y1 = [2, 4, 6, 8, 10]\n",
        "vAR_y2 = [3, 6, 9, 12, 15]\n",
        "plt.bar(vAR_x, vAR_y1, label='y1')\n",
        "plt.bar(vAR_x, vAR_y2, bottom=vAR_y1, label='y2')\n",
        "plt.xlabel('X-axis')\n",
        "plt.ylabel('Y-axis')\n",
        "plt.title('Stacked Bar Plot')\n",
        "plt.legend()\n",
        "\n",
        "print(\"**************************OUTPUT***************************** \\n\")\n",
        "\n",
        "plt.show()\n",
        "\n"
      ],
      "metadata": {
        "colab": {
          "base_uri": "https://localhost:8080/",
          "height": 330
        },
        "id": "8SplvI0KvQJj",
        "outputId": "64a5d3da-15d6-4ef5-f1a2-313ca90d9bb8"
      },
      "execution_count": null,
      "outputs": [
        {
          "output_type": "stream",
          "name": "stdout",
          "text": [
            "**************************OUTPUT***************************** \n",
            "\n"
          ]
        },
        {
          "output_type": "display_data",
          "data": {
            "text/plain": [
              "<Figure size 432x288 with 1 Axes>"
            ],
            "image/png": "[encoded data removed]"
          },
          "metadata": {
            "needs_background": "light"
          }
        }
      ]
    },
    {
      "cell_type": "code",
      "source": [
        "# Heatmap Plot: A Heatmap Plot is used to represent the relationship between two continuous variables. \n",
        "It shows the relationship between two variables as a grid of colored cells, where each cell represents the value of two variables.\n",
        "\n",
        "#Heatmap: To create a simple heatmap in Matplotlib, you can use the following code:\n",
        "import seaborn as sns\n",
        "import matplotlib.pyplot as plt\n",
        "import pandas as pd\n",
        "\n",
        "vAR_flights = sns.load_dataset(\"flights\")\n",
        "vAR_flights = vAR_flights.pivot(\"month\", \"year\", \"passengers\")\n",
        "\n",
        "sns.heatmap(vAR_flights, cmap=\"YlGnBu\")\n",
        "\n",
        "print(\"**************************OUTPUT***************************** \\n\")\n",
        "\n",
        "plt.show()\n",
        "\n"
      ],
      "metadata": {
        "colab": {
          "base_uri": "https://localhost:8080/",
          "height": 330
        },
        "id": "9HLVRSBSFxLm",
        "outputId": "6fe72db7-9c5f-48f9-fee8-fded323ef137"
      },
      "execution_count": null,
      "outputs": [
        {
          "output_type": "stream",
          "name": "stdout",
          "text": [
            "**************************OUTPUT***************************** \n",
            "\n"
          ]
        },
        {
          "output_type": "display_data",
          "data": {
            "text/plain": [
              "<Figure size 432x288 with 2 Axes>"
            ],
            "image/png": "[encoded data removed]"
          },
          "metadata": {
            "needs_background": "light"
          }
        }
      ]
    }
  ]
}