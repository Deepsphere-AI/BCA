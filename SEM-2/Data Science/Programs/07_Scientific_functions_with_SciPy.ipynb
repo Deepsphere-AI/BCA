{
  "nbformat": 4,
  "nbformat_minor": 0,
  "metadata": {
    "colab": {
      "provenance": [],
      "include_colab_link": true
    },
    "kernelspec": {
      "name": "python3",
      "display_name": "Python 3"
    },
    "language_info": {
      "name": "python"
    }
  },
  "cells": [
    {
      "cell_type": "markdown",
      "metadata": {
        "id": "view-in-github",
        "colab_type": "text"
      },
      "source": [
        "<a href=\"https://colab.research.google.com/github/Deepsphere-AI/BCA/blob/main/SEM-2/Data%20Science/Programs/07_Scientific_functions_with_SciPy.ipynb\" target=\"_parent\"><img src=\"https://colab.research.google.com/assets/colab-badge.svg\" alt=\"Open In Colab\"/></a>"
      ]
    },
    {
      "cell_type": "code",
      "execution_count": 14,
      "metadata": {
        "colab": {
          "base_uri": "https://localhost:8080/"
        },
        "id": "LJVdm1nrc0xe",
        "outputId": "ccfdbfad-5fb9-4636-96ef-81af5e072c26"
      },
      "outputs": [
        {
          "output_type": "stream",
          "name": "stdout",
          "text": [
            "Looking in indexes: https://pypi.org/simple, https://us-python.pkg.dev/colab-wheels/public/simple/\n",
            "Requirement already satisfied: scipy in /usr/local/lib/python3.8/dist-packages (1.7.3)\n",
            "Requirement already satisfied: numpy<1.23.0,>=1.16.5 in /usr/local/lib/python3.8/dist-packages (from scipy) (1.22.4)\n",
            "--2023-03-02 09:33:12--  https://github.com/Deepsphere-AI/BCA/blob/main/SEM-2/Data%20Science/Programs/Data/example.mat?raw=true\n",
            "Resolving github.com (github.com)... 140.82.113.4\n",
            "Connecting to github.com (github.com)|140.82.113.4|:443... connected.\n",
            "HTTP request sent, awaiting response... 302 Found\n",
            "Location: https://github.com/Deepsphere-AI/BCA/raw/main/SEM-2/Data%20Science/Programs/Data/example.mat [following]\n",
            "--2023-03-02 09:33:12--  https://github.com/Deepsphere-AI/BCA/raw/main/SEM-2/Data%20Science/Programs/Data/example.mat\n",
            "Reusing existing connection to github.com:443.\n",
            "HTTP request sent, awaiting response... 302 Found\n",
            "Location: https://raw.githubusercontent.com/Deepsphere-AI/BCA/main/SEM-2/Data%20Science/Programs/Data/example.mat [following]\n",
            "--2023-03-02 09:33:12--  https://raw.githubusercontent.com/Deepsphere-AI/BCA/main/SEM-2/Data%20Science/Programs/Data/example.mat\n",
            "Resolving raw.githubusercontent.com (raw.githubusercontent.com)... 185.199.111.133, 185.199.108.133, 185.199.109.133, ...\n",
            "Connecting to raw.githubusercontent.com (raw.githubusercontent.com)|185.199.111.133|:443... connected.\n",
            "HTTP request sent, awaiting response... 200 OK\n",
            "Length: 416 [application/octet-stream]\n",
            "Saving to: ‘example.mat?raw=true’\n",
            "\n",
            "example.mat?raw=tru 100%[===================>]     416  --.-KB/s    in 0s      \n",
            "\n",
            "2023-03-02 09:33:12 (16.8 MB/s) - ‘example.mat?raw=true’ saved [416/416]\n",
            "\n",
            "\n",
            "***************   OUTPUT   ****************\n",
            "\n",
            "Determinant of A: -12.0\n",
            "\n",
            "Inverse of A:\n",
            "[[-1.33333333  0.33333333  0.25      ]\n",
            " [ 0.66666667  0.33333333 -0.5       ]\n",
            " [ 0.33333333 -0.33333333  0.25      ]]\n",
            "\n",
            "Product of A and B:\n",
            "[[17 30 25]\n",
            " [53 72 67]\n",
            " [56 72 68]]\n"
          ]
        }
      ],
      "source": [
        "# ***********************************************************************************************\n",
        "  \n",
        "  # File Name \t:   07_Scientific_function_with_Scipy\n",
        "  # Purpose \t  :   Apply Scientific functions on a given dataset with SciPy\n",
        "  # Author\t    :   Deepsphere.ai\n",
        "  # Reviewer \t  :   Jothi Periasamy\n",
        "  # Date        :   08/02/2023 \n",
        "  # Version\t    :   1.0\t\n",
        "  \n",
        "# ***********************************************************************************************\n",
        "\n",
        "## Program Description : Load data file and perform scientific function for \n",
        "# Finding determinant\n",
        "# matrix inverse \n",
        "# matrix multiplication\n",
        "\n",
        "## Python Development Environment & Runtime - Python, Anaconda\n",
        "\n",
        "\n",
        "# ***********************************************************************************************\n",
        "\n",
        "#Installing scipy\n",
        "!pip install scipy\n",
        "\n",
        "#Importing warnings to ignore them\n",
        "import warnings\n",
        "warnings.filterwarnings(\"ignore\")\n",
        "\n",
        "#Importing the required libraries\n",
        "import numpy as np\n",
        "from scipy import linalg\n",
        "#Importing loadmat from scipy\n",
        "from scipy.io import loadmat\n",
        "\n",
        "#Matlab dataset\n",
        "\n",
        "!wget https://github.com/Deepsphere-AI/BCA/blob/main/SEM-2/Data%20Science/Programs/Data/example.mat?raw=true\n",
        "\n",
        "data = loadmat('/content/example.mat?raw=true')\n",
        "\n",
        "#Assigning value from mat file to the variables\n",
        "\n",
        "A = data[\"variable_name_1\"]\n",
        "B = data[\"variable_name_2\"]\n",
        "\n",
        "print(\"\\n***************   OUTPUT   ****************\\n\")\n",
        "\n",
        "# Compute the determinant of A\n",
        "det_A = linalg.det(A)\n",
        "print(\"Determinant of A:\", det_A)\n",
        "print()\n",
        "# Compute the inverse of A\n",
        "inv_A = linalg.inv(A)\n",
        "print(\"Inverse of A:\")\n",
        "print(inv_A)\n",
        "print()\n",
        "\n",
        "# Compute the product of A and B\n",
        "prod_AB = np.dot(A, B)\n",
        "print(\"Product of A and B:\")\n",
        "print(prod_AB)"
      ]
    }
  ]
}