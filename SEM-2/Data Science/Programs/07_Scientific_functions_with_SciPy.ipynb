{
  "nbformat": 4,
  "nbformat_minor": 0,
  "metadata": {
    "colab": {
      "provenance": [],
      "include_colab_link": true
    },
    "kernelspec": {
      "name": "python3",
      "display_name": "Python 3"
    },
    "language_info": {
      "name": "python"
    }
  },
  "cells": [
    {
      "cell_type": "markdown",
      "metadata": {
        "id": "view-in-github",
        "colab_type": "text"
      },
      "source": [
        "<a href=\"https://colab.research.google.com/github/Deepsphere-AI/BCA/blob/main/SEM-2/Data%20Science/Programs/07_Scientific_functions_with_SciPy.ipynb\" target=\"_parent\"><img src=\"https://colab.research.google.com/assets/colab-badge.svg\" alt=\"Open In Colab\"/></a>"
      ]
    },
    {
      "cell_type": "code",
      "execution_count": 9,
      "metadata": {
        "colab": {
          "base_uri": "https://localhost:8080/"
        },
        "id": "LJVdm1nrc0xe",
        "outputId": "dce15e96-1e38-4de6-a0cb-5dbecc36be88"
      },
      "outputs": [
        {
          "output_type": "stream",
          "name": "stdout",
          "text": [
            "Looking in indexes: https://pypi.org/simple, https://us-python.pkg.dev/colab-wheels/public/simple/\n",
            "Requirement already satisfied: scipy in /usr/local/lib/python3.8/dist-packages (1.7.3)\n",
            "Requirement already satisfied: numpy<1.23.0,>=1.16.5 in /usr/local/lib/python3.8/dist-packages (from scipy) (1.21.6)\n",
            "--2023-02-09 09:56:41--  https://github.com/Deepsphere-AI/BCA/blob/main/SEM-2/Data%20Science/Programs/Data/sample_dataset.mat?raw=true\n",
            "Resolving github.com (github.com)... 140.82.114.4\n",
            "Connecting to github.com (github.com)|140.82.114.4|:443... connected.\n",
            "HTTP request sent, awaiting response... 302 Found\n",
            "Location: https://github.com/Deepsphere-AI/BCA/raw/main/SEM-2/Data%20Science/Programs/Data/sample_dataset.mat [following]\n",
            "--2023-02-09 09:56:41--  https://github.com/Deepsphere-AI/BCA/raw/main/SEM-2/Data%20Science/Programs/Data/sample_dataset.mat\n",
            "Reusing existing connection to github.com:443.\n",
            "HTTP request sent, awaiting response... 302 Found\n",
            "Location: https://raw.githubusercontent.com/Deepsphere-AI/BCA/main/SEM-2/Data%20Science/Programs/Data/sample_dataset.mat [following]\n",
            "--2023-02-09 09:56:41--  https://raw.githubusercontent.com/Deepsphere-AI/BCA/main/SEM-2/Data%20Science/Programs/Data/sample_dataset.mat\n",
            "Resolving raw.githubusercontent.com (raw.githubusercontent.com)... 185.199.108.133, 185.199.109.133, 185.199.110.133, ...\n",
            "Connecting to raw.githubusercontent.com (raw.githubusercontent.com)|185.199.108.133|:443... connected.\n",
            "HTTP request sent, awaiting response... 200 OK\n",
            "Length: 336 [application/octet-stream]\n",
            "Saving to: ‘sample_dataset.mat?raw=true.8’\n",
            "\n",
            "sample_dataset.mat? 100%[===================>]     336  --.-KB/s    in 0s      \n",
            "\n",
            "2023-02-09 09:56:41 (18.1 MB/s) - ‘sample_dataset.mat?raw=true.8’ saved [336/336]\n",
            "\n",
            "\n",
            "***************   OUTPUT   ****************\n",
            "\n",
            "Mean of Height = 175.0\n",
            "Median of Height =  175.0\n",
            "STD of Height =  7.0710678118654755\n",
            "Mean of weight = 70.0\n",
            "Mean of weight = 70.0\n",
            "Mean of weight = 7.0710678118654755\n",
            "correlation : 1.0\n",
            "p_value : 0.0\n"
          ]
        }
      ],
      "source": [
        "# ***********************************************************************************************\n",
        "  \n",
        "  # File Name \t:   07_Scientific_function_with_Scipy\n",
        "  # Purpose \t  :   Apply Scientific functions on a given dataset with SciPy\n",
        "  # Author\t    :   Deepsphere.ai\n",
        "  # Reviewer \t  :   Jothi Periasamy\n",
        "  # Date        :   08/02/2023 \n",
        "  # Version\t    :   1.0\t\n",
        "  \n",
        "# ***********************************************************************************************\n",
        "\n",
        "## Program Description : Load data file and perform scientific function Mean, Meadian, Standard deviation.\n",
        "\n",
        "## Python Development Environment & Runtime - Python, Anaconda\n",
        "\n",
        "\n",
        "# ***********************************************************************************************\n",
        "\n",
        "#Installing scipy\n",
        "!pip install scipy\n",
        "\n",
        "#Importing warnings to ignore them\n",
        "import warnings\n",
        "warnings.filterwarnings(\"ignore\")\n",
        "\n",
        "#Importing the required libraries\n",
        "import numpy as np\n",
        "import scipy as sp\n",
        "import scipy.stats as stats\n",
        "\n",
        "#Matlab dataset\n",
        "!wget https://github.com/Deepsphere-AI/BCA/blob/main/SEM-2/Data%20Science/Programs/Data/sample_dataset.mat?raw=true\n",
        "\n",
        "#Importing loadmat from scipy\n",
        "from scipy.io import loadmat\n",
        "data = loadmat('/content/sample_dataset.mat?raw=true')\n",
        "\n",
        "#Calculating height and weight of the data\n",
        "height = data['height']\n",
        "weight = data['weight']\n",
        "print(\"\\n***************   OUTPUT   ****************\\n\")\n",
        "#Calculating mean, median and mode\n",
        "height_mean = np.mean(height)\n",
        "print('Mean of Height =' ,height_mean)\n",
        "height_median = np.median(height)\n",
        "print('Median of Height = ',height_median)\n",
        "height_std = np.std(height)\n",
        "print('STD of Height = ',height_std)\n",
        "\n",
        "weight_mean = np.mean(weight)\n",
        "weight_median = np.median(weight)\n",
        "weight_std = np.std(weight)\n",
        "print('Mean of weight =' ,weight_mean)\n",
        "print('Mean of weight =' ,weight_median)\n",
        "print('Mean of weight =' ,weight_std)\n",
        "\n",
        "#Reshaping the data\n",
        "height = height.reshape(-1)\n",
        "weight = weight.reshape(-1)\n",
        "\n",
        "#Fitting height and weight\n",
        "fit = sp.polyfit(height, weight, 1)\n",
        "\n",
        "#Printing corrrelation and p_value\n",
        "correlation, p_value = sp.stats.pearsonr(height, weight)\n",
        "print('correlation :',correlation)\n",
        "print('p_value :',p_value)\n"
      ]
    },
    {
      "cell_type": "code",
      "source": [],
      "metadata": {
        "id": "0uoKWt14lVES"
      },
      "execution_count": null,
      "outputs": []
    }
  ]
}