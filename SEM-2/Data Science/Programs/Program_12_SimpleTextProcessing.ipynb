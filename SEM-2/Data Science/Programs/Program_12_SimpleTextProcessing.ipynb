{
  "nbformat": 4,
  "nbformat_minor": 0,
  "metadata": {
    "colab": {
      "provenance": [],
      "authorship_tag": "ABX9TyOzgDUAmpJIUnwjVLMVErvA",
      "include_colab_link": true
    },
    "kernelspec": {
      "name": "python3",
      "display_name": "Python 3"
    },
    "language_info": {
      "name": "python"
    }
  },
  "cells": [
    {
      "cell_type": "markdown",
      "metadata": {
        "id": "view-in-github",
        "colab_type": "text"
      },
      "source": [
        "<a href=\"https://colab.research.google.com/github/Deepsphere-AI/BCA/blob/main/SEM-2/Data%20Science/Programs/Program_12_SimpleTextProcessing.ipynb\" target=\"_parent\"><img src=\"https://colab.research.google.com/assets/colab-badge.svg\" alt=\"Open In Colab\"/></a>"
      ]
    },
    {
      "cell_type": "markdown",
      "source": [
        "# **Lab 12: Install and perform a simple text processing using NLTK**"
      ],
      "metadata": {
        "id": "Sa3lfMiLb5lw"
      }
    },
    {
      "cell_type": "markdown",
      "source": [
        "To install NLTK, you can use the pip package manager. Open up the terminal or command prompt and run the following command:"
      ],
      "metadata": {
        "id": "wxMpLy8ocMsl"
      }
    },
    {
      "cell_type": "code",
      "source": [
        "!pip install nltk\n"
      ],
      "metadata": {
        "id": "KqYXQYllcNmw",
        "colab": {
          "base_uri": "https://localhost:8080/"
        },
        "outputId": "e2fbf4ea-33b8-48be-b662-044164b7759e"
      },
      "execution_count": 36,
      "outputs": [
        {
          "output_type": "stream",
          "name": "stdout",
          "text": [
            "Looking in indexes: https://pypi.org/simple, https://us-python.pkg.dev/colab-wheels/public/simple/\n",
            "Requirement already satisfied: nltk in /usr/local/lib/python3.8/dist-packages (3.7)\n",
            "Requirement already satisfied: tqdm in /usr/local/lib/python3.8/dist-packages (from nltk) (4.64.1)\n",
            "Requirement already satisfied: click in /usr/local/lib/python3.8/dist-packages (from nltk) (7.1.2)\n",
            "Requirement already satisfied: regex>=2021.8.3 in /usr/local/lib/python3.8/dist-packages (from nltk) (2022.6.2)\n",
            "Requirement already satisfied: joblib in /usr/local/lib/python3.8/dist-packages (from nltk) (1.2.0)\n"
          ]
        }
      ]
    },
    {
      "cell_type": "markdown",
      "source": [
        "To import the NLTK library, you will use the following code in Python:"
      ],
      "metadata": {
        "id": "4sVqZ9ujcR9f"
      }
    },
    {
      "cell_type": "code",
      "source": [
        "import nltk               \n"
      ],
      "metadata": {
        "id": "Krse98qpcSuo"
      },
      "execution_count": 37,
      "outputs": []
    },
    {
      "cell_type": "markdown",
      "source": [
        "Now that you have installed and imported the NLTK library, you can start with a simple text processing task. Here is an example code to perform word tokenization:\n",
        "\n"
      ],
      "metadata": {
        "id": "wWc1Mc9ocdbo"
      }
    },
    {
      "cell_type": "code",
      "source": [
        "from nltk.tokenize import word_tokenize\n",
        "\n",
        "vAR_text = \"NLTK is a leading platform for building Python programs to work with human language data.\"\n",
        "\n",
        "# Tokenize the text\n",
        "vAR_tokens = word_tokenize(vAR_text)\n",
        "\n",
        "# Print the tokens\n",
        "\n",
        "print(\"**************************OUTPUT***************************** \\n\")\n",
        "\n",
        "print(vAR_tokens)\n",
        "\n",
        "print(\"\\n*************************************************************\")\n"
      ],
      "metadata": {
        "colab": {
          "base_uri": "https://localhost:8080/"
        },
        "id": "UD2SqFvAceB8",
        "outputId": "a1c441cb-e245-4840-8ebd-f04e76da3198"
      },
      "execution_count": 39,
      "outputs": [
        {
          "output_type": "stream",
          "name": "stdout",
          "text": [
            "**************************OUTPUT***************************** \n",
            "\n",
            "['NLTK', 'is', 'a', 'leading', 'platform', 'for', 'building', 'Python', 'programs', 'to', 'work', 'with', 'human', 'language', 'data', '.']\n",
            "\n",
            "*************************************************************\n"
          ]
        }
      ]
    },
    {
      "cell_type": "markdown",
      "source": [
        "In this lab, you learned how to install and use nltk and how to perform a simple text processing using NLTK "
      ],
      "metadata": {
        "id": "63J2nibPcjSA"
      }
    }
  ]
}