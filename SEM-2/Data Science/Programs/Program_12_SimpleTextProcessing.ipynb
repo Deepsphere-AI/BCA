{
  "nbformat": 4,
  "nbformat_minor": 0,
  "metadata": {
    "colab": {
      "provenance": [],
      "authorship_tag": "ABX9TyN0Oht4HAqDWXcCtolXT6GF",
      "include_colab_link": true
    },
    "kernelspec": {
      "name": "python3",
      "display_name": "Python 3"
    },
    "language_info": {
      "name": "python"
    }
  },
  "cells": [
    {
      "cell_type": "markdown",
      "metadata": {
        "id": "view-in-github",
        "colab_type": "text"
      },
      "source": [
        "<a href=\"https://colab.research.google.com/github/Deepsphere-AI/BCA/blob/main/SEM-2/Data%20Science/Programs/Program_12_SimpleTextProcessing.ipynb\" target=\"_parent\"><img src=\"https://colab.research.google.com/assets/colab-badge.svg\" alt=\"Open In Colab\"/></a>"
      ]
    },
    {
      "cell_type": "markdown",
      "source": [
        "# **Lab 12: Install and perform a simple text processing using NLTK**"
      ],
      "metadata": {
        "id": "Sa3lfMiLb5lw"
      }
    },
    {
      "cell_type": "markdown",
      "source": [
        "To install NLTK, you can use the pip package manager. Open up the terminal or command prompt and run the following command:"
      ],
      "metadata": {
        "id": "wxMpLy8ocMsl"
      }
    },
    {
      "cell_type": "code",
      "source": [
        "#Installing the nltk library\n",
        "!pip install nltk\n",
        "\n"
      ],
      "metadata": {
        "id": "KqYXQYllcNmw",
        "colab": {
          "base_uri": "https://localhost:8080/"
        },
        "outputId": "f75b998e-4edd-4cab-e0b1-eb433de73b04"
      },
      "execution_count": 1,
      "outputs": [
        {
          "output_type": "stream",
          "name": "stdout",
          "text": [
            "Looking in indexes: https://pypi.org/simple, https://us-python.pkg.dev/colab-wheels/public/simple/\n",
            "Requirement already satisfied: nltk in /usr/local/lib/python3.8/dist-packages (3.7)\n",
            "Requirement already satisfied: tqdm in /usr/local/lib/python3.8/dist-packages (from nltk) (4.64.1)\n",
            "Requirement already satisfied: click in /usr/local/lib/python3.8/dist-packages (from nltk) (7.1.2)\n",
            "Requirement already satisfied: joblib in /usr/local/lib/python3.8/dist-packages (from nltk) (1.2.0)\n",
            "Requirement already satisfied: regex>=2021.8.3 in /usr/local/lib/python3.8/dist-packages (from nltk) (2022.6.2)\n"
          ]
        }
      ]
    },
    {
      "cell_type": "markdown",
      "source": [
        "To import the NLTK library, you will use the following code in Python:"
      ],
      "metadata": {
        "id": "4sVqZ9ujcR9f"
      }
    },
    {
      "cell_type": "code",
      "source": [
        "#Importing the nltk library, PorterStemmer and word_tokenize\n",
        "import nltk     \n",
        "from nltk.stem import PorterStemmer\n",
        "from nltk.tokenize import word_tokenize          \n"
      ],
      "metadata": {
        "id": "Krse98qpcSuo"
      },
      "execution_count": 2,
      "outputs": []
    },
    {
      "cell_type": "code",
      "source": [
        "#This tokenizer divides a text into a list of sentences by using an unsupervised algorithm to build a model for abbreviation words, collocations, and words that start sentences.\n",
        "nltk.download('punkt')"
      ],
      "metadata": {
        "id": "t-6dfTdd6TLj",
        "outputId": "5485ca1d-8207-4f97-a0be-d9e2a13f4056",
        "colab": {
          "base_uri": "https://localhost:8080/"
        }
      },
      "execution_count": 3,
      "outputs": [
        {
          "output_type": "stream",
          "name": "stderr",
          "text": [
            "[nltk_data] Downloading package punkt to /root/nltk_data...\n",
            "[nltk_data]   Unzipping tokenizers/punkt.zip.\n"
          ]
        },
        {
          "output_type": "execute_result",
          "data": {
            "text/plain": [
              "True"
            ]
          },
          "metadata": {},
          "execution_count": 3
        }
      ]
    },
    {
      "cell_type": "markdown",
      "source": [
        "Now that you have installed and imported the NLTK library, you can start with a simple text processing task. Here is an example code to perform word tokenization:\n",
        "\n"
      ],
      "metadata": {
        "id": "wWc1Mc9ocdbo"
      }
    },
    {
      "cell_type": "code",
      "source": [
        "#Performing the word tokenization\n",
        "#Tokenization is used in natural language processing to split paragraphs and sentences into smaller units that can be more easily assigned meaning. \n",
        "\n",
        "from nltk.tokenize import word_tokenize\n",
        "\n",
        "vAR_text = \"NLTK is a leading platform for building Python programs to work with human language data.\"\n",
        "\n",
        "# Tokenize the text\n",
        "vAR_tokens = word_tokenize(vAR_text)\n",
        "\n",
        "# Print the tokens\n",
        "\n",
        "print(\"**************************OUTPUT***************************** \\n\")\n",
        "\n",
        "print(vAR_tokens)\n",
        "\n",
        "print(\"\\n*************************************************************\")\n"
      ],
      "metadata": {
        "colab": {
          "base_uri": "https://localhost:8080/"
        },
        "id": "UD2SqFvAceB8",
        "outputId": "59435e24-64e2-46d6-bb7b-32486ca11aed"
      },
      "execution_count": 4,
      "outputs": [
        {
          "output_type": "stream",
          "name": "stdout",
          "text": [
            "**************************OUTPUT***************************** \n",
            "\n",
            "['NLTK', 'is', 'a', 'leading', 'platform', 'for', 'building', 'Python', 'programs', 'to', 'work', 'with', 'human', 'language', 'data', '.']\n",
            "\n",
            "*************************************************************\n"
          ]
        }
      ]
    },
    {
      "cell_type": "markdown",
      "source": [
        "Stemming is a process that stems or removes last few characters from a word, often leading to incorrect meanings and spelling.\n",
        "\n",
        "For instance, stemming the word ‘Caring‘ would return ‘Car‘.\n",
        "\n"
      ],
      "metadata": {
        "id": "LMGZWi9w7EFM"
      }
    },
    {
      "cell_type": "code",
      "source": [
        "#Performing stemming\n",
        "vAR_ps = PorterStemmer()\n",
        "vAR_words = [\"program\", \"Books\", \"programmer\", \"Visualizing\", \"played\"]\n",
        "for w in vAR_words:\n",
        "    print(w, \" : \", vAR_ps.stem(w))"
      ],
      "metadata": {
        "id": "S1yDwm2K6jfx",
        "outputId": "b0b4c911-6126-434c-ffaf-3570446704e2",
        "colab": {
          "base_uri": "https://localhost:8080/"
        }
      },
      "execution_count": 13,
      "outputs": [
        {
          "output_type": "stream",
          "name": "stdout",
          "text": [
            "program  :  program\n",
            "Books  :  book\n",
            "programmer  :  programm\n",
            "Visualizing  :  visual\n",
            "played  :  play\n"
          ]
        }
      ]
    },
    {
      "cell_type": "markdown",
      "source": [
        "In this lab, you learned how to install and use nltk and how to perform a simple text processing using NLTK "
      ],
      "metadata": {
        "id": "63J2nibPcjSA"
      }
    }
  ]
}