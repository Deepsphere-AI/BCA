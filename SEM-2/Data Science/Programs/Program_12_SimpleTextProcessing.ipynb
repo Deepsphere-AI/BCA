{
  "nbformat": 4,
  "nbformat_minor": 0,
  "metadata": {
    "colab": {
      "provenance": [],
      "authorship_tag": "ABX9TyMuX+v5kiYdk9Ks9o8AlukY",
      "include_colab_link": true
    },
    "kernelspec": {
      "name": "python3",
      "display_name": "Python 3"
    },
    "language_info": {
      "name": "python"
    }
  },
  "cells": [
    {
      "cell_type": "markdown",
      "metadata": {
        "id": "view-in-github",
        "colab_type": "text"
      },
      "source": [
        "<a href=\"https://colab.research.google.com/github/Deepsphere-AI/BCA/blob/main/SEM-2/Data%20Science/Programs/Program_12_SimpleTextProcessing.ipynb\" target=\"_parent\"><img src=\"https://colab.research.google.com/assets/colab-badge.svg\" alt=\"Open In Colab\"/></a>"
      ]
    },
    {
      "cell_type": "code",
      "source": [
        "# ***********************************************************************************************\n",
        "  \n",
        "  # File Name \t:   12_SimpleTextProcessing\n",
        "  # Purpose \t  :   Install, Import nltk(Natural Language Toolkit) and Explore a Simple sentence for text Processing\n",
        "  # Author\t    :   Deepsphere.ai\n",
        "  # Reviewer \t  :   Jothi Periasamy\n",
        "  # Date        :   08/02/2023 \n",
        "  # Version\t    :   1.0\t\n",
        "  \n",
        "# ***********************************************************************************************\n",
        "\n",
        "## Program Description : Install, Import nltk and Explore a sentence for text Processing\n",
        "\n",
        "## Python Development Environment & Runtime - Python, Anaconda\n",
        "\n",
        "\n",
        "#To install NLTK, you can use the pip package manager. Open up the terminal or colab and run the following command:\n",
        "#!pip install nltk\n",
        "\n",
        "#Importing the nltk library, PorterStemmer and word_tokenize\n",
        "import nltk\n",
        "\n",
        "#The Porter stemming algorithm (or 'Porter stemmer') is a process for removing the commoner morphological and inflexional endings from words in English.     \n",
        "from nltk.stem import PorterStemmer\n",
        "\n",
        "#Nltk word_tokenize is used to extract tokens from a string of characters using the word tokenize method.\n",
        "from nltk.tokenize import word_tokenize  \n",
        "\n",
        "#This tokenizer divides a text into a list of sentences by using an unsupervised algorithm to build a model for abbreviation words, collocations, and words that start sentences.\n",
        "nltk.download('punkt')\n",
        "\n",
        "#Now that you have installed and imported the NLTK library, you can start with a simple text processing task. Here is an example code to perform word tokenization:\n",
        "\n",
        "#Performing the word tokenization\n",
        "#Tokenization is used in natural language processing to split paragraphs and sentences into smaller units that can be more easily assigned meaning. \n",
        "from nltk.tokenize import word_tokenize\n",
        "\n",
        "vAR_text = \"Stemming and Lemmatization are Text Normalization techniques in the field of Natural Language Processing\"\n",
        "\n",
        "# Tokenize the text\n",
        "vAR_tokens = word_tokenize(vAR_text)\n",
        "\n",
        "# Print the tokens\n",
        "print(\"**************************OUTPUT***************************** \\n\")\n",
        "print(vAR_tokens)\n",
        "print(\"\\n*************************************************************\")\n",
        "\n",
        "#Stemming is a process that stems or removes last few characters from a word, often leading to incorrect meanings and spelling.\n",
        "#For instance, stemming the word 'Caring' would return 'Car'.\n",
        "vAR_ps = PorterStemmer()\n",
        "\n",
        "#Printing the output for the stemming process\n",
        "print(\"\\n**************************OUTPUT***************************** \\n\")\n",
        "for w in vAR_tokens:\n",
        "    print(w, \" : \", vAR_ps.stem(w))\n",
        "print(\"\\n*************************************************************\")\n"
      ],
      "metadata": {
        "id": "QSbOngqpy0XT",
        "outputId": "c9eff1ee-b58d-447d-9634-2db16bb01bfd",
        "colab": {
          "base_uri": "https://localhost:8080/"
        }
      },
      "execution_count": 13,
      "outputs": [
        {
          "output_type": "stream",
          "name": "stdout",
          "text": [
            "**************************OUTPUT***************************** \n",
            "\n",
            "['Stemming', 'and', 'Lemmatization', 'are', 'Text', 'Normalization', 'techniques', 'in', 'the', 'field', 'of', 'Natural', 'Language', 'Processing']\n",
            "\n",
            "*************************************************************\n",
            "\n",
            "**************************OUTPUT***************************** \n",
            "\n",
            "Stemming  :  stem\n",
            "and  :  and\n",
            "Lemmatization  :  lemmat\n",
            "are  :  are\n",
            "Text  :  text\n",
            "Normalization  :  normal\n",
            "techniques  :  techniqu\n",
            "in  :  in\n",
            "the  :  the\n",
            "field  :  field\n",
            "of  :  of\n",
            "Natural  :  natur\n",
            "Language  :  languag\n",
            "Processing  :  process\n",
            "\n",
            "*************************************************************\n"
          ]
        },
        {
          "output_type": "stream",
          "name": "stderr",
          "text": [
            "[nltk_data] Downloading package punkt to /root/nltk_data...\n",
            "[nltk_data]   Package punkt is already up-to-date!\n"
          ]
        }
      ]
    }
  ]
}