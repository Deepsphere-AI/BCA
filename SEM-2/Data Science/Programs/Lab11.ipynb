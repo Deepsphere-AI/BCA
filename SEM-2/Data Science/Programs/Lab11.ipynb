{
  "nbformat": 4,
  "nbformat_minor": 0,
  "metadata": {
    "colab": {
      "provenance": [],
      "authorship_tag": "ABX9TyMK5sUx0doms3EMVguPYn6I",
      "include_colab_link": true
    },
    "kernelspec": {
      "name": "python3",
      "display_name": "Python 3"
    },
    "language_info": {
      "name": "python"
    }
  },
  "cells": [
    {
      "cell_type": "markdown",
      "metadata": {
        "id": "view-in-github",
        "colab_type": "text"
      },
      "source": [
        "<a href=\"https://colab.research.google.com/github/Deepsphere-AI/BCA/blob/main/SEM-2/Data%20Science/Programs/Lab11.ipynb\" target=\"_parent\"><img src=\"https://colab.research.google.com/assets/colab-badge.svg\" alt=\"Open In Colab\"/></a>"
      ]
    },
    {
      "cell_type": "markdown",
      "source": [
        "**Lab 11: Install, Import Tensorflow and Keras. Create a Basic Neural Network with few layers.**"
      ],
      "metadata": {
        "id": "3h7dtKrzbNt5"
      }
    },
    {
      "cell_type": "markdown",
      "source": [
        "To install TensorFlow and Keras, you can use the following pip command in your terminal or command prompt:"
      ],
      "metadata": {
        "id": "kvOsJ4y4bTra"
      }
    },
    {
      "cell_type": "code",
      "execution_count": null,
      "metadata": {
        "id": "Dg0dBGBvawcU"
      },
      "outputs": [],
      "source": [
        "!pip install tensorflow\n",
        "!pip install keras"
      ]
    },
    {
      "cell_type": "markdown",
      "source": [
        "To import these libraries in your Python script, you can use the following code:"
      ],
      "metadata": {
        "id": "E7byMSo9bUq7"
      }
    },
    {
      "cell_type": "code",
      "source": [
        "import tensorflow as tf\n",
        "import keras"
      ],
      "metadata": {
        "id": "h4HTBe9Ya1um"
      },
      "execution_count": null,
      "outputs": []
    },
    {
      "cell_type": "markdown",
      "source": [
        "In your Python script or colab, run the following code to create a neural network with two fully connected layers:"
      ],
      "metadata": {
        "id": "_aPbURFMbVVT"
      }
    },
    {
      "cell_type": "code",
      "source": [
        "# Define the model\n",
        "model = keras.Sequential()\n",
        "\n",
        "# Add a fully connected layer with 128 neurons and ReLU activation function\n",
        "model.add(keras.layers.Dense(128, activation='relu'))\n",
        "\n",
        "# Add a fully connected layer with 64 neurons and ReLU activation function\n",
        "model.add(keras.layers.Dense(64, activation='relu'))\n",
        "\n",
        "# Add the output layer with 10 neurons and softmax activation function\n",
        "model.add(keras.layers.Dense(10, activation='softmax'))"
      ],
      "metadata": {
        "id": "4d-oCVh7a31T"
      },
      "execution_count": null,
      "outputs": []
    },
    {
      "cell_type": "markdown",
      "source": [
        "After creating the model, run the following code to compile it with a categorical cross-entropy loss function and the Adam optimization algorithm:"
      ],
      "metadata": {
        "id": "iXB22eXwbV-_"
      }
    },
    {
      "cell_type": "code",
      "source": [
        "model.compile(loss='categorical_crossentropy',\n",
        "              optimizer='adam',\n",
        "              metrics=['accuracy'])"
      ],
      "metadata": {
        "id": "vtk-mE2Ua9Ne"
      },
      "execution_count": null,
      "outputs": []
    },
    {
      "cell_type": "markdown",
      "source": [
        "You can train the model on a dataset using the 'fit' method. The code below trains the model on a sample dataset for 5 epochs:"
      ],
      "metadata": {
        "id": "xVqwc8b5bWm_"
      }
    },
    {
      "cell_type": "code",
      "source": [
        "\n",
        "# Load the sample dataset\n",
        "(x_train, y_train), (x_test, y_test) = keras.datasets.mnist.load_data()\n",
        "\n",
        "# Preprocess the data\n",
        "x_train = x_train.reshape(-1, 28 * 28) / 255.0\n",
        "x_test = x_test.reshape(-1, 28 * 28) / 255.0\n",
        "\n",
        "# Convert labels to categorical format\n",
        "y_train = keras.utils.to_categorical(y_train)\n",
        "y_test = keras.utils.to_categorical(y_test)\n",
        "\n",
        "# Train the model\n",
        "model.fit(x_train, y_train, epochs=5, batch_size=32)"
      ],
      "metadata": {
        "id": "WAvAceqVbAMz"
      },
      "execution_count": null,
      "outputs": []
    },
    {
      "cell_type": "markdown",
      "source": [
        "In this lab, you learned how to install and use TensorFlow and Keras and how to create a basic neural network using Tensorflow and Keras. "
      ],
      "metadata": {
        "id": "ifjpJeSJbXbW"
      }
    }
  ]
}