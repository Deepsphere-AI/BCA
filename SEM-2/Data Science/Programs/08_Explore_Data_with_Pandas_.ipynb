{
  "nbformat": 4,
  "nbformat_minor": 0,
  "metadata": {
    "colab": {
      "provenance": [],
      "include_colab_link": true
    },
    "kernelspec": {
      "name": "python3",
      "display_name": "Python 3"
    },
    "language_info": {
      "name": "python"
    }
  },
  "cells": [
    {
      "cell_type": "markdown",
      "metadata": {
        "id": "view-in-github",
        "colab_type": "text"
      },
      "source": [
        "<a href=\"https://colab.research.google.com/github/Deepsphere-AI/BCA/blob/main/SEM-2/Data%20Science/Programs/08_Explore_Data_with_Pandas_.ipynb\" target=\"_parent\"><img src=\"https://colab.research.google.com/assets/colab-badge.svg\" alt=\"Open In Colab\"/></a>"
      ]
    },
    {
      "cell_type": "code",
      "source": [
        "# ***********************************************************************************************\n",
        "  \n",
        "  # File Name \t:   08_Explore_Data_with_Pandas\n",
        "  # Purpose \t  :   Install, Import Pandas Learn and Explore a Sample Dataset with it\n",
        "  # Author\t    :   Deepsphere.ai\n",
        "  # Reviewer \t  :   Jothi Periasamy\n",
        "  # Date        :   08/02/2023 \n",
        "  # Version\t    :   1.0\t\n",
        "  \n",
        "# ***********************************************************************************************\n",
        "\n",
        "## Program Description : installing and importing Pandas and explore using Pandas predefined functions head, tail, shape, datatypes and columns.\n",
        "\n",
        "## Python Development Environment & Runtime - Python, Anaconda\n",
        "\n",
        "\n",
        "#Installing pandas\n",
        "!pip install pandas\n",
        "\n",
        "#Importing warnings\n",
        "import warnings\n",
        "warnings.filterwarnings(\"ignore\")\n",
        "from pprint import pprint \n",
        "\n",
        "#Importing pandas\n",
        "import pandas as pd\n",
        "\n",
        "#Reading the data\n",
        "vAR_data = pd.read_csv(\"https://raw.githubusercontent.com/Deepsphere-AI/BCA/main/SEM-2/Data%20Science/Programs/Data/airtravel.csv\")\n",
        "\n",
        "#First 5 data points \n",
        "print(\"\\n***************** OutPut **********************\\n\")\n",
        "print(\"\\n***************** First 5 rows **********************\\n\")\n",
        "vAR_a = vAR_data.head()\n",
        "print(vAR_a)\n",
        "print(\"\\n***************** Last 5 rows **********************\\n\")\n",
        "#Last 5 data points\n",
        "vAR_b = vAR_data.tail()\n",
        "print(vAR_b)\n",
        "print(\"\\n*************** Shape *****************\\n\")\n",
        "#Printing the data shape\n",
        "print('Shape :',vAR_data.shape)\n",
        "print(\"\\n*************** data type *****************\\n\")\n",
        "#Printing the data type\n",
        "print(vAR_data.dtypes)\n",
        "print(\"\\n*************** Columns Names *****************\\n\")\n",
        "#printing the Colunms names \n",
        "print('Columns Names',vAR_data.columns)"
      ],
      "metadata": {
        "id": "P4lhNhWFhFdG",
        "outputId": "98dd9b89-6623-4177-94e8-abcf3bf9ab02",
        "colab": {
          "base_uri": "https://localhost:8080/"
        }
      },
      "execution_count": 2,
      "outputs": [
        {
          "output_type": "stream",
          "name": "stdout",
          "text": [
            "Looking in indexes: https://pypi.org/simple, https://us-python.pkg.dev/colab-wheels/public/simple/\n",
            "Requirement already satisfied: pandas in /usr/local/lib/python3.8/dist-packages (1.3.5)\n",
            "Requirement already satisfied: python-dateutil>=2.7.3 in /usr/local/lib/python3.8/dist-packages (from pandas) (2.8.2)\n",
            "Requirement already satisfied: numpy>=1.17.3 in /usr/local/lib/python3.8/dist-packages (from pandas) (1.21.6)\n",
            "Requirement already satisfied: pytz>=2017.3 in /usr/local/lib/python3.8/dist-packages (from pandas) (2022.7.1)\n",
            "Requirement already satisfied: six>=1.5 in /usr/local/lib/python3.8/dist-packages (from python-dateutil>=2.7.3->pandas) (1.15.0)\n",
            "\n",
            "***************** OutPut **********************\n",
            "\n",
            "\n",
            "***************** First 5 rows **********************\n",
            "\n",
            "  Month   \"1958\"   \"1959\"   \"1960\"\n",
            "0   JAN      340      360      417\n",
            "1   FEB      318      342      391\n",
            "2   MAR      362      406      419\n",
            "3   APR      348      396      461\n",
            "4   MAY      363      420      472\n",
            "\n",
            "***************** Last 5 rows **********************\n",
            "\n",
            "   Month   \"1958\"   \"1959\"   \"1960\"\n",
            "7    AUG      505      559      606\n",
            "8    SEP      404      463      508\n",
            "9    OCT      359      407      461\n",
            "10   NOV      310      362      390\n",
            "11   DEC      337      405      432\n",
            "\n",
            "*************** Shape *****************\n",
            "\n",
            "Shape : (12, 4)\n",
            "\n",
            "*************** data type *****************\n",
            "\n",
            "Month      object\n",
            " \"1958\"     int64\n",
            " \"1959\"     int64\n",
            " \"1960\"     int64\n",
            "dtype: object\n",
            "\n",
            "*************** Columns Names *****************\n",
            "\n",
            "Columns Names Index(['Month', ' \"1958\"', ' \"1959\"', ' \"1960\"'], dtype='object')\n"
          ]
        }
      ]
    },
    {
      "cell_type": "code",
      "source": [],
      "metadata": {
        "id": "I39yqLqkugm8"
      },
      "execution_count": null,
      "outputs": []
    }
  ]
}