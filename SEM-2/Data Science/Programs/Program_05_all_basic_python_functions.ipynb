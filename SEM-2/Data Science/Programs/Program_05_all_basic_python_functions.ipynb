{
  "nbformat": 4,
  "nbformat_minor": 0,
  "metadata": {
    "colab": {
      "provenance": [],
      "authorship_tag": "ABX9TyOde/dC21snjxMF7mIRqjyN",
      "include_colab_link": true
    },
    "kernelspec": {
      "name": "python3",
      "display_name": "Python 3"
    },
    "language_info": {
      "name": "python"
    }
  },
  "cells": [
    {
      "cell_type": "markdown",
      "metadata": {
        "id": "view-in-github",
        "colab_type": "text"
      },
      "source": [
        "<a href=\"https://colab.research.google.com/github/Deepsphere-AI/BCA/blob/main/SEM-2/Data%20Science/Programs/Program_05_all_basic_python_functions.ipynb\" target=\"_parent\"><img src=\"https://colab.research.google.com/assets/colab-badge.svg\" alt=\"Open In Colab\"/></a>"
      ]
    },
    {
      "cell_type": "code",
      "source": [
        "import warnings\n",
        "warnings.filterwarnings(\"ignore\")"
      ],
      "metadata": {
        "id": "tQlvBaQAUjec"
      },
      "execution_count": null,
      "outputs": []
    },
    {
      "cell_type": "markdown",
      "source": [
        "# Lab 5: Install Python and apply all basic python functions"
      ],
      "metadata": {
        "id": "NdSZzda5BbvL"
      }
    },
    {
      "cell_type": "markdown",
      "source": [
        "# Installing Python:"
      ],
      "metadata": {
        "id": "aJabadn62D4D"
      }
    },
    {
      "cell_type": "markdown",
      "source": [
        "* Go to the official Python website (https://www.python.org/downloads/) and download the latest version of Python for your operating system.\n",
        "* Follow the installation instructions to install Python on your machine."
      ],
      "metadata": {
        "id": "wEAqKmCd2I8t"
      }
    },
    {
      "cell_type": "markdown",
      "source": [
        "# Basic Python functions:\n",
        "* Open the Python interpreter or IDE (e.g. IDLE) and start coding."
      ],
      "metadata": {
        "id": "JZ3AQKzt2QYF"
      }
    },
    {
      "cell_type": "markdown",
      "source": [
        "# Define a variable:"
      ],
      "metadata": {
        "id": "wQynkJha1MQN"
      }
    },
    {
      "cell_type": "code",
      "execution_count": null,
      "metadata": {
        "id": "AQ7LVugW0rAo"
      },
      "outputs": [],
      "source": [
        "#Assigning the value in variable\n",
        "vAR_x = 5"
      ]
    },
    {
      "cell_type": "markdown",
      "source": [
        "# Basic mathematical operations:"
      ],
      "metadata": {
        "id": "3E1h_U-51evm"
      }
    },
    {
      "cell_type": "code",
      "source": [
        "print(\"\\n***************** OutPut **********************\\n\")\n",
        "# addition\n",
        "print(3 + 5) \n",
        "# subtraction\n",
        "print(7 - 4)\n",
        "# multiplication\n",
        "print(2 * 6)\n",
        "# division\n",
        "print(9 / 3)\n",
        "# exponentiation\n",
        "print(3 ** 2)\n",
        "print(\"\\n***************** OutPut **********************\\n\")"
      ],
      "metadata": {
        "colab": {
          "base_uri": "https://localhost:8080/"
        },
        "id": "zOPj7nlA04Z5",
        "outputId": "5aecab9b-b5a6-4e20-f3b0-557403acfd58"
      },
      "execution_count": null,
      "outputs": [
        {
          "output_type": "stream",
          "name": "stdout",
          "text": [
            "\n",
            "***************** OutPut **********************\n",
            "\n",
            "8\n",
            "3\n",
            "12\n",
            "3.0\n",
            "9\n",
            "\n",
            "***************** OutPut **********************\n",
            "\n"
          ]
        }
      ]
    },
    {
      "cell_type": "markdown",
      "source": [
        "# Strings:"
      ],
      "metadata": {
        "id": "5d2GK4pd1jJs"
      }
    },
    {
      "cell_type": "code",
      "source": [
        "print(\"\\n***************** OutPut **********************\\n\")\n",
        "# define a string\n",
        "vAR_string = \"Hello World\"\n",
        "# string concatenation\n",
        "print(\"Hello\" + \" World\")\n",
        "# string repetition\n",
        "print(\"Hello \" * 5)\n",
        "print(\"\\n***************** OutPut **********************\\n\")"
      ],
      "metadata": {
        "colab": {
          "base_uri": "https://localhost:8080/"
        },
        "id": "hhtNOtdg1DTx",
        "outputId": "e33f5809-305b-4e2f-9073-d14f3a4b23c7"
      },
      "execution_count": null,
      "outputs": [
        {
          "output_type": "stream",
          "name": "stdout",
          "text": [
            "\n",
            "***************** OutPut **********************\n",
            "\n",
            "Hello World\n",
            "Hello Hello Hello Hello Hello \n",
            "\n",
            "***************** OutPut **********************\n",
            "\n"
          ]
        }
      ]
    },
    {
      "cell_type": "markdown",
      "source": [
        "# Lists:"
      ],
      "metadata": {
        "id": "uKlfDuv-1nTl"
      }
    },
    {
      "cell_type": "code",
      "source": [
        "print(\"\\n***************** OutPut **********************\\n\")\n",
        "# define a list\n",
        "vAR_list = [1, 2, 3, 4, 5]\n",
        "# list indexing\n",
        "print(vAR_list[0])\n",
        "# list slicing\n",
        "print(vAR_list[0:2])\n",
        "# list length\n",
        "print(len(vAR_list))\n",
        "print(\"\\n***************** OutPut **********************\\n\")"
      ],
      "metadata": {
        "colab": {
          "base_uri": "https://localhost:8080/"
        },
        "id": "85oI6T8N1Fh0",
        "outputId": "2f09af7e-35c5-4725-b7d7-07c0687da6f6"
      },
      "execution_count": null,
      "outputs": [
        {
          "output_type": "stream",
          "name": "stdout",
          "text": [
            "\n",
            "***************** OutPut **********************\n",
            "\n",
            "1\n",
            "[1, 2]\n",
            "5\n",
            "\n",
            "***************** OutPut **********************\n",
            "\n"
          ]
        }
      ]
    },
    {
      "cell_type": "markdown",
      "source": [
        "# Loops:"
      ],
      "metadata": {
        "id": "jtmaeEe11xOu"
      }
    },
    {
      "cell_type": "code",
      "source": [
        "print(\"\\n***************** OutPut **********************\\n\")\n",
        "# for loop\n",
        "for i in range(5):\n",
        "    print(i)\n",
        "# while loop\n",
        "i = 0\n",
        "while i < 5:\n",
        "    print(i)\n",
        "    i += 1\n",
        "print(\"\\n***************** OutPut **********************\\n\")"
      ],
      "metadata": {
        "colab": {
          "base_uri": "https://localhost:8080/"
        },
        "id": "2Mcy9PpQ1HDP",
        "outputId": "fbc1185c-e81f-462a-9a1c-4bc73c940cc6"
      },
      "execution_count": null,
      "outputs": [
        {
          "output_type": "stream",
          "name": "stdout",
          "text": [
            "\n",
            "***************** OutPut **********************\n",
            "\n",
            "0\n",
            "1\n",
            "2\n",
            "3\n",
            "4\n",
            "0\n",
            "1\n",
            "2\n",
            "3\n",
            "4\n",
            "\n",
            "***************** OutPut **********************\n",
            "\n"
          ]
        }
      ]
    },
    {
      "cell_type": "markdown",
      "source": [
        "# Conditionals:"
      ],
      "metadata": {
        "id": "ZW2IIG-D13Fs"
      }
    },
    {
      "cell_type": "code",
      "source": [
        "print(\"\\n***************** OutPut **********************\\n\")\n",
        "# if statement\n",
        "vAR_x = 5\n",
        "if vAR_x > 0:\n",
        "    print(\"x is positive\")\n",
        "# if-else statement\n",
        "vAR_x = -5\n",
        "if vAR_x > 0:\n",
        "    print(\"x is positive\")\n",
        "else:\n",
        "    print(\"x is negative\")\n",
        "print(\"\\n***************** OutPut **********************\\n\")"
      ],
      "metadata": {
        "colab": {
          "base_uri": "https://localhost:8080/"
        },
        "id": "O_Hz9mZ_1IeL",
        "outputId": "1b3e1fe1-4003-4d02-db05-7a3ab1a545ea"
      },
      "execution_count": null,
      "outputs": [
        {
          "output_type": "stream",
          "name": "stdout",
          "text": [
            "\n",
            "***************** OutPut **********************\n",
            "\n",
            "x is positive\n",
            "x is negative\n",
            "\n",
            "***************** OutPut **********************\n",
            "\n"
          ]
        }
      ]
    },
    {
      "cell_type": "code",
      "source": [],
      "metadata": {
        "id": "3im9rKUk1KBH"
      },
      "execution_count": null,
      "outputs": []
    }
  ]
}