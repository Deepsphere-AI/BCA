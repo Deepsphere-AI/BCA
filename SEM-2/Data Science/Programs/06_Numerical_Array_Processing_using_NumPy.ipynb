{
  "nbformat": 4,
  "nbformat_minor": 0,
  "metadata": {
    "colab": {
      "provenance": [],
      "include_colab_link": true
    },
    "kernelspec": {
      "name": "python3",
      "display_name": "Python 3"
    },
    "language_info": {
      "name": "python"
    }
  },
  "cells": [
    {
      "cell_type": "markdown",
      "metadata": {
        "id": "view-in-github",
        "colab_type": "text"
      },
      "source": [
        "<a href=\"https://colab.research.google.com/github/Deepsphere-AI/BCA/blob/main/SEM-2/Data%20Science/Programs/06_Numerical_Array_Processing_using_NumPy.ipynb\" target=\"_parent\"><img src=\"https://colab.research.google.com/assets/colab-badge.svg\" alt=\"Open In Colab\"/></a>"
      ]
    },
    {
      "cell_type": "code",
      "source": [
        "# ***********************************************************************************************\n",
        "  \n",
        "  # File Name \t:   06_Numerical_Array_Processing_using_NumPy\n",
        "  # Purpose \t  :   Install and perform a Numerical Array Processing using NumPy\n",
        "  # Author\t    :   Deepsphere.ai\n",
        "  # Reviewer \t  :   Jothi Periasamy\n",
        "  # Date        :   08/02/2023 \n",
        "  # Version\t    :   1.0\t\n",
        "  \n",
        "# ***********************************************************************************************\n",
        "\n",
        "## Program Description : Findig the Sum, Mean, Max and Min perform to arrary\n",
        "\n",
        "## Python Development Environment & Runtime - Python, Anaconda\n",
        "\n",
        "\n",
        "# ***********************************************************************************************\n",
        "\n",
        "\n",
        "#Installing numpy\n",
        "!pip install numpy\n",
        "\n",
        "#Importing warnings to ignore them\n",
        "import warnings\n",
        "warnings.filterwarnings(\"ignore\")\n",
        "#Importing numpy\n",
        "import numpy as np\n",
        "\n",
        "print(\"\\n***************** OutPut **********************\\n\")\n",
        "# Create a 1D array\n",
        "vAR_a = np.array([1, 2, 3, 4, 5])\n",
        "print(\"1-D Arrary\",vAR_a)\n",
        "\n",
        "# Create a 2D array\n",
        "vAR_b = np.array([[1, 2, 3], [4, 5, 6]])\n",
        "print(\"2-D Arrary\",vAR_b)\n",
        "\n",
        "# Array shape\n",
        "print('Shape A :',vAR_a.shape)\n",
        "print('Shape B :',vAR_b.shape)\n",
        "\n",
        "# Array data type\n",
        "print('dataTypes = ',vAR_a.dtype)\n",
        "\n",
        "# Array arithmetic operations\n",
        "vAR_c = vAR_a + 2\n",
        "print('Addition of array vAR_a + 2 = ',vAR_c)\n",
        "\n",
        "vAR_d = vAR_a * 2\n",
        "print('Multiplication of array vAR_a * 2 = ',vAR_d)\n",
        "\n",
        "# Array aggregations\n",
        "print('SUM = ',vAR_a.sum())\n",
        "print('Mean =',vAR_a.mean())\n",
        "print('Max =',vAR_a.max())\n",
        "print('Min =',vAR_a.min())"
      ],
      "metadata": {
        "id": "UQch2AZNgjmj",
        "outputId": "4c8d3c1e-7d60-471e-a1cd-a9bde7fc040d",
        "colab": {
          "base_uri": "https://localhost:8080/"
        }
      },
      "execution_count": 14,
      "outputs": [
        {
          "output_type": "stream",
          "name": "stdout",
          "text": [
            "Looking in indexes: https://pypi.org/simple, https://us-python.pkg.dev/colab-wheels/public/simple/\n",
            "Requirement already satisfied: numpy in /usr/local/lib/python3.8/dist-packages (1.21.6)\n",
            "\n",
            "***************** OutPut **********************\n",
            "\n",
            "1-D Arrary [1 2 3 4 5]\n",
            "2-D Arrary [[1 2 3]\n",
            " [4 5 6]]\n",
            "Shape A : (5,)\n",
            "Shape B : (2, 3)\n",
            "dataTypes =  int64\n",
            "Addition of array vAR_a + 2 =  [3 4 5 6 7]\n",
            "Multiplication of array vAR_a * 2 =  [ 2  4  6  8 10]\n",
            "SUM =  15\n",
            "Mean = 3.0\n",
            "Max = 5\n",
            "Min = 1\n"
          ]
        }
      ]
    }
  ]
}