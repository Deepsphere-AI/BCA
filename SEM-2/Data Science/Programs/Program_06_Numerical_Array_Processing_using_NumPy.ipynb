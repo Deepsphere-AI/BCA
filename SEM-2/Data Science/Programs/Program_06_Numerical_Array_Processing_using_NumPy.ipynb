{
  "nbformat": 4,
  "nbformat_minor": 0,
  "metadata": {
    "colab": {
      "provenance": [],
      "authorship_tag": "ABX9TyP87qC7OfHS5q+Mli+YH+XG",
      "include_colab_link": true
    },
    "kernelspec": {
      "name": "python3",
      "display_name": "Python 3"
    },
    "language_info": {
      "name": "python"
    }
  },
  "cells": [
    {
      "cell_type": "markdown",
      "metadata": {
        "id": "view-in-github",
        "colab_type": "text"
      },
      "source": [
        "<a href=\"https://colab.research.google.com/github/Deepsphere-AI/BCA/blob/main/SEM-2/Data%20Science/Programs/Program_06_Numerical_Array_Processing_using_NumPy.ipynb\" target=\"_parent\"><img src=\"https://colab.research.google.com/assets/colab-badge.svg\" alt=\"Open In Colab\"/></a>"
      ]
    },
    {
      "cell_type": "code",
      "source": [
        "import warnings\n",
        "warnings.filterwarnings(\"ignore\")"
      ],
      "metadata": {
        "id": "aIj6eOspPF7v"
      },
      "execution_count": 1,
      "outputs": []
    },
    {
      "cell_type": "code",
      "execution_count": 2,
      "metadata": {
        "colab": {
          "base_uri": "https://localhost:8080/"
        },
        "id": "3ZenqJnUeWB3",
        "outputId": "cdddd9ae-3504-4ea7-f408-fbfbb6e32750"
      },
      "outputs": [
        {
          "output_type": "stream",
          "name": "stdout",
          "text": [
            "Looking in indexes: https://pypi.org/simple, https://us-python.pkg.dev/colab-wheels/public/simple/\n",
            "Requirement already satisfied: numpy in /usr/local/lib/python3.8/dist-packages (1.21.6)\n"
          ]
        }
      ],
      "source": [
        "!pip install numpy"
      ]
    },
    {
      "cell_type": "code",
      "source": [
        "import numpy as np\n",
        "print(\"\\n***************** OutPut **********************\\n\")\n",
        "# Create a 1D array\n",
        "a = np.array([1, 2, 3, 4, 5])\n",
        "print(a)\n",
        "\n",
        "# Create a 2D array\n",
        "b = np.array([[1, 2, 3], [4, 5, 6]])\n",
        "print(b)\n",
        "print(\"\\n***************** OutPut **********************\\n\")"
      ],
      "metadata": {
        "colab": {
          "base_uri": "https://localhost:8080/"
        },
        "id": "_A-eYrIXed6c",
        "outputId": "d01920c7-e064-4852-824f-8672709d81c0"
      },
      "execution_count": 3,
      "outputs": [
        {
          "output_type": "stream",
          "name": "stdout",
          "text": [
            "\n",
            "***************** OutPut **********************\n",
            "\n",
            "[1 2 3 4 5]\n",
            "[[1 2 3]\n",
            " [4 5 6]]\n",
            "\n",
            "***************** OutPut **********************\n",
            "\n"
          ]
        }
      ]
    },
    {
      "cell_type": "code",
      "source": [
        "print(\"\\n***************** OutPut **********************\\n\")\n",
        "# Array shape\n",
        "print(a.shape)\n",
        "print(b.shape)\n",
        "\n",
        "# Array data type\n",
        "print(a.dtype)\n",
        "print(\"\\n***************** OutPut **********************\\n\")"
      ],
      "metadata": {
        "colab": {
          "base_uri": "https://localhost:8080/"
        },
        "id": "4x5Cw9Vxew34",
        "outputId": "ca87254f-6a2f-4fe0-cd3b-374337b83b74"
      },
      "execution_count": 4,
      "outputs": [
        {
          "output_type": "stream",
          "name": "stdout",
          "text": [
            "\n",
            "***************** OutPut **********************\n",
            "\n",
            "(5,)\n",
            "(2, 3)\n",
            "int64\n",
            "\n",
            "***************** OutPut **********************\n",
            "\n"
          ]
        }
      ]
    },
    {
      "cell_type": "code",
      "source": [
        "print(\"\\n***************** OutPut **********************\\n\")\n",
        "# Array arithmetic operations\n",
        "c = a + 2\n",
        "print(c)\n",
        "\n",
        "d = a * 2\n",
        "print(d)\n",
        "print(\"\\n***************** OutPut **********************\\n\")"
      ],
      "metadata": {
        "colab": {
          "base_uri": "https://localhost:8080/"
        },
        "id": "8rbCNGVyey6j",
        "outputId": "a4ef7dc1-917e-420b-f3f3-a951498824e1"
      },
      "execution_count": 5,
      "outputs": [
        {
          "output_type": "stream",
          "name": "stdout",
          "text": [
            "\n",
            "***************** OutPut **********************\n",
            "\n",
            "[3 4 5 6 7]\n",
            "[ 2  4  6  8 10]\n",
            "\n",
            "***************** OutPut **********************\n",
            "\n"
          ]
        }
      ]
    },
    {
      "cell_type": "code",
      "source": [
        "print(\"\\n***************** OutPut **********************\\n\")\n",
        "# Array aggregations\n",
        "print(a.sum())\n",
        "print(a.mean())\n",
        "print(a.max())\n",
        "print(a.min())\n",
        "print(\"\\n***************** OutPut **********************\\n\")"
      ],
      "metadata": {
        "colab": {
          "base_uri": "https://localhost:8080/"
        },
        "id": "zu_GcsxWe0dR",
        "outputId": "051c77e3-c064-42c2-ec6f-88a38973eadd"
      },
      "execution_count": 6,
      "outputs": [
        {
          "output_type": "stream",
          "name": "stdout",
          "text": [
            "\n",
            "***************** OutPut **********************\n",
            "\n",
            "15\n",
            "3.0\n",
            "5\n",
            "1\n",
            "\n",
            "***************** OutPut **********************\n",
            "\n"
          ]
        }
      ]
    },
    {
      "cell_type": "code",
      "source": [],
      "metadata": {
        "id": "Tn9XyBCAe2FX"
      },
      "execution_count": 6,
      "outputs": []
    }
  ]
}