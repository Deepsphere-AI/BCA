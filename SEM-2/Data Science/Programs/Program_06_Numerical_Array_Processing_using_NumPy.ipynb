{
  "nbformat": 4,
  "nbformat_minor": 0,
  "metadata": {
    "colab": {
      "provenance": [],
      "include_colab_link": true
    },
    "kernelspec": {
      "name": "python3",
      "display_name": "Python 3"
    },
    "language_info": {
      "name": "python"
    }
  },
  "cells": [
    {
      "cell_type": "markdown",
      "metadata": {
        "id": "view-in-github",
        "colab_type": "text"
      },
      "source": [
        "<a href=\"https://colab.research.google.com/github/Deepsphere-AI/BCA/blob/main/SEM-2/Data%20Science/Programs/Program_06_Numerical_Array_Processing_using_NumPy.ipynb\" target=\"_parent\"><img src=\"https://colab.research.google.com/assets/colab-badge.svg\" alt=\"Open In Colab\"/></a>"
      ]
    },
    {
      "cell_type": "markdown",
      "source": [
        "# Lab 6: Install and perform a Numerical Array Processing using NumPy"
      ],
      "metadata": {
        "id": "SewUmTg8C4GW"
      }
    },
    {
      "cell_type": "code",
      "source": [
        "#Importing warnings to ignore them\n",
        "import warnings\n",
        "warnings.filterwarnings(\"ignore\")"
      ],
      "metadata": {
        "id": "aIj6eOspPF7v"
      },
      "execution_count": null,
      "outputs": []
    },
    {
      "cell_type": "code",
      "execution_count": null,
      "metadata": {
        "colab": {
          "base_uri": "https://localhost:8080/"
        },
        "id": "3ZenqJnUeWB3",
        "outputId": "c5177d19-29e2-477c-cc47-ea9c3ac2966f"
      },
      "outputs": [
        {
          "output_type": "stream",
          "name": "stdout",
          "text": [
            "Looking in indexes: https://pypi.org/simple, https://us-python.pkg.dev/colab-wheels/public/simple/\n",
            "Requirement already satisfied: numpy in /usr/local/lib/python3.8/dist-packages (1.21.6)\n"
          ]
        }
      ],
      "source": [
        "#Installing numpy\n",
        "!pip install numpy"
      ]
    },
    {
      "cell_type": "markdown",
      "source": [
        "## Import libary"
      ],
      "metadata": {
        "id": "1L-jLSOfCQci"
      }
    },
    {
      "cell_type": "code",
      "source": [
        "#Importing numpy\n",
        "import numpy as np"
      ],
      "metadata": {
        "id": "SsXuw7IyCPU4"
      },
      "execution_count": null,
      "outputs": []
    },
    {
      "cell_type": "code",
      "source": [
        "print(\"\\n***************** OutPut **********************\\n\")\n",
        "# Create a 1D array\n",
        "vAR_a = np.array([1, 2, 3, 4, 5])\n",
        "print(vAR_a)\n",
        "\n",
        "# Create a 2D array\n",
        "vAR_b = np.array([[1, 2, 3], [4, 5, 6]])\n",
        "print(vAR_b)"
      ],
      "metadata": {
        "colab": {
          "base_uri": "https://localhost:8080/"
        },
        "id": "_A-eYrIXed6c",
        "outputId": "39d10274-fce0-4ca4-bd74-b3f58acacc0e"
      },
      "execution_count": null,
      "outputs": [
        {
          "output_type": "stream",
          "name": "stdout",
          "text": [
            "\n",
            "***************** OutPut **********************\n",
            "\n",
            "[1 2 3 4 5]\n",
            "[[1 2 3]\n",
            " [4 5 6]]\n"
          ]
        }
      ]
    },
    {
      "cell_type": "code",
      "source": [
        "print(\"\\n***************** OutPut **********************\\n\")\n",
        "# Array shape\n",
        "print(vAR_a.shape)\n",
        "print(vAR_b.shape)\n",
        "\n",
        "# Array data type\n",
        "print(vAR_a.dtype)"
      ],
      "metadata": {
        "colab": {
          "base_uri": "https://localhost:8080/"
        },
        "id": "4x5Cw9Vxew34",
        "outputId": "283660ad-a0e6-4eb4-c6c7-2cf430aa14a8"
      },
      "execution_count": null,
      "outputs": [
        {
          "output_type": "stream",
          "name": "stdout",
          "text": [
            "\n",
            "***************** OutPut **********************\n",
            "\n",
            "(5,)\n",
            "(2, 3)\n",
            "int64\n"
          ]
        }
      ]
    },
    {
      "cell_type": "code",
      "source": [
        "print(\"\\n***************** OutPut **********************\\n\")\n",
        "# Array arithmetic operations\n",
        "vAR_c = vAR_a + 2\n",
        "print(vAR_c)\n",
        "\n",
        "vAR_d = vAR_a * 2\n",
        "print(vAR_d)"
      ],
      "metadata": {
        "colab": {
          "base_uri": "https://localhost:8080/"
        },
        "id": "8rbCNGVyey6j",
        "outputId": "33b021c2-6b18-4124-fa33-cfaf7fa9704f"
      },
      "execution_count": null,
      "outputs": [
        {
          "output_type": "stream",
          "name": "stdout",
          "text": [
            "\n",
            "***************** OutPut **********************\n",
            "\n",
            "[3 4 5 6 7]\n",
            "[ 2  4  6  8 10]\n"
          ]
        }
      ]
    },
    {
      "cell_type": "code",
      "source": [
        "print(\"\\n***************** OutPut **********************\\n\")\n",
        "# Array aggregations\n",
        "print(vAR_a.sum())\n",
        "print(vAR_a.mean())\n",
        "print(vAR_a.max())\n",
        "print(vAR_a.min())"
      ],
      "metadata": {
        "colab": {
          "base_uri": "https://localhost:8080/"
        },
        "id": "zu_GcsxWe0dR",
        "outputId": "b884014d-979a-4987-ac85-665df5cde4b3"
      },
      "execution_count": null,
      "outputs": [
        {
          "output_type": "stream",
          "name": "stdout",
          "text": [
            "\n",
            "***************** OutPut **********************\n",
            "\n",
            "15\n",
            "3.0\n",
            "5\n",
            "1\n"
          ]
        }
      ]
    },
    {
      "cell_type": "code",
      "source": [],
      "metadata": {
        "id": "94lRbPqpCfGR"
      },
      "execution_count": null,
      "outputs": []
    }
  ]
}