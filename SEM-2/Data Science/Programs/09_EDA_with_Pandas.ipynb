{
  "nbformat": 4,
  "nbformat_minor": 0,
  "metadata": {
    "colab": {
      "provenance": [],
      "include_colab_link": true
    },
    "kernelspec": {
      "name": "python3",
      "display_name": "Python 3"
    },
    "language_info": {
      "name": "python"
    }
  },
  "cells": [
    {
      "cell_type": "markdown",
      "metadata": {
        "id": "view-in-github",
        "colab_type": "text"
      },
      "source": [
        "<a href=\"https://colab.research.google.com/github/Deepsphere-AI/BCA/blob/main/SEM-2/Data%20Science/Programs/09_EDA_with_Pandas.ipynb\" target=\"_parent\"><img src=\"https://colab.research.google.com/assets/colab-badge.svg\" alt=\"Open In Colab\"/></a>"
      ]
    },
    {
      "cell_type": "code",
      "source": [
        "# ***********************************************************************************************\n",
        "  \n",
        "  # File Name \t:   09_EDA_with_Pandas\n",
        "  # Purpose \t  :   Install and perform a simple Exploratory Data Analysis using Pandas\n",
        "  # Author\t    :   Deepsphere.ai\n",
        "  # Reviewer \t  :   Jothi Periasamy\n",
        "  # Date        :   08/02/2023 \n",
        "  # Version\t    :   1.0\t\n",
        "  \n",
        "# ***********************************************************************************************\n",
        "\n",
        "## Program Description : \n",
        "# 1.Install and import Pandas \n",
        "# 2.Anaysing data using padas basic functions using head, tail, dtypes, shape, describe, to check NaN values\n",
        "# 3.Plot the histogram\n",
        "\n",
        "## Python Development Environment & Runtime - Python, Anaconda\n",
        "\n",
        "#Installing pandas\n",
        "!pip install pandas\n",
        "\n",
        "#Importing warnings\n",
        "import warnings\n",
        "warnings.filterwarnings(\"ignore\")\n",
        "\n",
        "#Importing pandas\n",
        "import pandas as pd\n",
        "\n",
        "#Importing the dataset\n",
        "vAR_data = pd.read_csv(\"https://raw.githubusercontent.com/Deepsphere-AI/BCA/main/SEM-2/Data%20Science/Programs/Data/airtravel.csv\")\n",
        "\n",
        "#Printing the data\n",
        "print(\"\\n***************** OutPut **********************\\n\")\n",
        "print(vAR_data)\n",
        "\n",
        "#Printing the top 5 data points\n",
        "print(\"\\n***************** First 5 rows **********************\\n\")\n",
        "vAR_a = vAR_data.head()\n",
        "print(vAR_a)\n",
        "\n",
        "#Printing the bottom 5 data points\n",
        "print(\"\\n***************** Last 5 rows **********************\\n\")\n",
        "vAR_b = vAR_data.tail()\n",
        "print(vAR_b)\n",
        "#Printing the data shape\n",
        "print(\"\\n***************** Shape **********************\\n\")\n",
        "print(vAR_data.shape)\n",
        "\n",
        "#Printing the data types\n",
        "print(\"\\n***************** Data types **********************\\n\")\n",
        "print(vAR_data.dtypes)\n",
        "\n",
        "#Describing the dataset\n",
        "print(\"\\n***************** Describe **********************\\n\")\n",
        "print(vAR_data.describe())\n",
        "\n",
        "#Checking for null values\n",
        "print(\"\\n***************** To check NaN values **********************\\n\")\n",
        "print(vAR_data.isnull().sum())\n",
        "\n",
        "#Plotting the histogram\n",
        "print(\"\\n***************** Histogram **********************\\n\")\n",
        "vAR_data['Month'].hist();"
      ],
      "metadata": {
        "id": "xKf1r_LThWUW",
        "outputId": "160a89ca-98aa-4a85-f695-27f4266e1f7f",
        "colab": {
          "base_uri": "https://localhost:8080/",
          "height": 1000
        }
      },
      "execution_count": 4,
      "outputs": [
        {
          "output_type": "stream",
          "name": "stdout",
          "text": [
            "Looking in indexes: https://pypi.org/simple, https://us-python.pkg.dev/colab-wheels/public/simple/\n",
            "Requirement already satisfied: pandas in /usr/local/lib/python3.8/dist-packages (1.3.5)\n",
            "Requirement already satisfied: python-dateutil>=2.7.3 in /usr/local/lib/python3.8/dist-packages (from pandas) (2.8.2)\n",
            "Requirement already satisfied: pytz>=2017.3 in /usr/local/lib/python3.8/dist-packages (from pandas) (2022.7.1)\n",
            "Requirement already satisfied: numpy>=1.17.3 in /usr/local/lib/python3.8/dist-packages (from pandas) (1.21.6)\n",
            "Requirement already satisfied: six>=1.5 in /usr/local/lib/python3.8/dist-packages (from python-dateutil>=2.7.3->pandas) (1.15.0)\n",
            "\n",
            "***************** OutPut **********************\n",
            "\n",
            "   Month   \"1958\"   \"1959\"   \"1960\"\n",
            "0    JAN      340      360      417\n",
            "1    FEB      318      342      391\n",
            "2    MAR      362      406      419\n",
            "3    APR      348      396      461\n",
            "4    MAY      363      420      472\n",
            "5    JUN      435      472      535\n",
            "6    JUL      491      548      622\n",
            "7    AUG      505      559      606\n",
            "8    SEP      404      463      508\n",
            "9    OCT      359      407      461\n",
            "10   NOV      310      362      390\n",
            "11   DEC      337      405      432\n",
            "\n",
            "***************** First 5 rows **********************\n",
            "\n",
            "  Month   \"1958\"   \"1959\"   \"1960\"\n",
            "0   JAN      340      360      417\n",
            "1   FEB      318      342      391\n",
            "2   MAR      362      406      419\n",
            "3   APR      348      396      461\n",
            "4   MAY      363      420      472\n",
            "\n",
            "***************** Last 5 rows **********************\n",
            "\n",
            "   Month   \"1958\"   \"1959\"   \"1960\"\n",
            "7    AUG      505      559      606\n",
            "8    SEP      404      463      508\n",
            "9    OCT      359      407      461\n",
            "10   NOV      310      362      390\n",
            "11   DEC      337      405      432\n",
            "\n",
            "***************** Shape **********************\n",
            "\n",
            "(12, 4)\n",
            "\n",
            "***************** Data types **********************\n",
            "\n",
            "Month      object\n",
            " \"1958\"     int64\n",
            " \"1959\"     int64\n",
            " \"1960\"     int64\n",
            "dtype: object\n",
            "\n",
            "***************** Describe **********************\n",
            "\n",
            "           \"1958\"      \"1959\"      \"1960\"\n",
            "count   12.000000   12.000000   12.000000\n",
            "mean   381.000000  428.333333  476.166667\n",
            "std     64.530472   69.830097   77.737125\n",
            "min    310.000000  342.000000  390.000000\n",
            "25%    339.250000  387.500000  418.500000\n",
            "50%    360.500000  406.500000  461.000000\n",
            "75%    411.750000  465.250000  514.750000\n",
            "max    505.000000  559.000000  622.000000\n",
            "\n",
            "***************** To check NaN values **********************\n",
            "\n",
            "Month      0\n",
            " \"1958\"    0\n",
            " \"1959\"    0\n",
            " \"1960\"    0\n",
            "dtype: int64\n",
            "\n",
            "***************** Histogram **********************\n",
            "\n"
          ]
        },
        {
          "output_type": "display_data",
          "data": {
            "text/plain": [
              "<Figure size 432x288 with 1 Axes>"
            ],
            "image/png": "[encoded data removed]"
          },
          "metadata": {
            "needs_background": "light"
          }
        }
      ]
    }
  ]
}