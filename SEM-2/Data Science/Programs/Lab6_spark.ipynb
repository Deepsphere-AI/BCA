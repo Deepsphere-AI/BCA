{
  "nbformat": 4,
  "nbformat_minor": 0,
  "metadata": {
    "colab": {
      "provenance": [],
      "authorship_tag": "ABX9TyM4qO4QObJAyEtEnH7UcVyW",
      "include_colab_link": true
    },
    "kernelspec": {
      "name": "python3",
      "display_name": "Python 3"
    },
    "language_info": {
      "name": "python"
    }
  },
  "cells": [
    {
      "cell_type": "markdown",
      "metadata": {
        "id": "view-in-github",
        "colab_type": "text"
      },
      "source": [
        "<a href=\"https://colab.research.google.com/github/Deepsphere-AI/BCA/blob/main/SEM-2/Data%20Science/Programs/Lab6_spark.ipynb\" target=\"_parent\"><img src=\"https://colab.research.google.com/assets/colab-badge.svg\" alt=\"Open In Colab\"/></a>"
      ]
    },
    {
      "cell_type": "code",
      "execution_count": null,
      "metadata": {
        "colab": {
          "base_uri": "https://localhost:8080/"
        },
        "id": "vOVlwgMXDwh3",
        "outputId": "80513c12-31d6-41db-a77a-15f02fe44ba7"
      },
      "outputs": [
        {
          "output_type": "stream",
          "name": "stdout",
          "text": [
            "Looking in indexes: https://pypi.org/simple, https://us-python.pkg.dev/colab-wheels/public/simple/\n",
            "Collecting pyspark\n",
            "  Downloading pyspark-3.3.1.tar.gz (281.4 MB)\n",
            "\u001b[2K     \u001b[90m━━━━━━━━━━━━━━━━━━━━━━━━━━━━━━━━━━━━━━━\u001b[0m \u001b[32m281.4/281.4 MB\u001b[0m \u001b[31m3.7 MB/s\u001b[0m eta \u001b[36m0:00:00\u001b[0m\n",
            "\u001b[?25h  Preparing metadata (setup.py) ... \u001b[?25l\u001b[?25hdone\n",
            "Collecting py4j==0.10.9.5\n",
            "  Downloading py4j-0.10.9.5-py2.py3-none-any.whl (199 kB)\n",
            "\u001b[2K     \u001b[90m━━━━━━━━━━━━━━━━━━━━━━━━━━━━━━━━━━━━━━\u001b[0m \u001b[32m199.7/199.7 KB\u001b[0m \u001b[31m12.1 MB/s\u001b[0m eta \u001b[36m0:00:00\u001b[0m\n",
            "\u001b[?25hBuilding wheels for collected packages: pyspark\n",
            "  Building wheel for pyspark (setup.py) ... \u001b[?25l\u001b[?25hdone\n",
            "  Created wheel for pyspark: filename=pyspark-3.3.1-py2.py3-none-any.whl size=281845512 sha256=c51688bc04f293a4707ae0c6c1cdb6679a1f7a611c5250fe2fb7fde9edf29990\n",
            "  Stored in directory: /root/.cache/pip/wheels/43/dc/11/ec201cd671da62fa9c5cc77078235e40722170ceba231d7598\n",
            "Successfully built pyspark\n",
            "Installing collected packages: py4j, pyspark\n",
            "Successfully installed py4j-0.10.9.5 pyspark-3.3.1\n"
          ]
        }
      ],
      "source": [
        "pip install pyspark"
      ]
    },
    {
      "cell_type": "code",
      "source": [
        "from pyspark import SparkConf, SparkContext\n",
        "import pandas as pd\n",
        "\n",
        "# Set up the Spark configuration and context once \n",
        "conf = SparkConf().setAppName(\"SimilarityWordCount\")\n",
        "sc = SparkContext(conf=conf)"
      ],
      "metadata": {
        "id": "rTN5I_ElD40r"
      },
      "execution_count": null,
      "outputs": []
    },
    {
      "cell_type": "code",
      "source": [
        "# Read in the documents as RDDs\n",
        "vAR_doc1 = sc.textFile(\"/content/selfish_giant.txt\")\n",
        "#word count\n",
        "\n",
        "# Perform word count on the documents\n",
        "vAR_wordCount1 = doc1.flatMap(lambda line: line.split(\" \")) \\\n",
        "                .map(lambda word: (word, 1)) \\\n",
        "                .reduceByKey(lambda a, b: a + b)\n",
        "\n",
        "# Print the result\n",
        "vAR_a=wordCount1.collect()\n",
        "vAR_unique_word_count=len(a)\n",
        "print(\"Unique word count : \",vAR_unique_word_count)\n",
        "co_of_each=[]\n",
        "for i in a:\n",
        "  co_of_each.append(i)\n",
        "print(co_of_each)"
      ],
      "metadata": {
        "colab": {
          "base_uri": "https://localhost:8080/"
        },
        "id": "ALbDtNO2Ei7A",
        "outputId": "3bbff04e-98e9-4773-81ac-792cc05a740c"
      },
      "execution_count": null,
      "outputs": [
        {
          "output_type": "stream",
          "name": "stdout",
          "text": [
            "Unique word count :  336\n",
            "[('EVERY', 1), ('as', 5), ('school,', 1), ('used', 3), ('go', 1), ('in', 16), ('garden.', 2), ('It', 3), ('was', 12), ('large', 1), ('lovely', 2), ('garden,', 3), ('green', 1), ('grass.', 1), ('there', 5), ('grass', 2), ('stood', 1), ('flowers', 1), ('like', 3), ('stars,', 1), ('twelve', 1), ('peach-trees', 1), ('springtime', 1), ('out', 4), ('into', 2), ('of', 6), ('pearl,', 1), ('fruit.', 1), ('The', 6), ('birds', 2), ('sat', 2), ('stop', 1), ('games', 1), ('them.', 1), ('“How', 2), ('we', 3), ('are', 2), ('One', 2), ('came', 2), ('visit', 1), ('his', 7), ('Cornish', 1), ('ogre,', 1), ('seven', 1), ('years.', 1), ('When', 1), ('he', 16), ('“What', 1), ('here?”', 1), ('very', 3), ('gruff', 1), ('ran', 2), ('own', 2), ('garden', 6), ('is', 4), ('garden,”', 2), ('said', 4), ('Giant;', 2), ('“anyone', 1), ('understand', 2), ('that,', 1), ('allow', 1), ('nobody', 1), ('but', 5), ('myself.”', 1), ('high', 2), ('round', 4), ('it,', 1), ('put', 2), ('notice-board:', 1), ('BE', 1), ('PROSECUTED', 1), ('Giant.', 1), ('poor', 1), ('now', 1), ('They', 2), ('tried', 1), ('road', 1), ('dusty', 1), ('full', 1), ('it.', 1), ('wander', 1), ('walls', 1), ('when', 3), ('inside.', 1), ('there!”', 1), ('Then', 3), ('Spring', 4), ('country', 1), ('sing', 1), ('no', 1), ('forgot', 1), ('Once', 1), ('flower', 1), ('head', 1), ('grass,', 1), ('notice-board', 1), ('slipped', 1), ('ground', 1), ('again,', 1), ('only', 2), ('pleased', 1), ('Snow', 3), ('Frost.', 1), ('this', 1), ('cried,', 1), ('“so', 1), ('live', 1), ('year', 1), ('round.”', 1), ('covered', 1), ('her', 1), ('Frost', 1), ('painted', 1), ('North', 3), ('Wind', 3), ('them,', 1), ('wrapped', 1), ('furs,', 1), ('blew', 1), ('chimney-pots', 1), ('down.', 1), ('‘‘This', 1), ('spot,”', 1), ('must', 2), ('ask', 1), ('visit.”', 1), ('Every', 1), ('three', 1), ('hours', 1), ('rattled', 1), ('till', 1), ('slates,', 1), ('go.', 1), ('dressed', 1), ('grey,', 1), ('“I', 3), ('cannot', 1), ('why', 1), ('late', 1), ('at', 3), ('looked', 2), ('garden;', 1), ('change', 1), ('weather.”', 1), ('But', 1), ('never', 1), ('nor', 1), ('gave', 2), ('none.', 1), ('selfish,”', 1), ('always', 1), ('Winter', 1), ('there,', 1), ('danced', 1), ('trees.', 1), ('awake', 1), ('heard', 2), ('sweet', 1), ('ears', 1), ('thought', 1), ('King’s', 1), ('musicians', 1), ('by.', 1), ('really', 1), ('singing', 2), ('long', 1), ('bird', 1), ('seemed', 1), ('music', 1), ('stopped', 1), ('dancing', 1), ('head,', 1), ('open', 1), ('believe', 1), ('out.', 1), ('afternoon,', 1), ('they', 6), ('were', 8), ('coming', 1), ('from', 2), ('the', 61), ('children', 6), ('to', 21), ('and', 34), ('play', 3), ('Giant’s', 2), ('a', 12), ('with', 4), ('soft', 1), ('Here', 1), ('over', 3), ('beautiful', 4), ('that', 5), ('broke', 2), ('delicate', 1), ('blossoms', 2), ('pink', 1), ('autumn', 1), ('bore', 1), ('rich', 1), ('on', 4), ('trees', 3), ('sang', 1), ('so', 5), ('sweetly', 1), ('their', 2), ('order', 1), ('listen', 1), ('happy', 2), ('here!”', 1), ('cried', 2), ('each', 2), ('other.', 2), ('day', 3), ('Giant', 3), ('back.', 1), ('He', 4), ('had', 4), ('been', 1), ('friend,', 1), ('stayed', 1), ('him', 3), ('for', 3), ('arrived', 1), ('saw', 2), ('playing', 1), ('you', 1), ('doing', 1), ('voice,', 1), ('away.', 1), ('“My', 1), ('my', 1), ('can', 1), ('I', 1), ('will', 3), ('it', 10), ('So', 3), ('built', 1), ('wall', 1), ('all', 5), ('up', 2), ('TRESPASSERS', 1), ('WILL', 1), ('selfish', 1), ('nowhere', 1), ('play.', 1), ('road,', 1), ('hard', 1), ('stones,', 1), ('did', 2), ('not', 2), ('lessons', 1), ('over,', 1), ('talk', 1), ('about', 3), ('came,', 2), ('little', 3), ('birds.', 1), ('Only', 1), ('Selfish', 2), ('still', 1), ('winter.', 1), ('care', 1), ('children,', 1), ('blossom.', 1), ('its', 1), ('sorry', 1), ('back', 1), ('went', 1), ('off', 1), ('sleep.', 1), ('people', 1), ('who', 1), ('“Spring', 1), ('has', 2), ('forgotten', 1), ('here', 1), ('great', 1), ('white', 2), ('cloak,', 1), ('silver.', 1), ('invited', 1), ('stay', 1), ('came.', 2), ('roared', 1), ('delightful', 1), ('said,', 1), ('“we', 1), ('Hail', 3), ('roof', 1), ('castle', 1), ('most', 2), ('then', 1), ('fast', 1), ('could', 1), ('breath', 1), ('ice.', 1), ('coming,”', 1), ('Giant,', 1), ('window', 1), ('cold,', 1), ('hope', 1), ('be', 3), ('Summer.', 1), ('Autumn', 1), ('golden', 1), ('fruit', 1), ('every', 1), ('she', 2), ('“He', 1), ('too', 1), ('said.', 1), ('Hail,', 1), ('Frost,', 1), ('through', 2), ('morning', 1), ('lying', 1), ('bed', 2), ('some', 1), ('music.', 1), ('sounded', 1), ('passing', 1), ('linnet', 1), ('outside', 1), ('window,', 1), ('since', 1), ('world.', 1), ('ceased', 1), ('roaring,', 1), ('delicious', 1), ('perfume', 1), ('casement.', 1), ('come', 1), ('last,”', 1), ('jumped', 1)]\n"
          ]
        }
      ]
    },
    {
      "cell_type": "code",
      "source": [],
      "metadata": {
        "id": "26fw82cxOOQy"
      },
      "execution_count": null,
      "outputs": []
    }
  ]
}