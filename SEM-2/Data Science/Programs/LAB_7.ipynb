{
  "nbformat": 4,
  "nbformat_minor": 0,
  "metadata": {
    "colab": {
      "provenance": [],
      "authorship_tag": "ABX9TyO1TnPiNB90l0lULGORzuHz",
      "include_colab_link": true
    },
    "kernelspec": {
      "name": "python3",
      "display_name": "Python 3"
    },
    "language_info": {
      "name": "python"
    }
  },
  "cells": [
    {
      "cell_type": "markdown",
      "metadata": {
        "id": "view-in-github",
        "colab_type": "text"
      },
      "source": [
        "<a href=\"https://colab.research.google.com/github/Deepsphere-AI/BCA/blob/main/SEM-2/Data%20Science/Programs/LAB_7.ipynb\" target=\"_parent\"><img src=\"https://colab.research.google.com/assets/colab-badge.svg\" alt=\"Open In Colab\"/></a>"
      ]
    },
    {
      "cell_type": "code",
      "execution_count": 1,
      "metadata": {
        "colab": {
          "base_uri": "https://localhost:8080/"
        },
        "id": "LJVdm1nrc0xe",
        "outputId": "e690f3b5-8d0e-4246-d001-daa23971f3e2"
      },
      "outputs": [
        {
          "output_type": "stream",
          "name": "stdout",
          "text": [
            "Looking in indexes: https://pypi.org/simple, https://us-python.pkg.dev/colab-wheels/public/simple/\n",
            "Requirement already satisfied: scipy in /usr/local/lib/python3.8/dist-packages (1.7.3)\n",
            "Requirement already satisfied: numpy<1.23.0,>=1.16.5 in /usr/local/lib/python3.8/dist-packages (from scipy) (1.21.6)\n"
          ]
        }
      ],
      "source": [
        "pip install scipy"
      ]
    },
    {
      "cell_type": "code",
      "source": [
        "import numpy as np\n",
        "import scipy as sp\n",
        "import scipy.stats as stats\n"
      ],
      "metadata": {
        "id": "LpXEONHAdB05"
      },
      "execution_count": 11,
      "outputs": []
    },
    {
      "cell_type": "code",
      "source": [
        "from scipy.io import loadmat\n",
        "data = loadmat('sample_dataset.mat')\n"
      ],
      "metadata": {
        "id": "d6zBxz5JdDdk"
      },
      "execution_count": 3,
      "outputs": []
    },
    {
      "cell_type": "code",
      "source": [
        "height = data['height']\n",
        "weight = data['weight']\n"
      ],
      "metadata": {
        "id": "kw9BN4c5dH3w"
      },
      "execution_count": 4,
      "outputs": []
    },
    {
      "cell_type": "code",
      "source": [
        "height_mean = np.mean(height)\n",
        "height_median = np.median(height)\n",
        "height_std = np.std(height)\n",
        "\n",
        "weight_mean = np.mean(weight)\n",
        "weight_median = np.median(weight)\n",
        "weight_std = np.std(weight)\n"
      ],
      "metadata": {
        "id": "7JtvTXSadKC1"
      },
      "execution_count": 5,
      "outputs": []
    },
    {
      "cell_type": "code",
      "source": [
        "height = height.reshape(-1)\n",
        "weight = weight.reshape(-1)\n"
      ],
      "metadata": {
        "id": "2COR_Ii9dNBg"
      },
      "execution_count": 7,
      "outputs": []
    },
    {
      "cell_type": "code",
      "source": [
        "fit = sp.polyfit(height, weight, 1)\n"
      ],
      "metadata": {
        "colab": {
          "base_uri": "https://localhost:8080/"
        },
        "id": "LNtZ1adAdOit",
        "outputId": "f35865d6-e080-4a0b-a129-270c92a49d8d"
      },
      "execution_count": 8,
      "outputs": [
        {
          "output_type": "stream",
          "name": "stderr",
          "text": [
            "<ipython-input-8-7fc9053629d8>:1: DeprecationWarning: scipy.polyfit is deprecated and will be removed in SciPy 2.0.0, use numpy.polyfit instead\n",
            "  fit = sp.polyfit(height, weight, 1)\n"
          ]
        }
      ]
    },
    {
      "cell_type": "code",
      "source": [
        "import matplotlib.pyplot as plt\n",
        "plt.scatter(height, weight)\n",
        "plt.plot(height, sp.polyval(fit, height), 'r')\n",
        "plt.xlabel('Height (cm)')\n",
        "plt.ylabel('Weight (kg)')\n",
        "plt.show()\n"
      ],
      "metadata": {
        "colab": {
          "base_uri": "https://localhost:8080/",
          "height": 334
        },
        "id": "fBcpmB4NdrcR",
        "outputId": "bc5ced65-7386-4314-cecc-bbcb1974831c"
      },
      "execution_count": 9,
      "outputs": [
        {
          "output_type": "stream",
          "name": "stderr",
          "text": [
            "<ipython-input-9-07aa1d4e63dd>:3: DeprecationWarning: scipy.polyval is deprecated and will be removed in SciPy 2.0.0, use numpy.polyval instead\n",
            "  plt.plot(height, sp.polyval(fit, height), 'r')\n"
          ]
        },
        {
          "output_type": "display_data",
          "data": {
            "text/plain": [
              "<Figure size 432x288 with 1 Axes>"
            ],
            "image/png": "[encoded data removed]"
          },
          "metadata": {
            "needs_background": "light"
          }
        }
      ]
    },
    {
      "cell_type": "code",
      "source": [
        "correlation, p_value = sp.stats.pearsonr(height, weight)\n"
      ],
      "metadata": {
        "id": "ZsjZC87odvhS"
      },
      "execution_count": 12,
      "outputs": []
    },
    {
      "cell_type": "code",
      "source": [],
      "metadata": {
        "id": "5hxbRaabdySa"
      },
      "execution_count": null,
      "outputs": []
    }
  ]
}