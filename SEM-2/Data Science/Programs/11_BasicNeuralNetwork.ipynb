{
  "nbformat": 4,
  "nbformat_minor": 0,
  "metadata": {
    "colab": {
      "provenance": [],
      "include_colab_link": true
    },
    "kernelspec": {
      "name": "python3",
      "display_name": "Python 3"
    },
    "language_info": {
      "name": "python"
    },
    "accelerator": "GPU",
    "gpuClass": "standard"
  },
  "cells": [
    {
      "cell_type": "markdown",
      "metadata": {
        "id": "view-in-github",
        "colab_type": "text"
      },
      "source": [
        "<a href=\"https://colab.research.google.com/github/Deepsphere-AI/BCA/blob/main/SEM-2/Data%20Science/Programs/11_BasicNeuralNetwork.ipynb\" target=\"_parent\"><img src=\"https://colab.research.google.com/assets/colab-badge.svg\" alt=\"Open In Colab\"/></a>"
      ]
    },
    {
      "cell_type": "code",
      "source": [
        "# ***********************************************************************************************\n",
        "  \n",
        "  # File Name \t:   11_BasicNeuralNetwork\n",
        "  # Purpose \t  :   Install, Import Tensorflow and Keras. Create a Basic Neural Network with few layers\n",
        "  # Author\t    :   Deepsphere.ai\n",
        "  # Reviewer \t  :   Jothi Periasamy\n",
        "  # Date        :   08/02/2023 \n",
        "  # Version\t    :   1.0\t\n",
        "  \n",
        "# ***********************************************************************************************\n",
        "\n",
        "## Program Description : * This program creates a neural network with 3 layers\n",
        "#                        * The input layer has 128 neurons, the hidden layer has 50 neurons and the output layer has 10 neurons\n",
        "#                        * The network is trained on the MNIST dataset for 5 epochs.\n",
        "#                        * After training, the model is tested on the test data.\n",
        "\n",
        "## Python Development Environment & Runtime - Python, Anaconda\n",
        "\n",
        "### Prerequisite\n",
        "###To install TensorFlow and Keras, you can use the following pip command in your terminal or command prompt:\n",
        "###!pip install tensorflow\n",
        "\n",
        "#To import these libraries in your Python script, you can use the following code:\n",
        "import tensorflow as tf\n",
        "import keras\n",
        "\n",
        "#Load the MNIST dataset directly\n",
        "(vAR_x_train, vAR_y_train), (vAR_x_test, vAR_y_test) = keras.datasets.mnist.load_data()\n",
        "\n",
        "#Preprocess the data and training\n",
        "vAR_x_train = vAR_x_train.reshape(vAR_x_train.shape[0], 28 * 28) / 255.0\n",
        "vAR_x_test = vAR_x_test.reshape(vAR_x_test.shape[0], 28 * 28) / 255.0\n",
        "\n",
        "\n",
        "#input layer - 128 neurons\n",
        "#hidden layer - 50 neurons\n",
        "#output layer - 10 neurons\n",
        "# Since we have 0 to 9 numbers (i.e) 10 classes, Hence we are using softmax in the output layer.\n",
        "\n",
        "#Building the model\n",
        "vAR_model = keras.Sequential([\n",
        "    keras.layers.Dense(128, activation='relu', input_shape=(28 * 28,)),\n",
        "    keras.layers.Dense(50, activation='relu'),\n",
        "    keras.layers.Dense(10, activation='softmax')])\n",
        "\n",
        "#Compile the model\n",
        "#Since we have multiclass classification we are using \"sparse categorical crossentropy\"\n",
        "vAR_model.compile(optimizer='adam', loss='sparse_categorical_crossentropy', metrics=['accuracy'])\n",
        "\n",
        "#Training the model with 10 epochs.\n",
        "vAR_model.fit(vAR_x_train, vAR_y_train, epochs=5)\n",
        "\n",
        "#Getting the loss, accuracy and evaluation\n",
        "vAR_test_loss, vAR_test_acc = vAR_model.evaluate(vAR_x_test, vAR_y_test)\n",
        "\n",
        "\n",
        "#Printing the test accuracy\n",
        "\n",
        "print(\"\\n**************************OUTPUT***************************** \\n\")\n",
        "\n",
        "print('Test Accuracy:', round(vAR_test_acc*100))\n",
        "\n",
        "print(\"\\n*************************************************************\")"
      ],
      "metadata": {
        "id": "1rfS2IG_hzqQ",
        "outputId": "813e72a8-5875-42eb-b897-4715cd7973de",
        "colab": {
          "base_uri": "https://localhost:8080/"
        }
      },
      "execution_count": null,
      "outputs": [
        {
          "output_type": "stream",
          "name": "stdout",
          "text": [
            "Downloading data from https://storage.googleapis.com/tensorflow/tf-keras-datasets/mnist.npz\n",
            "11490434/11490434 [==============================] - 1s 0us/step\n",
            "Epoch 1/5\n",
            "1875/1875 [==============================] - 11s 3ms/step - loss: 0.2393 - accuracy: 0.9306\n",
            "Epoch 2/5\n",
            "1875/1875 [==============================] - 4s 2ms/step - loss: 0.0994 - accuracy: 0.9693\n",
            "Epoch 3/5\n",
            "1875/1875 [==============================] - 5s 3ms/step - loss: 0.0718 - accuracy: 0.9774\n",
            "Epoch 4/5\n",
            "1875/1875 [==============================] - 5s 3ms/step - loss: 0.0542 - accuracy: 0.9832\n",
            "Epoch 5/5\n",
            "1875/1875 [==============================] - 5s 2ms/step - loss: 0.0433 - accuracy: 0.9860\n",
            "313/313 [==============================] - 1s 3ms/step - loss: 0.0758 - accuracy: 0.9776\n",
            "\n",
            "**************************OUTPUT***************************** \n",
            "\n",
            "Test Accuracy: 98\n",
            "\n",
            "*************************************************************\n"
          ]
        }
      ]
    }
  ]
}