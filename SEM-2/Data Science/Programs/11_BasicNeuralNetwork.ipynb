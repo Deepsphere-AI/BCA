{
  "nbformat": 4,
  "nbformat_minor": 0,
  "metadata": {
    "colab": {
      "provenance": [],
      "include_colab_link": true
    },
    "kernelspec": {
      "name": "python3",
      "display_name": "Python 3"
    },
    "language_info": {
      "name": "python"
    },
    "accelerator": "GPU",
    "gpuClass": "standard"
  },
  "cells": [
    {
      "cell_type": "markdown",
      "metadata": {
        "id": "view-in-github",
        "colab_type": "text"
      },
      "source": [
        "<a href=\"https://colab.research.google.com/github/Deepsphere-AI/BCA/blob/main/SEM-2/Data%20Science/Programs/11_BasicNeuralNetwork.ipynb\" target=\"_parent\"><img src=\"https://colab.research.google.com/assets/colab-badge.svg\" alt=\"Open In Colab\"/></a>"
      ]
    },
    {
      "cell_type": "code",
      "source": [
        "# ***********************************************************************************************\n",
        "  \n",
        "  # File Name \t:   11_BasicNeuralNetwork\n",
        "  # Purpose \t  :   Install, Import Tensorflow and Keras. Create a Basic Neural Network with few layers\n",
        "  # Author\t    :   Deepsphere.ai\n",
        "  # Reviewer \t  :   Jothi Periasamy\n",
        "  # Date        :   08/02/2023 \n",
        "  # Version\t    :   1.0\t\n",
        "  \n",
        "# ***********************************************************************************************\n",
        "\n",
        "## Program Description : * This program creates a neural netowk with 3 layers\n",
        "#                        * The input layer has 128 neurons, the hidden layer has 50 neurons and the output layer has 10 neurons\n",
        "#                        * The network is trained on the MNIST dataset for 5 epochs.\n",
        "#                        * After training, the model is tested on the test data.\n",
        "\n",
        "## Python Development Environment & Runtime - Python, Anaconda"
      ],
      "metadata": {
        "id": "1rfS2IG_hzqQ"
      },
      "execution_count": null,
      "outputs": []
    },
    {
      "cell_type": "code",
      "execution_count": null,
      "metadata": {
        "id": "Dg0dBGBvawcU",
        "colab": {
          "base_uri": "https://localhost:8080/"
        },
        "outputId": "c13b2d4f-f9c9-403b-b52f-85bf105a6726"
      },
      "outputs": [
        {
          "output_type": "stream",
          "name": "stdout",
          "text": [
            "Epoch 1/5\n",
            "1875/1875 [==============================] - 5s 2ms/step - loss: 0.2440 - accuracy: 0.9277\n",
            "Epoch 2/5\n",
            "1875/1875 [==============================] - 5s 3ms/step - loss: 0.1033 - accuracy: 0.9687\n",
            "Epoch 3/5\n",
            "1875/1875 [==============================] - 4s 2ms/step - loss: 0.0721 - accuracy: 0.9775\n",
            "Epoch 4/5\n",
            "1875/1875 [==============================] - 5s 3ms/step - loss: 0.0529 - accuracy: 0.9833\n",
            "Epoch 5/5\n",
            "1875/1875 [==============================] - 4s 2ms/step - loss: 0.0434 - accuracy: 0.9855\n",
            "313/313 [==============================] - 1s 3ms/step - loss: 0.0856 - accuracy: 0.9754\n",
            "\n",
            "**************************OUTPUT***************************** \n",
            "\n",
            "Test Accuracy: 98\n",
            "\n",
            "*************************************************************\n"
          ]
        }
      ],
      "source": [
        "### Prerequisite\n",
        "###To install TensorFlow and Keras, you can use the following pip command in your terminal or command prompt:\n",
        "###!pip install tensorflow\n",
        "\n",
        "#To import these libraries in your Python script, you can use the following code:\n",
        "import tensorflow as tf\n",
        "import keras\n",
        "\n",
        "#Load the MNIST dataset directly\n",
        "(vAR_x_train, vAR_y_train), (vAR_x_test, vAR_y_test) = keras.datasets.mnist.load_data()\n",
        "\n",
        "#Preprocess the data and training\n",
        "vAR_x_train = vAR_x_train.reshape(vAR_x_train.shape[0], 28 * 28) / 255.0\n",
        "vAR_x_test = vAR_x_test.reshape(vAR_x_test.shape[0], 28 * 28) / 255.0\n",
        "\n",
        "\n",
        "#input layer - 128 neurons\n",
        "#hidden layer - 50 neurons\n",
        "#output layer - 10 neurons\n",
        "# Since we have 0 to 9 numbers (i.e) 10 classes, Hence we are using softmax in the output layer.\n",
        "\n",
        "#Building the model\n",
        "vAR_model = keras.Sequential([\n",
        "    keras.layers.Dense(128, activation='relu', input_shape=(28 * 28,)),\n",
        "    keras.layers.Dense(50, activation='relu'),\n",
        "    keras.layers.Dense(10, activation='softmax')])\n",
        "\n",
        "#Compile the model\n",
        "#Since we have multiclass classification we are using \"sparse categorical crossentropy\"\n",
        "vAR_model.compile(optimizer='adam', loss='sparse_categorical_crossentropy', metrics=['accuracy'])\n",
        "\n",
        "#Training the model with 10 epochs.\n",
        "vAR_model.fit(vAR_x_train, vAR_y_train, epochs=5)\n",
        "\n",
        "#Getting the loss, accuracy and evaluation\n",
        "vAR_test_loss, vAR_test_acc = vAR_model.evaluate(vAR_x_test, vAR_y_test)\n",
        "\n",
        "\n",
        "#Printing the test accuracy\n",
        "\n",
        "print(\"\\n**************************OUTPUT***************************** \\n\")\n",
        "\n",
        "print('Test Accuracy:', round(vAR_test_acc*100))\n",
        "\n",
        "print(\"\\n*************************************************************\")"
      ]
    }
  ]
}