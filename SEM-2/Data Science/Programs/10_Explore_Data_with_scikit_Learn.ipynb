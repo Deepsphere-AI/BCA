{
  "cells": [
    {
      "cell_type": "markdown",
      "metadata": {
        "id": "view-in-github",
        "colab_type": "text"
      },
      "source": [
        "<a href=\"https://colab.research.google.com/github/Deepsphere-AI/BCA/blob/main/SEM-2/Data%20Science/Programs/10_Explore_Data_with_scikit_Learn.ipynb\" target=\"_parent\"><img src=\"https://colab.research.google.com/assets/colab-badge.svg\" alt=\"Open In Colab\"/></a>"
      ]
    },
    {
      "cell_type": "code",
      "source": [
        "# ***********************************************************************************************\n",
        "  \n",
        "  # File Name \t:   10_Explore_Data_with_scikit_Learn\n",
        "  # Purpose \t  :   Install, Import Scikit Learn and Explore Iris Dataset with Pandas for ML Modelling\n",
        "  # Author\t    :   Deepsphere.ai\n",
        "  # Reviewer \t  :   Jothi Periasamy\n",
        "  # Date        :   08/02/2023 \n",
        "  # Version\t    :   1.0\t\n",
        "  \n",
        "# ***********************************************************************************************\n",
        "\n",
        "## Program Description : Classification of Iris flower using DecisionTreeClassifier ML Model.\n",
        "\n",
        "## Python Development Environment & Runtime - Python, Anaconda\n",
        "\n",
        "# ***********************************************************************************************\n",
        "!pip install scikit-learn\n",
        "\n",
        "import warnings\n",
        "warnings.filterwarnings(\"ignore\")\n",
        "import pandas as pd\n",
        "from sklearn import datasets\n",
        "from sklearn.model_selection import train_test_split\n",
        "from sklearn import tree\n",
        "\n",
        "\n",
        "# Load the data\n",
        "data = pd.read_csv(\"https://raw.githubusercontent.com/Deepsphere-AI/BCA/main/SEM-2/Data%20Science/Programs/Data/Iris.csv\")\n",
        "\n",
        "# Split the data into input and output variables\n",
        "vAR_X = data[['SepalLengthCm', 'PetalLengthCm']]\n",
        "vAR_y = data['Species']\n",
        "\n",
        "# Split the data into training and testing sets\n",
        "vAR_X_train, vAR_X_test, vAR_y_train, vAR_y_test = train_test_split(vAR_X, vAR_y, test_size=0.2, random_state=42)\n",
        "\n",
        "# Create a DecisionTreeClassifier object\n",
        "vAR_clf = tree.DecisionTreeClassifier()\n",
        "\n",
        "# Train the model using the training data\n",
        "vAR_clf.fit(vAR_X_train, vAR_y_train)\n",
        "\n",
        "print(\"\\n***************** Predicted Output - 1 **********************\\n\")\n",
        "vAR_sepal_length = 3.4\n",
        "vAR_petal_length = 1.4\n",
        "vAR_predicted = vAR_clf.predict([[vAR_sepal_length,vAR_petal_length]])\n",
        "print('Predicted flower is :',vAR_predicted[0])\n",
        "\n",
        "print(\"\\n***************** Predicted OutPut - 2 **********************\\n\")\n",
        "vAR_sepal_length = 2.3\n",
        "vAR_petal_length = 3.1\n",
        "vAR_predicted = vAR_clf.predict([[vAR_sepal_length,vAR_petal_length]])\n",
        "print('Predicted flower is :',vAR_predicted[0])"
      ],
      "metadata": {
        "id": "uImxxPoMQhDc",
        "colab": {
          "base_uri": "https://localhost:8080/"
        },
        "outputId": "6036e79d-b84d-4a08-d4ed-e767f488ca08"
      },
      "execution_count": 1,
      "outputs": [
        {
          "output_type": "stream",
          "name": "stdout",
          "text": [
            "Looking in indexes: https://pypi.org/simple, https://us-python.pkg.dev/colab-wheels/public/simple/\n",
            "Requirement already satisfied: scikit-learn in /usr/local/lib/python3.8/dist-packages (1.2.1)\n",
            "Requirement already satisfied: threadpoolctl>=2.0.0 in /usr/local/lib/python3.8/dist-packages (from scikit-learn) (3.1.0)\n",
            "Requirement already satisfied: joblib>=1.1.1 in /usr/local/lib/python3.8/dist-packages (from scikit-learn) (1.2.0)\n",
            "Requirement already satisfied: numpy>=1.17.3 in /usr/local/lib/python3.8/dist-packages (from scikit-learn) (1.22.4)\n",
            "Requirement already satisfied: scipy>=1.3.2 in /usr/local/lib/python3.8/dist-packages (from scikit-learn) (1.10.1)\n",
            "\n",
            "***************** Predicted Output - 1 **********************\n",
            "\n",
            "Predicted flower is : Iris-setosa\n",
            "\n",
            "***************** Predicted OutPut - 2 **********************\n",
            "\n",
            "Predicted flower is : Iris-versicolor\n"
          ]
        }
      ]
    }
  ],
  "metadata": {
    "colab": {
      "provenance": [],
      "include_colab_link": true
    },
    "kernelspec": {
      "display_name": "Python 3",
      "name": "python3"
    }
  },
  "nbformat": 4,
  "nbformat_minor": 0
}