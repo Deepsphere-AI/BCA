{
  "cells": [
    {
      "cell_type": "markdown",
      "metadata": {
        "id": "view-in-github",
        "colab_type": "text"
      },
      "source": [
        "<a href=\"https://colab.research.google.com/github/Deepsphere-AI/BCA/blob/main/EDA_On_Business_Intelligence_Applications(1).ipynb\" target=\"_parent\"><img src=\"https://colab.research.google.com/assets/colab-badge.svg\" alt=\"Open In Colab\"/></a>"
      ]
    },
    {
      "cell_type": "markdown",
      "metadata": {
        "id": "TOvht7vqQGdR",
        "papermill": {
          "duration": 0.030335,
          "end_time": "2020-11-27T11:52:28.446538",
          "exception": false,
          "start_time": "2020-11-27T11:52:28.416203",
          "status": "completed"
        },
        "tags": []
      },
      "source": [
        "# Exploratory data analysis in Python."
      ]
    },
    {
      "cell_type": "markdown",
      "metadata": {
        "id": "dB_j6LtTTO5j",
        "papermill": {
          "duration": 0.02728,
          "end_time": "2020-11-27T11:52:28.666647",
          "exception": false,
          "start_time": "2020-11-27T11:52:28.639367",
          "status": "completed"
        },
        "tags": []
      },
      "source": [
        "## Introduction"
      ]
    },
    {
      "cell_type": "markdown",
      "metadata": {
        "id": "8hg00soETQ3z",
        "papermill": {
          "duration": 0.027462,
          "end_time": "2020-11-27T11:52:28.721524",
          "exception": false,
          "start_time": "2020-11-27T11:52:28.694062",
          "status": "completed"
        },
        "tags": []
      },
      "source": [
        "**What is Exploratory Data Analysis ?**\n",
        "\n",
        "Exploratory Data Analysis (EDA) is a crucial initial step in the data analysis process where the goal is to understand the underlying structure, patterns, relationships, and anomalies in a dataset. It is a process of visually and statistically investigating a dataset to gain insights, identify trends and relationships, and uncover any potential issues or limitations. EDA typically involves techniques such as:\n",
        "\n",
        "Descriptive statistics (e.g., mean, median, standard deviation, etc.) to understand the basic structure of the data.\n",
        "Data visualization (e.g., histograms, scatter plots, box plots, etc.) to visually represent the relationships between variables and to identify outliers or anomalies.\n",
        "Dimensionality reduction techniques (e.g., PCA, t-SNE, etc.) to reduce the number of variables and visualize complex relationships.\n",
        "Hypothesis testing to test assumptions about the data and make inferences about the population based on the sample.\n",
        "EDA is an iterative process, and the results of EDA can inform the selection of appropriate statistical models and algorithms for the subsequent stages of data analysis.\n",
        "\n",
        "## Overview\n",
        "\n",
        "This is an exploratory data analysis on the car data found at Kaggle Competition \n",
        "\n",
        "https://www.kaggle.com/datasets/CooperUnion/cardataset"
      ]
    },
    {
      "cell_type": "markdown",
      "metadata": {
        "id": "n3VfNkBBw15s",
        "papermill": {
          "duration": 0.027082,
          "end_time": "2020-11-27T11:52:28.830620",
          "exception": false,
          "start_time": "2020-11-27T11:52:28.803538",
          "status": "completed"
        },
        "tags": []
      },
      "source": [
        "**What data are we are exploring here ?**\n",
        "\n",
        "\n",
        "\n",
        "To give a piece of brief information about the data  set this data contains more of 10, 000 rows and more than 10 columns which contains features of the car such as Engine Fuel Type, Engine HP, Transmission Type, highway MPG, city MPG and many more.we will explore the data and make it ready for modeling."
      ]
    },
    {
      "cell_type": "markdown",
      "metadata": {
        "id": "CQDO4JCqTThV",
        "papermill": {
          "duration": 0.027108,
          "end_time": "2020-11-27T11:52:28.885282",
          "exception": false,
          "start_time": "2020-11-27T11:52:28.858174",
          "status": "completed"
        },
        "tags": []
      },
      "source": [
        "\n",
        "\n",
        "---\n",
        "\n"
      ]
    },
    {
      "cell_type": "markdown",
      "metadata": {
        "id": "FPSqz1wzTXvz",
        "papermill": {
          "duration": 0.027001,
          "end_time": "2020-11-27T11:52:28.939572",
          "exception": false,
          "start_time": "2020-11-27T11:52:28.912571",
          "status": "completed"
        },
        "tags": []
      },
      "source": [
        "## 1. Importing libraries for EDA"
      ]
    },
    {
      "cell_type": "markdown",
      "metadata": {
        "id": "9eLMx1Ebwa92",
        "papermill": {
          "duration": 0.027148,
          "end_time": "2020-11-27T11:52:28.994036",
          "exception": false,
          "start_time": "2020-11-27T11:52:28.966888",
          "status": "completed"
        },
        "tags": []
      },
      "source": [
        "Below are the libraries that are used in order to perform EDA (Exploratory data analysis) in this tutorial."
      ]
    },
    {
      "cell_type": "code",
      "execution_count": 61,
      "metadata": {
        "execution": {
          "iopub.execute_input": "2020-11-27T11:52:29.055248Z",
          "iopub.status.busy": "2020-11-27T11:52:29.054583Z",
          "iopub.status.idle": "2020-11-27T11:52:30.054016Z",
          "shell.execute_reply": "2020-11-27T11:52:30.053317Z"
        },
        "id": "GGyDovL2QDLa",
        "papermill": {
          "duration": 1.032787,
          "end_time": "2020-11-27T11:52:30.054137",
          "exception": false,
          "start_time": "2020-11-27T11:52:29.021350",
          "status": "completed"
        },
        "tags": []
      },
      "outputs": [],
      "source": [
        "import pandas as pd\n",
        "import numpy as np\n",
        "import seaborn as sns                       \n",
        "import matplotlib.pyplot as plt            \n",
        "%matplotlib inline     \n",
        "sns.set(color_codes=True)"
      ]
    },
    {
      "cell_type": "markdown",
      "metadata": {
        "id": "Ye6eXuohTd5Q",
        "papermill": {
          "duration": 0.028147,
          "end_time": "2020-11-27T11:52:30.110492",
          "exception": false,
          "start_time": "2020-11-27T11:52:30.082345",
          "status": "completed"
        },
        "tags": []
      },
      "source": [
        "\n",
        "\n",
        "---\n",
        "\n"
      ]
    },
    {
      "cell_type": "markdown",
      "metadata": {
        "id": "8Y3Z2DbKTfJt",
        "papermill": {
          "duration": 0.027409,
          "end_time": "2020-11-27T11:52:30.165749",
          "exception": false,
          "start_time": "2020-11-27T11:52:30.138340",
          "status": "completed"
        },
        "tags": []
      },
      "source": [
        "## 2. Creating a DataFrame."
      ]
    },
    {
      "cell_type": "markdown",
      "metadata": {
        "id": "ko5zGJFCySaz",
        "papermill": {
          "duration": 0.027623,
          "end_time": "2020-11-27T11:52:30.221200",
          "exception": false,
          "start_time": "2020-11-27T11:52:30.193577",
          "status": "completed"
        },
        "tags": []
      },
      "source": [
        "One of the key stages in Exploratory Data Analysis (EDA) is importing the data into a pandas data frame, particularly since the values in the dataset are separated by commas. This task can be easily accomplished by using pandas to read the CSV file and convert it into a data frame."
      ]
    },
    {
      "cell_type": "code",
      "execution_count": 62,
      "metadata": {
        "execution": {
          "iopub.execute_input": "2020-11-27T11:52:30.341297Z",
          "iopub.status.busy": "2020-11-27T11:52:30.340585Z",
          "iopub.status.idle": "2020-11-27T11:52:30.408536Z",
          "shell.execute_reply": "2020-11-27T11:52:30.409040Z"
        },
        "id": "0oVZnezwQ159",
        "outputId": "822fc390-cbb0-479c-edef-adfc352e9e37",
        "papermill": {
          "duration": 0.104836,
          "end_time": "2020-11-27T11:52:30.409177",
          "exception": false,
          "start_time": "2020-11-27T11:52:30.304341",
          "status": "completed"
        },
        "tags": [],
        "colab": {
          "base_uri": "https://localhost:8080/",
          "height": 478
        }
      },
      "outputs": [
        {
          "output_type": "execute_result",
          "data": {
            "text/plain": [
              "  Make       Model  Year             Engine Fuel Type  Engine HP  \\\n",
              "0  BMW  1 Series M  2011  premium unleaded (required)      335.0   \n",
              "1  BMW    1 Series  2011  premium unleaded (required)      300.0   \n",
              "2  BMW    1 Series  2011  premium unleaded (required)      300.0   \n",
              "3  BMW    1 Series  2011  premium unleaded (required)      230.0   \n",
              "4  BMW    1 Series  2011  premium unleaded (required)      230.0   \n",
              "\n",
              "   Engine Cylinders Transmission Type     Driven_Wheels  Number of Doors  \\\n",
              "0               6.0            MANUAL  rear wheel drive              2.0   \n",
              "1               6.0            MANUAL  rear wheel drive              2.0   \n",
              "2               6.0            MANUAL  rear wheel drive              2.0   \n",
              "3               6.0            MANUAL  rear wheel drive              2.0   \n",
              "4               6.0            MANUAL  rear wheel drive              2.0   \n",
              "\n",
              "                         Market Category Vehicle Size Vehicle Style  \\\n",
              "0  Factory Tuner,Luxury,High-Performance      Compact         Coupe   \n",
              "1                     Luxury,Performance      Compact   Convertible   \n",
              "2                Luxury,High-Performance      Compact         Coupe   \n",
              "3                     Luxury,Performance      Compact         Coupe   \n",
              "4                                 Luxury      Compact   Convertible   \n",
              "\n",
              "   highway MPG  city mpg  Popularity   MSRP  \n",
              "0           26        19        3916  46135  \n",
              "1           28        19        3916  40650  \n",
              "2           28        20        3916  36350  \n",
              "3           28        18        3916  29450  \n",
              "4           28        18        3916  34500  "
            ],
            "text/html": [
              "\n",
              "  <div id=\"df-ee0bb139-d428-4f80-8a20-c90250ca7a9d\">\n",
              "    <div class=\"colab-df-container\">\n",
              "      <div>\n",
              "<style scoped>\n",
              "    .dataframe tbody tr th:only-of-type {\n",
              "        vertical-align: middle;\n",
              "    }\n",
              "\n",
              "    .dataframe tbody tr th {\n",
              "        vertical-align: top;\n",
              "    }\n",
              "\n",
              "    .dataframe thead th {\n",
              "        text-align: right;\n",
              "    }\n",
              "</style>\n",
              "<table border=\"1\" class=\"dataframe\">\n",
              "  <thead>\n",
              "    <tr style=\"text-align: right;\">\n",
              "      <th></th>\n",
              "      <th>Make</th>\n",
              "      <th>Model</th>\n",
              "      <th>Year</th>\n",
              "      <th>Engine Fuel Type</th>\n",
              "      <th>Engine HP</th>\n",
              "      <th>Engine Cylinders</th>\n",
              "      <th>Transmission Type</th>\n",
              "      <th>Driven_Wheels</th>\n",
              "      <th>Number of Doors</th>\n",
              "      <th>Market Category</th>\n",
              "      <th>Vehicle Size</th>\n",
              "      <th>Vehicle Style</th>\n",
              "      <th>highway MPG</th>\n",
              "      <th>city mpg</th>\n",
              "      <th>Popularity</th>\n",
              "      <th>MSRP</th>\n",
              "    </tr>\n",
              "  </thead>\n",
              "  <tbody>\n",
              "    <tr>\n",
              "      <th>0</th>\n",
              "      <td>BMW</td>\n",
              "      <td>1 Series M</td>\n",
              "      <td>2011</td>\n",
              "      <td>premium unleaded (required)</td>\n",
              "      <td>335.0</td>\n",
              "      <td>6.0</td>\n",
              "      <td>MANUAL</td>\n",
              "      <td>rear wheel drive</td>\n",
              "      <td>2.0</td>\n",
              "      <td>Factory Tuner,Luxury,High-Performance</td>\n",
              "      <td>Compact</td>\n",
              "      <td>Coupe</td>\n",
              "      <td>26</td>\n",
              "      <td>19</td>\n",
              "      <td>3916</td>\n",
              "      <td>46135</td>\n",
              "    </tr>\n",
              "    <tr>\n",
              "      <th>1</th>\n",
              "      <td>BMW</td>\n",
              "      <td>1 Series</td>\n",
              "      <td>2011</td>\n",
              "      <td>premium unleaded (required)</td>\n",
              "      <td>300.0</td>\n",
              "      <td>6.0</td>\n",
              "      <td>MANUAL</td>\n",
              "      <td>rear wheel drive</td>\n",
              "      <td>2.0</td>\n",
              "      <td>Luxury,Performance</td>\n",
              "      <td>Compact</td>\n",
              "      <td>Convertible</td>\n",
              "      <td>28</td>\n",
              "      <td>19</td>\n",
              "      <td>3916</td>\n",
              "      <td>40650</td>\n",
              "    </tr>\n",
              "    <tr>\n",
              "      <th>2</th>\n",
              "      <td>BMW</td>\n",
              "      <td>1 Series</td>\n",
              "      <td>2011</td>\n",
              "      <td>premium unleaded (required)</td>\n",
              "      <td>300.0</td>\n",
              "      <td>6.0</td>\n",
              "      <td>MANUAL</td>\n",
              "      <td>rear wheel drive</td>\n",
              "      <td>2.0</td>\n",
              "      <td>Luxury,High-Performance</td>\n",
              "      <td>Compact</td>\n",
              "      <td>Coupe</td>\n",
              "      <td>28</td>\n",
              "      <td>20</td>\n",
              "      <td>3916</td>\n",
              "      <td>36350</td>\n",
              "    </tr>\n",
              "    <tr>\n",
              "      <th>3</th>\n",
              "      <td>BMW</td>\n",
              "      <td>1 Series</td>\n",
              "      <td>2011</td>\n",
              "      <td>premium unleaded (required)</td>\n",
              "      <td>230.0</td>\n",
              "      <td>6.0</td>\n",
              "      <td>MANUAL</td>\n",
              "      <td>rear wheel drive</td>\n",
              "      <td>2.0</td>\n",
              "      <td>Luxury,Performance</td>\n",
              "      <td>Compact</td>\n",
              "      <td>Coupe</td>\n",
              "      <td>28</td>\n",
              "      <td>18</td>\n",
              "      <td>3916</td>\n",
              "      <td>29450</td>\n",
              "    </tr>\n",
              "    <tr>\n",
              "      <th>4</th>\n",
              "      <td>BMW</td>\n",
              "      <td>1 Series</td>\n",
              "      <td>2011</td>\n",
              "      <td>premium unleaded (required)</td>\n",
              "      <td>230.0</td>\n",
              "      <td>6.0</td>\n",
              "      <td>MANUAL</td>\n",
              "      <td>rear wheel drive</td>\n",
              "      <td>2.0</td>\n",
              "      <td>Luxury</td>\n",
              "      <td>Compact</td>\n",
              "      <td>Convertible</td>\n",
              "      <td>28</td>\n",
              "      <td>18</td>\n",
              "      <td>3916</td>\n",
              "      <td>34500</td>\n",
              "    </tr>\n",
              "  </tbody>\n",
              "</table>\n",
              "</div>\n",
              "      <button class=\"colab-df-convert\" onclick=\"convertToInteractive('df-ee0bb139-d428-4f80-8a20-c90250ca7a9d')\"\n",
              "              title=\"Convert this dataframe to an interactive table.\"\n",
              "              style=\"display:none;\">\n",
              "        \n",
              "  <svg xmlns=\"http://www.w3.org/2000/svg\" height=\"24px\"viewBox=\"0 0 24 24\"\n",
              "       width=\"24px\">\n",
              "    <path d=\"M0 0h24v24H0V0z\" fill=\"none\"/>\n",
              "    <path d=\"M18.56 5.44l.94 2.06.94-2.06 2.06-.94-2.06-.94-.94-2.06-.94 2.06-2.06.94zm-11 1L8.5 8.5l.94-2.06 2.06-.94-2.06-.94L8.5 2.5l-.94 2.06-2.06.94zm10 10l.94 2.06.94-2.06 2.06-.94-2.06-.94-.94-2.06-.94 2.06-2.06.94z\"/><path d=\"M17.41 7.96l-1.37-1.37c-.4-.4-.92-.59-1.43-.59-.52 0-1.04.2-1.43.59L10.3 9.45l-7.72 7.72c-.78.78-.78 2.05 0 2.83L4 21.41c.39.39.9.59 1.41.59.51 0 1.02-.2 1.41-.59l7.78-7.78 2.81-2.81c.8-.78.8-2.07 0-2.86zM5.41 20L4 18.59l7.72-7.72 1.47 1.35L5.41 20z\"/>\n",
              "  </svg>\n",
              "      </button>\n",
              "      \n",
              "  <style>\n",
              "    .colab-df-container {\n",
              "      display:flex;\n",
              "      flex-wrap:wrap;\n",
              "      gap: 12px;\n",
              "    }\n",
              "\n",
              "    .colab-df-convert {\n",
              "      background-color: #E8F0FE;\n",
              "      border: none;\n",
              "      border-radius: 50%;\n",
              "      cursor: pointer;\n",
              "      display: none;\n",
              "      fill: #1967D2;\n",
              "      height: 32px;\n",
              "      padding: 0 0 0 0;\n",
              "      width: 32px;\n",
              "    }\n",
              "\n",
              "    .colab-df-convert:hover {\n",
              "      background-color: #E2EBFA;\n",
              "      box-shadow: 0px 1px 2px rgba(60, 64, 67, 0.3), 0px 1px 3px 1px rgba(60, 64, 67, 0.15);\n",
              "      fill: #174EA6;\n",
              "    }\n",
              "\n",
              "    [theme=dark] .colab-df-convert {\n",
              "      background-color: #3B4455;\n",
              "      fill: #D2E3FC;\n",
              "    }\n",
              "\n",
              "    [theme=dark] .colab-df-convert:hover {\n",
              "      background-color: #434B5C;\n",
              "      box-shadow: 0px 1px 3px 1px rgba(0, 0, 0, 0.15);\n",
              "      filter: drop-shadow(0px 1px 2px rgba(0, 0, 0, 0.3));\n",
              "      fill: #FFFFFF;\n",
              "    }\n",
              "  </style>\n",
              "\n",
              "      <script>\n",
              "        const buttonEl =\n",
              "          document.querySelector('#df-ee0bb139-d428-4f80-8a20-c90250ca7a9d button.colab-df-convert');\n",
              "        buttonEl.style.display =\n",
              "          google.colab.kernel.accessAllowed ? 'block' : 'none';\n",
              "\n",
              "        async function convertToInteractive(key) {\n",
              "          const element = document.querySelector('#df-ee0bb139-d428-4f80-8a20-c90250ca7a9d');\n",
              "          const dataTable =\n",
              "            await google.colab.kernel.invokeFunction('convertToInteractive',\n",
              "                                                     [key], {});\n",
              "          if (!dataTable) return;\n",
              "\n",
              "          const docLinkHtml = 'Like what you see? Visit the ' +\n",
              "            '<a target=\"_blank\" href=https://colab.research.google.com/notebooks/data_table.ipynb>data table notebook</a>'\n",
              "            + ' to learn more about interactive tables.';\n",
              "          element.innerHTML = '';\n",
              "          dataTable['output_type'] = 'display_data';\n",
              "          await google.colab.output.renderOutput(dataTable, element);\n",
              "          const docLink = document.createElement('div');\n",
              "          docLink.innerHTML = docLinkHtml;\n",
              "          element.appendChild(docLink);\n",
              "        }\n",
              "      </script>\n",
              "    </div>\n",
              "  </div>\n",
              "  "
            ]
          },
          "metadata": {},
          "execution_count": 62
        }
      ],
      "source": [
        "dataframe = pd.read_csv(\"/content/data.csv\")\n",
        "# To display the top 5 rows \n",
        "dataframe.head(5)               "
      ]
    },
    {
      "cell_type": "code",
      "execution_count": 63,
      "metadata": {
        "execution": {
          "iopub.execute_input": "2020-11-27T11:52:30.487251Z",
          "iopub.status.busy": "2020-11-27T11:52:30.486184Z",
          "iopub.status.idle": "2020-11-27T11:52:30.490767Z",
          "shell.execute_reply": "2020-11-27T11:52:30.490289Z"
        },
        "id": "Fm-9dzdTRKpe",
        "outputId": "5eae2600-a5b7-4836-f05a-1aa812d56e93",
        "papermill": {
          "duration": 0.052534,
          "end_time": "2020-11-27T11:52:30.490899",
          "exception": false,
          "start_time": "2020-11-27T11:52:30.438365",
          "status": "completed"
        },
        "tags": [],
        "colab": {
          "base_uri": "https://localhost:8080/",
          "height": 461
        }
      },
      "outputs": [
        {
          "output_type": "execute_result",
          "data": {
            "text/plain": [
              "          Make   Model  Year                Engine Fuel Type  Engine HP  \\\n",
              "11909    Acura     ZDX  2012     premium unleaded (required)      300.0   \n",
              "11910    Acura     ZDX  2012     premium unleaded (required)      300.0   \n",
              "11911    Acura     ZDX  2012     premium unleaded (required)      300.0   \n",
              "11912    Acura     ZDX  2013  premium unleaded (recommended)      300.0   \n",
              "11913  Lincoln  Zephyr  2006                regular unleaded      221.0   \n",
              "\n",
              "       Engine Cylinders Transmission Type      Driven_Wheels  Number of Doors  \\\n",
              "11909               6.0         AUTOMATIC    all wheel drive              4.0   \n",
              "11910               6.0         AUTOMATIC    all wheel drive              4.0   \n",
              "11911               6.0         AUTOMATIC    all wheel drive              4.0   \n",
              "11912               6.0         AUTOMATIC    all wheel drive              4.0   \n",
              "11913               6.0         AUTOMATIC  front wheel drive              4.0   \n",
              "\n",
              "                  Market Category Vehicle Size  Vehicle Style  highway MPG  \\\n",
              "11909  Crossover,Hatchback,Luxury      Midsize  4dr Hatchback           23   \n",
              "11910  Crossover,Hatchback,Luxury      Midsize  4dr Hatchback           23   \n",
              "11911  Crossover,Hatchback,Luxury      Midsize  4dr Hatchback           23   \n",
              "11912  Crossover,Hatchback,Luxury      Midsize  4dr Hatchback           23   \n",
              "11913                      Luxury      Midsize          Sedan           26   \n",
              "\n",
              "       city mpg  Popularity   MSRP  \n",
              "11909        16         204  46120  \n",
              "11910        16         204  56670  \n",
              "11911        16         204  50620  \n",
              "11912        16         204  50920  \n",
              "11913        17          61  28995  "
            ],
            "text/html": [
              "\n",
              "  <div id=\"df-d69d0174-5fea-484d-b981-4ea67be4a31a\">\n",
              "    <div class=\"colab-df-container\">\n",
              "      <div>\n",
              "<style scoped>\n",
              "    .dataframe tbody tr th:only-of-type {\n",
              "        vertical-align: middle;\n",
              "    }\n",
              "\n",
              "    .dataframe tbody tr th {\n",
              "        vertical-align: top;\n",
              "    }\n",
              "\n",
              "    .dataframe thead th {\n",
              "        text-align: right;\n",
              "    }\n",
              "</style>\n",
              "<table border=\"1\" class=\"dataframe\">\n",
              "  <thead>\n",
              "    <tr style=\"text-align: right;\">\n",
              "      <th></th>\n",
              "      <th>Make</th>\n",
              "      <th>Model</th>\n",
              "      <th>Year</th>\n",
              "      <th>Engine Fuel Type</th>\n",
              "      <th>Engine HP</th>\n",
              "      <th>Engine Cylinders</th>\n",
              "      <th>Transmission Type</th>\n",
              "      <th>Driven_Wheels</th>\n",
              "      <th>Number of Doors</th>\n",
              "      <th>Market Category</th>\n",
              "      <th>Vehicle Size</th>\n",
              "      <th>Vehicle Style</th>\n",
              "      <th>highway MPG</th>\n",
              "      <th>city mpg</th>\n",
              "      <th>Popularity</th>\n",
              "      <th>MSRP</th>\n",
              "    </tr>\n",
              "  </thead>\n",
              "  <tbody>\n",
              "    <tr>\n",
              "      <th>11909</th>\n",
              "      <td>Acura</td>\n",
              "      <td>ZDX</td>\n",
              "      <td>2012</td>\n",
              "      <td>premium unleaded (required)</td>\n",
              "      <td>300.0</td>\n",
              "      <td>6.0</td>\n",
              "      <td>AUTOMATIC</td>\n",
              "      <td>all wheel drive</td>\n",
              "      <td>4.0</td>\n",
              "      <td>Crossover,Hatchback,Luxury</td>\n",
              "      <td>Midsize</td>\n",
              "      <td>4dr Hatchback</td>\n",
              "      <td>23</td>\n",
              "      <td>16</td>\n",
              "      <td>204</td>\n",
              "      <td>46120</td>\n",
              "    </tr>\n",
              "    <tr>\n",
              "      <th>11910</th>\n",
              "      <td>Acura</td>\n",
              "      <td>ZDX</td>\n",
              "      <td>2012</td>\n",
              "      <td>premium unleaded (required)</td>\n",
              "      <td>300.0</td>\n",
              "      <td>6.0</td>\n",
              "      <td>AUTOMATIC</td>\n",
              "      <td>all wheel drive</td>\n",
              "      <td>4.0</td>\n",
              "      <td>Crossover,Hatchback,Luxury</td>\n",
              "      <td>Midsize</td>\n",
              "      <td>4dr Hatchback</td>\n",
              "      <td>23</td>\n",
              "      <td>16</td>\n",
              "      <td>204</td>\n",
              "      <td>56670</td>\n",
              "    </tr>\n",
              "    <tr>\n",
              "      <th>11911</th>\n",
              "      <td>Acura</td>\n",
              "      <td>ZDX</td>\n",
              "      <td>2012</td>\n",
              "      <td>premium unleaded (required)</td>\n",
              "      <td>300.0</td>\n",
              "      <td>6.0</td>\n",
              "      <td>AUTOMATIC</td>\n",
              "      <td>all wheel drive</td>\n",
              "      <td>4.0</td>\n",
              "      <td>Crossover,Hatchback,Luxury</td>\n",
              "      <td>Midsize</td>\n",
              "      <td>4dr Hatchback</td>\n",
              "      <td>23</td>\n",
              "      <td>16</td>\n",
              "      <td>204</td>\n",
              "      <td>50620</td>\n",
              "    </tr>\n",
              "    <tr>\n",
              "      <th>11912</th>\n",
              "      <td>Acura</td>\n",
              "      <td>ZDX</td>\n",
              "      <td>2013</td>\n",
              "      <td>premium unleaded (recommended)</td>\n",
              "      <td>300.0</td>\n",
              "      <td>6.0</td>\n",
              "      <td>AUTOMATIC</td>\n",
              "      <td>all wheel drive</td>\n",
              "      <td>4.0</td>\n",
              "      <td>Crossover,Hatchback,Luxury</td>\n",
              "      <td>Midsize</td>\n",
              "      <td>4dr Hatchback</td>\n",
              "      <td>23</td>\n",
              "      <td>16</td>\n",
              "      <td>204</td>\n",
              "      <td>50920</td>\n",
              "    </tr>\n",
              "    <tr>\n",
              "      <th>11913</th>\n",
              "      <td>Lincoln</td>\n",
              "      <td>Zephyr</td>\n",
              "      <td>2006</td>\n",
              "      <td>regular unleaded</td>\n",
              "      <td>221.0</td>\n",
              "      <td>6.0</td>\n",
              "      <td>AUTOMATIC</td>\n",
              "      <td>front wheel drive</td>\n",
              "      <td>4.0</td>\n",
              "      <td>Luxury</td>\n",
              "      <td>Midsize</td>\n",
              "      <td>Sedan</td>\n",
              "      <td>26</td>\n",
              "      <td>17</td>\n",
              "      <td>61</td>\n",
              "      <td>28995</td>\n",
              "    </tr>\n",
              "  </tbody>\n",
              "</table>\n",
              "</div>\n",
              "      <button class=\"colab-df-convert\" onclick=\"convertToInteractive('df-d69d0174-5fea-484d-b981-4ea67be4a31a')\"\n",
              "              title=\"Convert this dataframe to an interactive table.\"\n",
              "              style=\"display:none;\">\n",
              "        \n",
              "  <svg xmlns=\"http://www.w3.org/2000/svg\" height=\"24px\"viewBox=\"0 0 24 24\"\n",
              "       width=\"24px\">\n",
              "    <path d=\"M0 0h24v24H0V0z\" fill=\"none\"/>\n",
              "    <path d=\"M18.56 5.44l.94 2.06.94-2.06 2.06-.94-2.06-.94-.94-2.06-.94 2.06-2.06.94zm-11 1L8.5 8.5l.94-2.06 2.06-.94-2.06-.94L8.5 2.5l-.94 2.06-2.06.94zm10 10l.94 2.06.94-2.06 2.06-.94-2.06-.94-.94-2.06-.94 2.06-2.06.94z\"/><path d=\"M17.41 7.96l-1.37-1.37c-.4-.4-.92-.59-1.43-.59-.52 0-1.04.2-1.43.59L10.3 9.45l-7.72 7.72c-.78.78-.78 2.05 0 2.83L4 21.41c.39.39.9.59 1.41.59.51 0 1.02-.2 1.41-.59l7.78-7.78 2.81-2.81c.8-.78.8-2.07 0-2.86zM5.41 20L4 18.59l7.72-7.72 1.47 1.35L5.41 20z\"/>\n",
              "  </svg>\n",
              "      </button>\n",
              "      \n",
              "  <style>\n",
              "    .colab-df-container {\n",
              "      display:flex;\n",
              "      flex-wrap:wrap;\n",
              "      gap: 12px;\n",
              "    }\n",
              "\n",
              "    .colab-df-convert {\n",
              "      background-color: #E8F0FE;\n",
              "      border: none;\n",
              "      border-radius: 50%;\n",
              "      cursor: pointer;\n",
              "      display: none;\n",
              "      fill: #1967D2;\n",
              "      height: 32px;\n",
              "      padding: 0 0 0 0;\n",
              "      width: 32px;\n",
              "    }\n",
              "\n",
              "    .colab-df-convert:hover {\n",
              "      background-color: #E2EBFA;\n",
              "      box-shadow: 0px 1px 2px rgba(60, 64, 67, 0.3), 0px 1px 3px 1px rgba(60, 64, 67, 0.15);\n",
              "      fill: #174EA6;\n",
              "    }\n",
              "\n",
              "    [theme=dark] .colab-df-convert {\n",
              "      background-color: #3B4455;\n",
              "      fill: #D2E3FC;\n",
              "    }\n",
              "\n",
              "    [theme=dark] .colab-df-convert:hover {\n",
              "      background-color: #434B5C;\n",
              "      box-shadow: 0px 1px 3px 1px rgba(0, 0, 0, 0.15);\n",
              "      filter: drop-shadow(0px 1px 2px rgba(0, 0, 0, 0.3));\n",
              "      fill: #FFFFFF;\n",
              "    }\n",
              "  </style>\n",
              "\n",
              "      <script>\n",
              "        const buttonEl =\n",
              "          document.querySelector('#df-d69d0174-5fea-484d-b981-4ea67be4a31a button.colab-df-convert');\n",
              "        buttonEl.style.display =\n",
              "          google.colab.kernel.accessAllowed ? 'block' : 'none';\n",
              "\n",
              "        async function convertToInteractive(key) {\n",
              "          const element = document.querySelector('#df-d69d0174-5fea-484d-b981-4ea67be4a31a');\n",
              "          const dataTable =\n",
              "            await google.colab.kernel.invokeFunction('convertToInteractive',\n",
              "                                                     [key], {});\n",
              "          if (!dataTable) return;\n",
              "\n",
              "          const docLinkHtml = 'Like what you see? Visit the ' +\n",
              "            '<a target=\"_blank\" href=https://colab.research.google.com/notebooks/data_table.ipynb>data table notebook</a>'\n",
              "            + ' to learn more about interactive tables.';\n",
              "          element.innerHTML = '';\n",
              "          dataTable['output_type'] = 'display_data';\n",
              "          await google.colab.output.renderOutput(dataTable, element);\n",
              "          const docLink = document.createElement('div');\n",
              "          docLink.innerHTML = docLinkHtml;\n",
              "          element.appendChild(docLink);\n",
              "        }\n",
              "      </script>\n",
              "    </div>\n",
              "  </div>\n",
              "  "
            ]
          },
          "metadata": {},
          "execution_count": 63
        }
      ],
      "source": [
        "dataframe.tail(5)                        # To display the botton 5 rows"
      ]
    },
    {
      "cell_type": "code",
      "source": [
        "# To print any 5 Random rows\n",
        "\n",
        "dataframe.sample(5)"
      ],
      "metadata": {
        "colab": {
          "base_uri": "https://localhost:8080/",
          "height": 461
        },
        "id": "CYw8CMdDXDSu",
        "outputId": "b352d14d-9cb0-429d-812b-6fc78608112d"
      },
      "execution_count": 64,
      "outputs": [
        {
          "output_type": "execute_result",
          "data": {
            "text/plain": [
              "           Make          Model  Year                Engine Fuel Type  \\\n",
              "6486      Lexus         LS 460  2016     premium unleaded (required)   \n",
              "6891    Lincoln            MKX  2017                regular unleaded   \n",
              "1135       Audi             A8  2017     premium unleaded (required)   \n",
              "2978  Chevrolet       Corvette  2015  premium unleaded (recommended)   \n",
              "5078   Infiniti  G Convertible  2012  premium unleaded (recommended)   \n",
              "\n",
              "      Engine HP  Engine Cylinders Transmission Type      Driven_Wheels  \\\n",
              "6486      386.0               8.0         AUTOMATIC   rear wheel drive   \n",
              "6891      303.0               6.0         AUTOMATIC  front wheel drive   \n",
              "1135      450.0               8.0         AUTOMATIC    all wheel drive   \n",
              "2978      460.0               8.0            MANUAL   rear wheel drive   \n",
              "5078      325.0               6.0         AUTOMATIC   rear wheel drive   \n",
              "\n",
              "      Number of Doors          Market Category Vehicle Size Vehicle Style  \\\n",
              "6486              4.0       Luxury,Performance        Large         Sedan   \n",
              "6891              4.0         Crossover,Luxury      Midsize       4dr SUV   \n",
              "1135              4.0  Luxury,High-Performance        Large         Sedan   \n",
              "2978              2.0         High-Performance      Compact         Coupe   \n",
              "5078              2.0       Luxury,Performance      Midsize   Convertible   \n",
              "\n",
              "      highway MPG  city mpg  Popularity   MSRP  \n",
              "6486           24        16         454  78820  \n",
              "6891           25        17          61  53475  \n",
              "1135           29        18        3105  91500  \n",
              "2978           29        17        1385  60000  \n",
              "5078           25        17         190  46650  "
            ],
            "text/html": [
              "\n",
              "  <div id=\"df-f5a271f6-da02-4fae-b672-bc4e8960ddf0\">\n",
              "    <div class=\"colab-df-container\">\n",
              "      <div>\n",
              "<style scoped>\n",
              "    .dataframe tbody tr th:only-of-type {\n",
              "        vertical-align: middle;\n",
              "    }\n",
              "\n",
              "    .dataframe tbody tr th {\n",
              "        vertical-align: top;\n",
              "    }\n",
              "\n",
              "    .dataframe thead th {\n",
              "        text-align: right;\n",
              "    }\n",
              "</style>\n",
              "<table border=\"1\" class=\"dataframe\">\n",
              "  <thead>\n",
              "    <tr style=\"text-align: right;\">\n",
              "      <th></th>\n",
              "      <th>Make</th>\n",
              "      <th>Model</th>\n",
              "      <th>Year</th>\n",
              "      <th>Engine Fuel Type</th>\n",
              "      <th>Engine HP</th>\n",
              "      <th>Engine Cylinders</th>\n",
              "      <th>Transmission Type</th>\n",
              "      <th>Driven_Wheels</th>\n",
              "      <th>Number of Doors</th>\n",
              "      <th>Market Category</th>\n",
              "      <th>Vehicle Size</th>\n",
              "      <th>Vehicle Style</th>\n",
              "      <th>highway MPG</th>\n",
              "      <th>city mpg</th>\n",
              "      <th>Popularity</th>\n",
              "      <th>MSRP</th>\n",
              "    </tr>\n",
              "  </thead>\n",
              "  <tbody>\n",
              "    <tr>\n",
              "      <th>6486</th>\n",
              "      <td>Lexus</td>\n",
              "      <td>LS 460</td>\n",
              "      <td>2016</td>\n",
              "      <td>premium unleaded (required)</td>\n",
              "      <td>386.0</td>\n",
              "      <td>8.0</td>\n",
              "      <td>AUTOMATIC</td>\n",
              "      <td>rear wheel drive</td>\n",
              "      <td>4.0</td>\n",
              "      <td>Luxury,Performance</td>\n",
              "      <td>Large</td>\n",
              "      <td>Sedan</td>\n",
              "      <td>24</td>\n",
              "      <td>16</td>\n",
              "      <td>454</td>\n",
              "      <td>78820</td>\n",
              "    </tr>\n",
              "    <tr>\n",
              "      <th>6891</th>\n",
              "      <td>Lincoln</td>\n",
              "      <td>MKX</td>\n",
              "      <td>2017</td>\n",
              "      <td>regular unleaded</td>\n",
              "      <td>303.0</td>\n",
              "      <td>6.0</td>\n",
              "      <td>AUTOMATIC</td>\n",
              "      <td>front wheel drive</td>\n",
              "      <td>4.0</td>\n",
              "      <td>Crossover,Luxury</td>\n",
              "      <td>Midsize</td>\n",
              "      <td>4dr SUV</td>\n",
              "      <td>25</td>\n",
              "      <td>17</td>\n",
              "      <td>61</td>\n",
              "      <td>53475</td>\n",
              "    </tr>\n",
              "    <tr>\n",
              "      <th>1135</th>\n",
              "      <td>Audi</td>\n",
              "      <td>A8</td>\n",
              "      <td>2017</td>\n",
              "      <td>premium unleaded (required)</td>\n",
              "      <td>450.0</td>\n",
              "      <td>8.0</td>\n",
              "      <td>AUTOMATIC</td>\n",
              "      <td>all wheel drive</td>\n",
              "      <td>4.0</td>\n",
              "      <td>Luxury,High-Performance</td>\n",
              "      <td>Large</td>\n",
              "      <td>Sedan</td>\n",
              "      <td>29</td>\n",
              "      <td>18</td>\n",
              "      <td>3105</td>\n",
              "      <td>91500</td>\n",
              "    </tr>\n",
              "    <tr>\n",
              "      <th>2978</th>\n",
              "      <td>Chevrolet</td>\n",
              "      <td>Corvette</td>\n",
              "      <td>2015</td>\n",
              "      <td>premium unleaded (recommended)</td>\n",
              "      <td>460.0</td>\n",
              "      <td>8.0</td>\n",
              "      <td>MANUAL</td>\n",
              "      <td>rear wheel drive</td>\n",
              "      <td>2.0</td>\n",
              "      <td>High-Performance</td>\n",
              "      <td>Compact</td>\n",
              "      <td>Coupe</td>\n",
              "      <td>29</td>\n",
              "      <td>17</td>\n",
              "      <td>1385</td>\n",
              "      <td>60000</td>\n",
              "    </tr>\n",
              "    <tr>\n",
              "      <th>5078</th>\n",
              "      <td>Infiniti</td>\n",
              "      <td>G Convertible</td>\n",
              "      <td>2012</td>\n",
              "      <td>premium unleaded (recommended)</td>\n",
              "      <td>325.0</td>\n",
              "      <td>6.0</td>\n",
              "      <td>AUTOMATIC</td>\n",
              "      <td>rear wheel drive</td>\n",
              "      <td>2.0</td>\n",
              "      <td>Luxury,Performance</td>\n",
              "      <td>Midsize</td>\n",
              "      <td>Convertible</td>\n",
              "      <td>25</td>\n",
              "      <td>17</td>\n",
              "      <td>190</td>\n",
              "      <td>46650</td>\n",
              "    </tr>\n",
              "  </tbody>\n",
              "</table>\n",
              "</div>\n",
              "      <button class=\"colab-df-convert\" onclick=\"convertToInteractive('df-f5a271f6-da02-4fae-b672-bc4e8960ddf0')\"\n",
              "              title=\"Convert this dataframe to an interactive table.\"\n",
              "              style=\"display:none;\">\n",
              "        \n",
              "  <svg xmlns=\"http://www.w3.org/2000/svg\" height=\"24px\"viewBox=\"0 0 24 24\"\n",
              "       width=\"24px\">\n",
              "    <path d=\"M0 0h24v24H0V0z\" fill=\"none\"/>\n",
              "    <path d=\"M18.56 5.44l.94 2.06.94-2.06 2.06-.94-2.06-.94-.94-2.06-.94 2.06-2.06.94zm-11 1L8.5 8.5l.94-2.06 2.06-.94-2.06-.94L8.5 2.5l-.94 2.06-2.06.94zm10 10l.94 2.06.94-2.06 2.06-.94-2.06-.94-.94-2.06-.94 2.06-2.06.94z\"/><path d=\"M17.41 7.96l-1.37-1.37c-.4-.4-.92-.59-1.43-.59-.52 0-1.04.2-1.43.59L10.3 9.45l-7.72 7.72c-.78.78-.78 2.05 0 2.83L4 21.41c.39.39.9.59 1.41.59.51 0 1.02-.2 1.41-.59l7.78-7.78 2.81-2.81c.8-.78.8-2.07 0-2.86zM5.41 20L4 18.59l7.72-7.72 1.47 1.35L5.41 20z\"/>\n",
              "  </svg>\n",
              "      </button>\n",
              "      \n",
              "  <style>\n",
              "    .colab-df-container {\n",
              "      display:flex;\n",
              "      flex-wrap:wrap;\n",
              "      gap: 12px;\n",
              "    }\n",
              "\n",
              "    .colab-df-convert {\n",
              "      background-color: #E8F0FE;\n",
              "      border: none;\n",
              "      border-radius: 50%;\n",
              "      cursor: pointer;\n",
              "      display: none;\n",
              "      fill: #1967D2;\n",
              "      height: 32px;\n",
              "      padding: 0 0 0 0;\n",
              "      width: 32px;\n",
              "    }\n",
              "\n",
              "    .colab-df-convert:hover {\n",
              "      background-color: #E2EBFA;\n",
              "      box-shadow: 0px 1px 2px rgba(60, 64, 67, 0.3), 0px 1px 3px 1px rgba(60, 64, 67, 0.15);\n",
              "      fill: #174EA6;\n",
              "    }\n",
              "\n",
              "    [theme=dark] .colab-df-convert {\n",
              "      background-color: #3B4455;\n",
              "      fill: #D2E3FC;\n",
              "    }\n",
              "\n",
              "    [theme=dark] .colab-df-convert:hover {\n",
              "      background-color: #434B5C;\n",
              "      box-shadow: 0px 1px 3px 1px rgba(0, 0, 0, 0.15);\n",
              "      filter: drop-shadow(0px 1px 2px rgba(0, 0, 0, 0.3));\n",
              "      fill: #FFFFFF;\n",
              "    }\n",
              "  </style>\n",
              "\n",
              "      <script>\n",
              "        const buttonEl =\n",
              "          document.querySelector('#df-f5a271f6-da02-4fae-b672-bc4e8960ddf0 button.colab-df-convert');\n",
              "        buttonEl.style.display =\n",
              "          google.colab.kernel.accessAllowed ? 'block' : 'none';\n",
              "\n",
              "        async function convertToInteractive(key) {\n",
              "          const element = document.querySelector('#df-f5a271f6-da02-4fae-b672-bc4e8960ddf0');\n",
              "          const dataTable =\n",
              "            await google.colab.kernel.invokeFunction('convertToInteractive',\n",
              "                                                     [key], {});\n",
              "          if (!dataTable) return;\n",
              "\n",
              "          const docLinkHtml = 'Like what you see? Visit the ' +\n",
              "            '<a target=\"_blank\" href=https://colab.research.google.com/notebooks/data_table.ipynb>data table notebook</a>'\n",
              "            + ' to learn more about interactive tables.';\n",
              "          element.innerHTML = '';\n",
              "          dataTable['output_type'] = 'display_data';\n",
              "          await google.colab.output.renderOutput(dataTable, element);\n",
              "          const docLink = document.createElement('div');\n",
              "          docLink.innerHTML = docLinkHtml;\n",
              "          element.appendChild(docLink);\n",
              "        }\n",
              "      </script>\n",
              "    </div>\n",
              "  </div>\n",
              "  "
            ]
          },
          "metadata": {},
          "execution_count": 64
        }
      ]
    },
    {
      "cell_type": "markdown",
      "metadata": {
        "id": "JjQnr4SPzaL5",
        "papermill": {
          "duration": 0.029003,
          "end_time": "2020-11-27T11:52:30.549371",
          "exception": false,
          "start_time": "2020-11-27T11:52:30.520368",
          "status": "completed"
        },
        "tags": []
      },
      "source": [
        "\n",
        "\n",
        "---\n",
        "\n"
      ]
    },
    {
      "cell_type": "markdown",
      "metadata": {
        "id": "vAmC369yTpMF",
        "papermill": {
          "duration": 0.029103,
          "end_time": "2020-11-27T11:52:30.608838",
          "exception": false,
          "start_time": "2020-11-27T11:52:30.579735",
          "status": "completed"
        },
        "tags": []
      },
      "source": [
        "## 3. Checking the types of data"
      ]
    },
    {
      "cell_type": "markdown",
      "metadata": {
        "id": "9ESKxikIzA1d",
        "papermill": {
          "duration": 0.029261,
          "end_time": "2020-11-27T11:52:30.667608",
          "exception": false,
          "start_time": "2020-11-27T11:52:30.638347",
          "status": "completed"
        },
        "tags": []
      },
      "source": [
        "Verifying the datatypes is a crucial step in EDA, as it allows us to determine if any transformations are necessary. In this case, the MSRP or price of the car was found to be stored as an integer, eliminating the need for any conversions."
      ]
    },
    {
      "cell_type": "code",
      "execution_count": 65,
      "metadata": {
        "execution": {
          "iopub.execute_input": "2020-11-27T11:52:30.734838Z",
          "iopub.status.busy": "2020-11-27T11:52:30.733833Z",
          "iopub.status.idle": "2020-11-27T11:52:30.737879Z",
          "shell.execute_reply": "2020-11-27T11:52:30.737377Z"
        },
        "id": "qPbKQ0noRptD",
        "outputId": "1dd785c4-9b03-4109-c4f0-ca5bbfd4745b",
        "papermill": {
          "duration": 0.040549,
          "end_time": "2020-11-27T11:52:30.738002",
          "exception": false,
          "start_time": "2020-11-27T11:52:30.697453",
          "status": "completed"
        },
        "tags": [],
        "colab": {
          "base_uri": "https://localhost:8080/"
        }
      },
      "outputs": [
        {
          "output_type": "execute_result",
          "data": {
            "text/plain": [
              "Make                  object\n",
              "Model                 object\n",
              "Year                   int64\n",
              "Engine Fuel Type      object\n",
              "Engine HP            float64\n",
              "Engine Cylinders     float64\n",
              "Transmission Type     object\n",
              "Driven_Wheels         object\n",
              "Number of Doors      float64\n",
              "Market Category       object\n",
              "Vehicle Size          object\n",
              "Vehicle Style         object\n",
              "highway MPG            int64\n",
              "city mpg               int64\n",
              "Popularity             int64\n",
              "MSRP                   int64\n",
              "dtype: object"
            ]
          },
          "metadata": {},
          "execution_count": 65
        }
      ],
      "source": [
        "dataframe.dtypes"
      ]
    },
    {
      "cell_type": "markdown",
      "metadata": {
        "id": "beRJyQAezdX8",
        "papermill": {
          "duration": 0.029309,
          "end_time": "2020-11-27T11:52:30.797064",
          "exception": false,
          "start_time": "2020-11-27T11:52:30.767755",
          "status": "completed"
        },
        "tags": []
      },
      "source": [
        "\n",
        "\n",
        "---\n",
        "\n"
      ]
    },
    {
      "cell_type": "markdown",
      "metadata": {
        "id": "QoHuBhXxT5E9",
        "papermill": {
          "duration": 0.029086,
          "end_time": "2020-11-27T11:52:30.855758",
          "exception": false,
          "start_time": "2020-11-27T11:52:30.826672",
          "status": "completed"
        },
        "tags": []
      },
      "source": [
        "## 4. Dropping irrelevant columns"
      ]
    },
    {
      "cell_type": "markdown",
      "metadata": {
        "id": "_3cy877Mze4H",
        "papermill": {
          "duration": 0.029217,
          "end_time": "2020-11-27T11:52:30.914753",
          "exception": false,
          "start_time": "2020-11-27T11:52:30.885536",
          "status": "completed"
        },
        "tags": []
      },
      "source": [
        "Pruning unnecessary columns is a common practice in EDA to streamline the analysis. In this instance, the columns such as Engine Fuel Type, Market Category, Vehicle Style, Popularity, Number of Doors, and Vehicle Size were deemed irrelevant and were dropped."
      ]
    },
    {
      "cell_type": "code",
      "execution_count": 66,
      "metadata": {
        "execution": {
          "iopub.execute_input": "2020-11-27T11:52:30.994216Z",
          "iopub.status.busy": "2020-11-27T11:52:30.993162Z",
          "iopub.status.idle": "2020-11-27T11:52:30.997526Z",
          "shell.execute_reply": "2020-11-27T11:52:30.997034Z"
        },
        "id": "uvSkK8swTr9H",
        "outputId": "ea42a305-9157-4c42-a846-4ff2387783c8",
        "papermill": {
          "duration": 0.053265,
          "end_time": "2020-11-27T11:52:30.997635",
          "exception": false,
          "start_time": "2020-11-27T11:52:30.944370",
          "status": "completed"
        },
        "tags": [],
        "colab": {
          "base_uri": "https://localhost:8080/",
          "height": 206
        }
      },
      "outputs": [
        {
          "output_type": "execute_result",
          "data": {
            "text/plain": [
              "  Make       Model  Year  Engine HP  Engine Cylinders Transmission Type  \\\n",
              "0  BMW  1 Series M  2011      335.0               6.0            MANUAL   \n",
              "1  BMW    1 Series  2011      300.0               6.0            MANUAL   \n",
              "2  BMW    1 Series  2011      300.0               6.0            MANUAL   \n",
              "3  BMW    1 Series  2011      230.0               6.0            MANUAL   \n",
              "4  BMW    1 Series  2011      230.0               6.0            MANUAL   \n",
              "\n",
              "      Driven_Wheels  highway MPG  city mpg   MSRP  \n",
              "0  rear wheel drive           26        19  46135  \n",
              "1  rear wheel drive           28        19  40650  \n",
              "2  rear wheel drive           28        20  36350  \n",
              "3  rear wheel drive           28        18  29450  \n",
              "4  rear wheel drive           28        18  34500  "
            ],
            "text/html": [
              "\n",
              "  <div id=\"df-a46ee7f3-0f46-4260-a7b4-15b812e03bfa\">\n",
              "    <div class=\"colab-df-container\">\n",
              "      <div>\n",
              "<style scoped>\n",
              "    .dataframe tbody tr th:only-of-type {\n",
              "        vertical-align: middle;\n",
              "    }\n",
              "\n",
              "    .dataframe tbody tr th {\n",
              "        vertical-align: top;\n",
              "    }\n",
              "\n",
              "    .dataframe thead th {\n",
              "        text-align: right;\n",
              "    }\n",
              "</style>\n",
              "<table border=\"1\" class=\"dataframe\">\n",
              "  <thead>\n",
              "    <tr style=\"text-align: right;\">\n",
              "      <th></th>\n",
              "      <th>Make</th>\n",
              "      <th>Model</th>\n",
              "      <th>Year</th>\n",
              "      <th>Engine HP</th>\n",
              "      <th>Engine Cylinders</th>\n",
              "      <th>Transmission Type</th>\n",
              "      <th>Driven_Wheels</th>\n",
              "      <th>highway MPG</th>\n",
              "      <th>city mpg</th>\n",
              "      <th>MSRP</th>\n",
              "    </tr>\n",
              "  </thead>\n",
              "  <tbody>\n",
              "    <tr>\n",
              "      <th>0</th>\n",
              "      <td>BMW</td>\n",
              "      <td>1 Series M</td>\n",
              "      <td>2011</td>\n",
              "      <td>335.0</td>\n",
              "      <td>6.0</td>\n",
              "      <td>MANUAL</td>\n",
              "      <td>rear wheel drive</td>\n",
              "      <td>26</td>\n",
              "      <td>19</td>\n",
              "      <td>46135</td>\n",
              "    </tr>\n",
              "    <tr>\n",
              "      <th>1</th>\n",
              "      <td>BMW</td>\n",
              "      <td>1 Series</td>\n",
              "      <td>2011</td>\n",
              "      <td>300.0</td>\n",
              "      <td>6.0</td>\n",
              "      <td>MANUAL</td>\n",
              "      <td>rear wheel drive</td>\n",
              "      <td>28</td>\n",
              "      <td>19</td>\n",
              "      <td>40650</td>\n",
              "    </tr>\n",
              "    <tr>\n",
              "      <th>2</th>\n",
              "      <td>BMW</td>\n",
              "      <td>1 Series</td>\n",
              "      <td>2011</td>\n",
              "      <td>300.0</td>\n",
              "      <td>6.0</td>\n",
              "      <td>MANUAL</td>\n",
              "      <td>rear wheel drive</td>\n",
              "      <td>28</td>\n",
              "      <td>20</td>\n",
              "      <td>36350</td>\n",
              "    </tr>\n",
              "    <tr>\n",
              "      <th>3</th>\n",
              "      <td>BMW</td>\n",
              "      <td>1 Series</td>\n",
              "      <td>2011</td>\n",
              "      <td>230.0</td>\n",
              "      <td>6.0</td>\n",
              "      <td>MANUAL</td>\n",
              "      <td>rear wheel drive</td>\n",
              "      <td>28</td>\n",
              "      <td>18</td>\n",
              "      <td>29450</td>\n",
              "    </tr>\n",
              "    <tr>\n",
              "      <th>4</th>\n",
              "      <td>BMW</td>\n",
              "      <td>1 Series</td>\n",
              "      <td>2011</td>\n",
              "      <td>230.0</td>\n",
              "      <td>6.0</td>\n",
              "      <td>MANUAL</td>\n",
              "      <td>rear wheel drive</td>\n",
              "      <td>28</td>\n",
              "      <td>18</td>\n",
              "      <td>34500</td>\n",
              "    </tr>\n",
              "  </tbody>\n",
              "</table>\n",
              "</div>\n",
              "      <button class=\"colab-df-convert\" onclick=\"convertToInteractive('df-a46ee7f3-0f46-4260-a7b4-15b812e03bfa')\"\n",
              "              title=\"Convert this dataframe to an interactive table.\"\n",
              "              style=\"display:none;\">\n",
              "        \n",
              "  <svg xmlns=\"http://www.w3.org/2000/svg\" height=\"24px\"viewBox=\"0 0 24 24\"\n",
              "       width=\"24px\">\n",
              "    <path d=\"M0 0h24v24H0V0z\" fill=\"none\"/>\n",
              "    <path d=\"M18.56 5.44l.94 2.06.94-2.06 2.06-.94-2.06-.94-.94-2.06-.94 2.06-2.06.94zm-11 1L8.5 8.5l.94-2.06 2.06-.94-2.06-.94L8.5 2.5l-.94 2.06-2.06.94zm10 10l.94 2.06.94-2.06 2.06-.94-2.06-.94-.94-2.06-.94 2.06-2.06.94z\"/><path d=\"M17.41 7.96l-1.37-1.37c-.4-.4-.92-.59-1.43-.59-.52 0-1.04.2-1.43.59L10.3 9.45l-7.72 7.72c-.78.78-.78 2.05 0 2.83L4 21.41c.39.39.9.59 1.41.59.51 0 1.02-.2 1.41-.59l7.78-7.78 2.81-2.81c.8-.78.8-2.07 0-2.86zM5.41 20L4 18.59l7.72-7.72 1.47 1.35L5.41 20z\"/>\n",
              "  </svg>\n",
              "      </button>\n",
              "      \n",
              "  <style>\n",
              "    .colab-df-container {\n",
              "      display:flex;\n",
              "      flex-wrap:wrap;\n",
              "      gap: 12px;\n",
              "    }\n",
              "\n",
              "    .colab-df-convert {\n",
              "      background-color: #E8F0FE;\n",
              "      border: none;\n",
              "      border-radius: 50%;\n",
              "      cursor: pointer;\n",
              "      display: none;\n",
              "      fill: #1967D2;\n",
              "      height: 32px;\n",
              "      padding: 0 0 0 0;\n",
              "      width: 32px;\n",
              "    }\n",
              "\n",
              "    .colab-df-convert:hover {\n",
              "      background-color: #E2EBFA;\n",
              "      box-shadow: 0px 1px 2px rgba(60, 64, 67, 0.3), 0px 1px 3px 1px rgba(60, 64, 67, 0.15);\n",
              "      fill: #174EA6;\n",
              "    }\n",
              "\n",
              "    [theme=dark] .colab-df-convert {\n",
              "      background-color: #3B4455;\n",
              "      fill: #D2E3FC;\n",
              "    }\n",
              "\n",
              "    [theme=dark] .colab-df-convert:hover {\n",
              "      background-color: #434B5C;\n",
              "      box-shadow: 0px 1px 3px 1px rgba(0, 0, 0, 0.15);\n",
              "      filter: drop-shadow(0px 1px 2px rgba(0, 0, 0, 0.3));\n",
              "      fill: #FFFFFF;\n",
              "    }\n",
              "  </style>\n",
              "\n",
              "      <script>\n",
              "        const buttonEl =\n",
              "          document.querySelector('#df-a46ee7f3-0f46-4260-a7b4-15b812e03bfa button.colab-df-convert');\n",
              "        buttonEl.style.display =\n",
              "          google.colab.kernel.accessAllowed ? 'block' : 'none';\n",
              "\n",
              "        async function convertToInteractive(key) {\n",
              "          const element = document.querySelector('#df-a46ee7f3-0f46-4260-a7b4-15b812e03bfa');\n",
              "          const dataTable =\n",
              "            await google.colab.kernel.invokeFunction('convertToInteractive',\n",
              "                                                     [key], {});\n",
              "          if (!dataTable) return;\n",
              "\n",
              "          const docLinkHtml = 'Like what you see? Visit the ' +\n",
              "            '<a target=\"_blank\" href=https://colab.research.google.com/notebooks/data_table.ipynb>data table notebook</a>'\n",
              "            + ' to learn more about interactive tables.';\n",
              "          element.innerHTML = '';\n",
              "          dataTable['output_type'] = 'display_data';\n",
              "          await google.colab.output.renderOutput(dataTable, element);\n",
              "          const docLink = document.createElement('div');\n",
              "          docLink.innerHTML = docLinkHtml;\n",
              "          element.appendChild(docLink);\n",
              "        }\n",
              "      </script>\n",
              "    </div>\n",
              "  </div>\n",
              "  "
            ]
          },
          "metadata": {},
          "execution_count": 66
        }
      ],
      "source": [
        "dataframe = dataframe.drop(['Engine Fuel Type', 'Market Category', 'Vehicle Style', 'Popularity', 'Number of Doors', 'Vehicle Size'], axis=1)\n",
        "dataframe.head(5)"
      ]
    },
    {
      "cell_type": "markdown",
      "metadata": {
        "id": "20OeQBpWz89v",
        "papermill": {
          "duration": 0.029929,
          "end_time": "2020-11-27T11:52:31.057925",
          "exception": false,
          "start_time": "2020-11-27T11:52:31.027996",
          "status": "completed"
        },
        "tags": []
      },
      "source": [
        "\n",
        "\n",
        "---\n",
        "\n"
      ]
    },
    {
      "cell_type": "markdown",
      "metadata": {
        "id": "caAownWdUZso",
        "papermill": {
          "duration": 0.030223,
          "end_time": "2020-11-27T11:52:31.118132",
          "exception": false,
          "start_time": "2020-11-27T11:52:31.087909",
          "status": "completed"
        },
        "tags": []
      },
      "source": [
        "## 5. Renaming the columns"
      ]
    },
    {
      "cell_type": "markdown",
      "metadata": {
        "id": "UABLiEcyz-2G",
        "papermill": {
          "duration": 0.030318,
          "end_time": "2020-11-27T11:52:31.178829",
          "exception": false,
          "start_time": "2020-11-27T11:52:31.148511",
          "status": "completed"
        },
        "tags": []
      },
      "source": [
        "Improving the readability of the data is an important aspect of EDA, and this was achieved in this case by renaming the confusing column names."
      ]
    },
    {
      "cell_type": "code",
      "execution_count": 67,
      "metadata": {
        "execution": {
          "iopub.execute_input": "2020-11-27T11:52:31.245798Z",
          "iopub.status.busy": "2020-11-27T11:52:31.245033Z",
          "iopub.status.idle": "2020-11-27T11:52:31.260466Z",
          "shell.execute_reply": "2020-11-27T11:52:31.259923Z"
        },
        "id": "1wHW41whURub",
        "outputId": "52a16537-cd83-4ef7-d79a-eea7cd6b39b5",
        "papermill": {
          "duration": 0.05128,
          "end_time": "2020-11-27T11:52:31.260584",
          "exception": false,
          "start_time": "2020-11-27T11:52:31.209304",
          "status": "completed"
        },
        "tags": [],
        "colab": {
          "base_uri": "https://localhost:8080/",
          "height": 206
        }
      },
      "outputs": [
        {
          "output_type": "execute_result",
          "data": {
            "text/plain": [
              "  Make       Model  Year     HP  Cylinders Transmission        Drive Mode  \\\n",
              "0  BMW  1 Series M  2011  335.0        6.0       MANUAL  rear wheel drive   \n",
              "1  BMW    1 Series  2011  300.0        6.0       MANUAL  rear wheel drive   \n",
              "2  BMW    1 Series  2011  300.0        6.0       MANUAL  rear wheel drive   \n",
              "3  BMW    1 Series  2011  230.0        6.0       MANUAL  rear wheel drive   \n",
              "4  BMW    1 Series  2011  230.0        6.0       MANUAL  rear wheel drive   \n",
              "\n",
              "   MPG-H  MPG-C  Price  \n",
              "0     26     19  46135  \n",
              "1     28     19  40650  \n",
              "2     28     20  36350  \n",
              "3     28     18  29450  \n",
              "4     28     18  34500  "
            ],
            "text/html": [
              "\n",
              "  <div id=\"df-5a547616-dac3-48c4-8952-6950426359bc\">\n",
              "    <div class=\"colab-df-container\">\n",
              "      <div>\n",
              "<style scoped>\n",
              "    .dataframe tbody tr th:only-of-type {\n",
              "        vertical-align: middle;\n",
              "    }\n",
              "\n",
              "    .dataframe tbody tr th {\n",
              "        vertical-align: top;\n",
              "    }\n",
              "\n",
              "    .dataframe thead th {\n",
              "        text-align: right;\n",
              "    }\n",
              "</style>\n",
              "<table border=\"1\" class=\"dataframe\">\n",
              "  <thead>\n",
              "    <tr style=\"text-align: right;\">\n",
              "      <th></th>\n",
              "      <th>Make</th>\n",
              "      <th>Model</th>\n",
              "      <th>Year</th>\n",
              "      <th>HP</th>\n",
              "      <th>Cylinders</th>\n",
              "      <th>Transmission</th>\n",
              "      <th>Drive Mode</th>\n",
              "      <th>MPG-H</th>\n",
              "      <th>MPG-C</th>\n",
              "      <th>Price</th>\n",
              "    </tr>\n",
              "  </thead>\n",
              "  <tbody>\n",
              "    <tr>\n",
              "      <th>0</th>\n",
              "      <td>BMW</td>\n",
              "      <td>1 Series M</td>\n",
              "      <td>2011</td>\n",
              "      <td>335.0</td>\n",
              "      <td>6.0</td>\n",
              "      <td>MANUAL</td>\n",
              "      <td>rear wheel drive</td>\n",
              "      <td>26</td>\n",
              "      <td>19</td>\n",
              "      <td>46135</td>\n",
              "    </tr>\n",
              "    <tr>\n",
              "      <th>1</th>\n",
              "      <td>BMW</td>\n",
              "      <td>1 Series</td>\n",
              "      <td>2011</td>\n",
              "      <td>300.0</td>\n",
              "      <td>6.0</td>\n",
              "      <td>MANUAL</td>\n",
              "      <td>rear wheel drive</td>\n",
              "      <td>28</td>\n",
              "      <td>19</td>\n",
              "      <td>40650</td>\n",
              "    </tr>\n",
              "    <tr>\n",
              "      <th>2</th>\n",
              "      <td>BMW</td>\n",
              "      <td>1 Series</td>\n",
              "      <td>2011</td>\n",
              "      <td>300.0</td>\n",
              "      <td>6.0</td>\n",
              "      <td>MANUAL</td>\n",
              "      <td>rear wheel drive</td>\n",
              "      <td>28</td>\n",
              "      <td>20</td>\n",
              "      <td>36350</td>\n",
              "    </tr>\n",
              "    <tr>\n",
              "      <th>3</th>\n",
              "      <td>BMW</td>\n",
              "      <td>1 Series</td>\n",
              "      <td>2011</td>\n",
              "      <td>230.0</td>\n",
              "      <td>6.0</td>\n",
              "      <td>MANUAL</td>\n",
              "      <td>rear wheel drive</td>\n",
              "      <td>28</td>\n",
              "      <td>18</td>\n",
              "      <td>29450</td>\n",
              "    </tr>\n",
              "    <tr>\n",
              "      <th>4</th>\n",
              "      <td>BMW</td>\n",
              "      <td>1 Series</td>\n",
              "      <td>2011</td>\n",
              "      <td>230.0</td>\n",
              "      <td>6.0</td>\n",
              "      <td>MANUAL</td>\n",
              "      <td>rear wheel drive</td>\n",
              "      <td>28</td>\n",
              "      <td>18</td>\n",
              "      <td>34500</td>\n",
              "    </tr>\n",
              "  </tbody>\n",
              "</table>\n",
              "</div>\n",
              "      <button class=\"colab-df-convert\" onclick=\"convertToInteractive('df-5a547616-dac3-48c4-8952-6950426359bc')\"\n",
              "              title=\"Convert this dataframe to an interactive table.\"\n",
              "              style=\"display:none;\">\n",
              "        \n",
              "  <svg xmlns=\"http://www.w3.org/2000/svg\" height=\"24px\"viewBox=\"0 0 24 24\"\n",
              "       width=\"24px\">\n",
              "    <path d=\"M0 0h24v24H0V0z\" fill=\"none\"/>\n",
              "    <path d=\"M18.56 5.44l.94 2.06.94-2.06 2.06-.94-2.06-.94-.94-2.06-.94 2.06-2.06.94zm-11 1L8.5 8.5l.94-2.06 2.06-.94-2.06-.94L8.5 2.5l-.94 2.06-2.06.94zm10 10l.94 2.06.94-2.06 2.06-.94-2.06-.94-.94-2.06-.94 2.06-2.06.94z\"/><path d=\"M17.41 7.96l-1.37-1.37c-.4-.4-.92-.59-1.43-.59-.52 0-1.04.2-1.43.59L10.3 9.45l-7.72 7.72c-.78.78-.78 2.05 0 2.83L4 21.41c.39.39.9.59 1.41.59.51 0 1.02-.2 1.41-.59l7.78-7.78 2.81-2.81c.8-.78.8-2.07 0-2.86zM5.41 20L4 18.59l7.72-7.72 1.47 1.35L5.41 20z\"/>\n",
              "  </svg>\n",
              "      </button>\n",
              "      \n",
              "  <style>\n",
              "    .colab-df-container {\n",
              "      display:flex;\n",
              "      flex-wrap:wrap;\n",
              "      gap: 12px;\n",
              "    }\n",
              "\n",
              "    .colab-df-convert {\n",
              "      background-color: #E8F0FE;\n",
              "      border: none;\n",
              "      border-radius: 50%;\n",
              "      cursor: pointer;\n",
              "      display: none;\n",
              "      fill: #1967D2;\n",
              "      height: 32px;\n",
              "      padding: 0 0 0 0;\n",
              "      width: 32px;\n",
              "    }\n",
              "\n",
              "    .colab-df-convert:hover {\n",
              "      background-color: #E2EBFA;\n",
              "      box-shadow: 0px 1px 2px rgba(60, 64, 67, 0.3), 0px 1px 3px 1px rgba(60, 64, 67, 0.15);\n",
              "      fill: #174EA6;\n",
              "    }\n",
              "\n",
              "    [theme=dark] .colab-df-convert {\n",
              "      background-color: #3B4455;\n",
              "      fill: #D2E3FC;\n",
              "    }\n",
              "\n",
              "    [theme=dark] .colab-df-convert:hover {\n",
              "      background-color: #434B5C;\n",
              "      box-shadow: 0px 1px 3px 1px rgba(0, 0, 0, 0.15);\n",
              "      filter: drop-shadow(0px 1px 2px rgba(0, 0, 0, 0.3));\n",
              "      fill: #FFFFFF;\n",
              "    }\n",
              "  </style>\n",
              "\n",
              "      <script>\n",
              "        const buttonEl =\n",
              "          document.querySelector('#df-5a547616-dac3-48c4-8952-6950426359bc button.colab-df-convert');\n",
              "        buttonEl.style.display =\n",
              "          google.colab.kernel.accessAllowed ? 'block' : 'none';\n",
              "\n",
              "        async function convertToInteractive(key) {\n",
              "          const element = document.querySelector('#df-5a547616-dac3-48c4-8952-6950426359bc');\n",
              "          const dataTable =\n",
              "            await google.colab.kernel.invokeFunction('convertToInteractive',\n",
              "                                                     [key], {});\n",
              "          if (!dataTable) return;\n",
              "\n",
              "          const docLinkHtml = 'Like what you see? Visit the ' +\n",
              "            '<a target=\"_blank\" href=https://colab.research.google.com/notebooks/data_table.ipynb>data table notebook</a>'\n",
              "            + ' to learn more about interactive tables.';\n",
              "          element.innerHTML = '';\n",
              "          dataTable['output_type'] = 'display_data';\n",
              "          await google.colab.output.renderOutput(dataTable, element);\n",
              "          const docLink = document.createElement('div');\n",
              "          docLink.innerHTML = docLinkHtml;\n",
              "          element.appendChild(docLink);\n",
              "        }\n",
              "      </script>\n",
              "    </div>\n",
              "  </div>\n",
              "  "
            ]
          },
          "metadata": {},
          "execution_count": 67
        }
      ],
      "source": [
        "dataframe = dataframe.rename(columns={\"Engine HP\": \"HP\", \"Engine Cylinders\": \"Cylinders\", \"Transmission Type\": \"Transmission\", \"Driven_Wheels\": \"Drive Mode\",\"highway MPG\": \"MPG-H\", \"city mpg\": \"MPG-C\", \"MSRP\": \"Price\" })\n",
        "dataframe.head(5)"
      ]
    },
    {
      "cell_type": "markdown",
      "metadata": {
        "id": "5tcGiOmV0afN",
        "papermill": {
          "duration": 0.030645,
          "end_time": "2020-11-27T11:52:31.323355",
          "exception": false,
          "start_time": "2020-11-27T11:52:31.292710",
          "status": "completed"
        },
        "tags": []
      },
      "source": [
        "\n",
        "\n",
        "---\n",
        "\n"
      ]
    },
    {
      "cell_type": "markdown",
      "metadata": {
        "id": "uiW7x_O4WIDX",
        "papermill": {
          "duration": 0.030638,
          "end_time": "2020-11-27T11:52:31.385353",
          "exception": false,
          "start_time": "2020-11-27T11:52:31.354715",
          "status": "completed"
        },
        "tags": []
      },
      "source": [
        "## 6. Dropping the duplicate rows"
      ]
    },
    {
      "cell_type": "markdown",
      "metadata": {
        "id": "9LpR5NW70hXm",
        "papermill": {
          "duration": 0.030478,
          "end_time": "2020-11-27T11:52:31.446542",
          "exception": false,
          "start_time": "2020-11-27T11:52:31.416064",
          "status": "completed"
        },
        "tags": []
      },
      "source": [
        "Eliminating duplicate data is a crucial step in EDA as it helps ensure the accuracy of the analysis. In this case, a significant number of duplicates were detected and removed, reducing the number of rows from 11914 to 10925."
      ]
    },
    {
      "cell_type": "code",
      "execution_count": 68,
      "metadata": {
        "execution": {
          "iopub.execute_input": "2020-11-27T11:52:31.512940Z",
          "iopub.status.busy": "2020-11-27T11:52:31.512151Z",
          "iopub.status.idle": "2020-11-27T11:52:31.516507Z",
          "shell.execute_reply": "2020-11-27T11:52:31.515912Z"
        },
        "id": "1nBN_BCDWSmv",
        "outputId": "1027455d-a5bb-4162-8dc6-6facccb2be9c",
        "papermill": {
          "duration": 0.039307,
          "end_time": "2020-11-27T11:52:31.516612",
          "exception": false,
          "start_time": "2020-11-27T11:52:31.477305",
          "status": "completed"
        },
        "tags": [],
        "colab": {
          "base_uri": "https://localhost:8080/"
        }
      },
      "outputs": [
        {
          "output_type": "execute_result",
          "data": {
            "text/plain": [
              "(11914, 10)"
            ]
          },
          "metadata": {},
          "execution_count": 68
        }
      ],
      "source": [
        "dataframe.shape"
      ]
    },
    {
      "cell_type": "code",
      "execution_count": 69,
      "metadata": {
        "execution": {
          "iopub.execute_input": "2020-11-27T11:52:31.587137Z",
          "iopub.status.busy": "2020-11-27T11:52:31.586114Z",
          "iopub.status.idle": "2020-11-27T11:52:31.602151Z",
          "shell.execute_reply": "2020-11-27T11:52:31.601648Z"
        },
        "id": "yB8t6o0wH7If",
        "outputId": "5ffb85bd-3c9d-4160-8645-905bdb6e16ed",
        "papermill": {
          "duration": 0.053706,
          "end_time": "2020-11-27T11:52:31.602271",
          "exception": false,
          "start_time": "2020-11-27T11:52:31.548565",
          "status": "completed"
        },
        "tags": [],
        "colab": {
          "base_uri": "https://localhost:8080/"
        }
      },
      "outputs": [
        {
          "output_type": "stream",
          "name": "stdout",
          "text": [
            "number of duplicate rows:  (989, 10)\n"
          ]
        }
      ],
      "source": [
        "duplicate_rows_dataframe = dataframe[dataframe.duplicated()]\n",
        "print(\"number of duplicate rows: \", duplicate_rows_dataframe.shape)"
      ]
    },
    {
      "cell_type": "markdown",
      "metadata": {
        "id": "chhNvMFCIzqI",
        "papermill": {
          "duration": 0.031075,
          "end_time": "2020-11-27T11:52:31.664844",
          "exception": false,
          "start_time": "2020-11-27T11:52:31.633769",
          "status": "completed"
        },
        "tags": []
      },
      "source": [
        "Now let us remove the duplicate data because it's ok to remove them."
      ]
    },
    {
      "cell_type": "code",
      "execution_count": 70,
      "metadata": {
        "execution": {
          "iopub.execute_input": "2020-11-27T11:52:31.735456Z",
          "iopub.status.busy": "2020-11-27T11:52:31.734753Z",
          "iopub.status.idle": "2020-11-27T11:52:31.741387Z",
          "shell.execute_reply": "2020-11-27T11:52:31.740842Z"
        },
        "id": "kuobmetTV820",
        "outputId": "eee7e233-601f-4d20-b924-5f043518d883",
        "papermill": {
          "duration": 0.045289,
          "end_time": "2020-11-27T11:52:31.741503",
          "exception": false,
          "start_time": "2020-11-27T11:52:31.696214",
          "status": "completed"
        },
        "tags": [],
        "colab": {
          "base_uri": "https://localhost:8080/"
        }
      },
      "outputs": [
        {
          "output_type": "execute_result",
          "data": {
            "text/plain": [
              "Make            11914\n",
              "Model           11914\n",
              "Year            11914\n",
              "HP              11845\n",
              "Cylinders       11884\n",
              "Transmission    11914\n",
              "Drive Mode      11914\n",
              "MPG-H           11914\n",
              "MPG-C           11914\n",
              "Price           11914\n",
              "dtype: int64"
            ]
          },
          "metadata": {},
          "execution_count": 70
        }
      ],
      "source": [
        "dataframe.count()      # Used to count the number of rows"
      ]
    },
    {
      "cell_type": "markdown",
      "metadata": {
        "id": "_MJKjbzHI40K",
        "papermill": {
          "duration": 0.032123,
          "end_time": "2020-11-27T11:52:31.806242",
          "exception": false,
          "start_time": "2020-11-27T11:52:31.774119",
          "status": "completed"
        },
        "tags": []
      },
      "source": [
        "So seen above there are 11914 rows and we are removing 989 rows of duplicate data."
      ]
    },
    {
      "cell_type": "code",
      "execution_count": 71,
      "metadata": {
        "execution": {
          "iopub.execute_input": "2020-11-27T11:52:31.876439Z",
          "iopub.status.busy": "2020-11-27T11:52:31.875501Z",
          "iopub.status.idle": "2020-11-27T11:52:31.896377Z",
          "shell.execute_reply": "2020-11-27T11:52:31.895850Z"
        },
        "id": "OiOsEF6WVTSj",
        "outputId": "e96dff3e-1b4b-4390-e9ac-26f804ff808d",
        "papermill": {
          "duration": 0.058104,
          "end_time": "2020-11-27T11:52:31.896493",
          "exception": false,
          "start_time": "2020-11-27T11:52:31.838389",
          "status": "completed"
        },
        "tags": [],
        "colab": {
          "base_uri": "https://localhost:8080/",
          "height": 206
        }
      },
      "outputs": [
        {
          "output_type": "execute_result",
          "data": {
            "text/plain": [
              "  Make       Model  Year     HP  Cylinders Transmission        Drive Mode  \\\n",
              "0  BMW  1 Series M  2011  335.0        6.0       MANUAL  rear wheel drive   \n",
              "1  BMW    1 Series  2011  300.0        6.0       MANUAL  rear wheel drive   \n",
              "2  BMW    1 Series  2011  300.0        6.0       MANUAL  rear wheel drive   \n",
              "3  BMW    1 Series  2011  230.0        6.0       MANUAL  rear wheel drive   \n",
              "4  BMW    1 Series  2011  230.0        6.0       MANUAL  rear wheel drive   \n",
              "\n",
              "   MPG-H  MPG-C  Price  \n",
              "0     26     19  46135  \n",
              "1     28     19  40650  \n",
              "2     28     20  36350  \n",
              "3     28     18  29450  \n",
              "4     28     18  34500  "
            ],
            "text/html": [
              "\n",
              "  <div id=\"df-624bf410-8fe2-4233-a175-08fba0ee662d\">\n",
              "    <div class=\"colab-df-container\">\n",
              "      <div>\n",
              "<style scoped>\n",
              "    .dataframe tbody tr th:only-of-type {\n",
              "        vertical-align: middle;\n",
              "    }\n",
              "\n",
              "    .dataframe tbody tr th {\n",
              "        vertical-align: top;\n",
              "    }\n",
              "\n",
              "    .dataframe thead th {\n",
              "        text-align: right;\n",
              "    }\n",
              "</style>\n",
              "<table border=\"1\" class=\"dataframe\">\n",
              "  <thead>\n",
              "    <tr style=\"text-align: right;\">\n",
              "      <th></th>\n",
              "      <th>Make</th>\n",
              "      <th>Model</th>\n",
              "      <th>Year</th>\n",
              "      <th>HP</th>\n",
              "      <th>Cylinders</th>\n",
              "      <th>Transmission</th>\n",
              "      <th>Drive Mode</th>\n",
              "      <th>MPG-H</th>\n",
              "      <th>MPG-C</th>\n",
              "      <th>Price</th>\n",
              "    </tr>\n",
              "  </thead>\n",
              "  <tbody>\n",
              "    <tr>\n",
              "      <th>0</th>\n",
              "      <td>BMW</td>\n",
              "      <td>1 Series M</td>\n",
              "      <td>2011</td>\n",
              "      <td>335.0</td>\n",
              "      <td>6.0</td>\n",
              "      <td>MANUAL</td>\n",
              "      <td>rear wheel drive</td>\n",
              "      <td>26</td>\n",
              "      <td>19</td>\n",
              "      <td>46135</td>\n",
              "    </tr>\n",
              "    <tr>\n",
              "      <th>1</th>\n",
              "      <td>BMW</td>\n",
              "      <td>1 Series</td>\n",
              "      <td>2011</td>\n",
              "      <td>300.0</td>\n",
              "      <td>6.0</td>\n",
              "      <td>MANUAL</td>\n",
              "      <td>rear wheel drive</td>\n",
              "      <td>28</td>\n",
              "      <td>19</td>\n",
              "      <td>40650</td>\n",
              "    </tr>\n",
              "    <tr>\n",
              "      <th>2</th>\n",
              "      <td>BMW</td>\n",
              "      <td>1 Series</td>\n",
              "      <td>2011</td>\n",
              "      <td>300.0</td>\n",
              "      <td>6.0</td>\n",
              "      <td>MANUAL</td>\n",
              "      <td>rear wheel drive</td>\n",
              "      <td>28</td>\n",
              "      <td>20</td>\n",
              "      <td>36350</td>\n",
              "    </tr>\n",
              "    <tr>\n",
              "      <th>3</th>\n",
              "      <td>BMW</td>\n",
              "      <td>1 Series</td>\n",
              "      <td>2011</td>\n",
              "      <td>230.0</td>\n",
              "      <td>6.0</td>\n",
              "      <td>MANUAL</td>\n",
              "      <td>rear wheel drive</td>\n",
              "      <td>28</td>\n",
              "      <td>18</td>\n",
              "      <td>29450</td>\n",
              "    </tr>\n",
              "    <tr>\n",
              "      <th>4</th>\n",
              "      <td>BMW</td>\n",
              "      <td>1 Series</td>\n",
              "      <td>2011</td>\n",
              "      <td>230.0</td>\n",
              "      <td>6.0</td>\n",
              "      <td>MANUAL</td>\n",
              "      <td>rear wheel drive</td>\n",
              "      <td>28</td>\n",
              "      <td>18</td>\n",
              "      <td>34500</td>\n",
              "    </tr>\n",
              "  </tbody>\n",
              "</table>\n",
              "</div>\n",
              "      <button class=\"colab-df-convert\" onclick=\"convertToInteractive('df-624bf410-8fe2-4233-a175-08fba0ee662d')\"\n",
              "              title=\"Convert this dataframe to an interactive table.\"\n",
              "              style=\"display:none;\">\n",
              "        \n",
              "  <svg xmlns=\"http://www.w3.org/2000/svg\" height=\"24px\"viewBox=\"0 0 24 24\"\n",
              "       width=\"24px\">\n",
              "    <path d=\"M0 0h24v24H0V0z\" fill=\"none\"/>\n",
              "    <path d=\"M18.56 5.44l.94 2.06.94-2.06 2.06-.94-2.06-.94-.94-2.06-.94 2.06-2.06.94zm-11 1L8.5 8.5l.94-2.06 2.06-.94-2.06-.94L8.5 2.5l-.94 2.06-2.06.94zm10 10l.94 2.06.94-2.06 2.06-.94-2.06-.94-.94-2.06-.94 2.06-2.06.94z\"/><path d=\"M17.41 7.96l-1.37-1.37c-.4-.4-.92-.59-1.43-.59-.52 0-1.04.2-1.43.59L10.3 9.45l-7.72 7.72c-.78.78-.78 2.05 0 2.83L4 21.41c.39.39.9.59 1.41.59.51 0 1.02-.2 1.41-.59l7.78-7.78 2.81-2.81c.8-.78.8-2.07 0-2.86zM5.41 20L4 18.59l7.72-7.72 1.47 1.35L5.41 20z\"/>\n",
              "  </svg>\n",
              "      </button>\n",
              "      \n",
              "  <style>\n",
              "    .colab-df-container {\n",
              "      display:flex;\n",
              "      flex-wrap:wrap;\n",
              "      gap: 12px;\n",
              "    }\n",
              "\n",
              "    .colab-df-convert {\n",
              "      background-color: #E8F0FE;\n",
              "      border: none;\n",
              "      border-radius: 50%;\n",
              "      cursor: pointer;\n",
              "      display: none;\n",
              "      fill: #1967D2;\n",
              "      height: 32px;\n",
              "      padding: 0 0 0 0;\n",
              "      width: 32px;\n",
              "    }\n",
              "\n",
              "    .colab-df-convert:hover {\n",
              "      background-color: #E2EBFA;\n",
              "      box-shadow: 0px 1px 2px rgba(60, 64, 67, 0.3), 0px 1px 3px 1px rgba(60, 64, 67, 0.15);\n",
              "      fill: #174EA6;\n",
              "    }\n",
              "\n",
              "    [theme=dark] .colab-df-convert {\n",
              "      background-color: #3B4455;\n",
              "      fill: #D2E3FC;\n",
              "    }\n",
              "\n",
              "    [theme=dark] .colab-df-convert:hover {\n",
              "      background-color: #434B5C;\n",
              "      box-shadow: 0px 1px 3px 1px rgba(0, 0, 0, 0.15);\n",
              "      filter: drop-shadow(0px 1px 2px rgba(0, 0, 0, 0.3));\n",
              "      fill: #FFFFFF;\n",
              "    }\n",
              "  </style>\n",
              "\n",
              "      <script>\n",
              "        const buttonEl =\n",
              "          document.querySelector('#df-624bf410-8fe2-4233-a175-08fba0ee662d button.colab-df-convert');\n",
              "        buttonEl.style.display =\n",
              "          google.colab.kernel.accessAllowed ? 'block' : 'none';\n",
              "\n",
              "        async function convertToInteractive(key) {\n",
              "          const element = document.querySelector('#df-624bf410-8fe2-4233-a175-08fba0ee662d');\n",
              "          const dataTable =\n",
              "            await google.colab.kernel.invokeFunction('convertToInteractive',\n",
              "                                                     [key], {});\n",
              "          if (!dataTable) return;\n",
              "\n",
              "          const docLinkHtml = 'Like what you see? Visit the ' +\n",
              "            '<a target=\"_blank\" href=https://colab.research.google.com/notebooks/data_table.ipynb>data table notebook</a>'\n",
              "            + ' to learn more about interactive tables.';\n",
              "          element.innerHTML = '';\n",
              "          dataTable['output_type'] = 'display_data';\n",
              "          await google.colab.output.renderOutput(dataTable, element);\n",
              "          const docLink = document.createElement('div');\n",
              "          docLink.innerHTML = docLinkHtml;\n",
              "          element.appendChild(docLink);\n",
              "        }\n",
              "      </script>\n",
              "    </div>\n",
              "  </div>\n",
              "  "
            ]
          },
          "metadata": {},
          "execution_count": 71
        }
      ],
      "source": [
        "dataframe = dataframe.drop_duplicates()\n",
        "dataframe.head(5)"
      ]
    },
    {
      "cell_type": "code",
      "execution_count": 72,
      "metadata": {
        "execution": {
          "iopub.execute_input": "2020-11-27T11:52:31.968742Z",
          "iopub.status.busy": "2020-11-27T11:52:31.968146Z",
          "iopub.status.idle": "2020-11-27T11:52:31.974209Z",
          "shell.execute_reply": "2020-11-27T11:52:31.973613Z"
        },
        "id": "2gMM4lb0Vzor",
        "outputId": "403eaf9d-bc41-4193-b0ee-71793d0987f6",
        "papermill": {
          "duration": 0.045247,
          "end_time": "2020-11-27T11:52:31.974315",
          "exception": false,
          "start_time": "2020-11-27T11:52:31.929068",
          "status": "completed"
        },
        "tags": [],
        "colab": {
          "base_uri": "https://localhost:8080/"
        }
      },
      "outputs": [
        {
          "output_type": "execute_result",
          "data": {
            "text/plain": [
              "Make            10925\n",
              "Model           10925\n",
              "Year            10925\n",
              "HP              10856\n",
              "Cylinders       10895\n",
              "Transmission    10925\n",
              "Drive Mode      10925\n",
              "MPG-H           10925\n",
              "MPG-C           10925\n",
              "Price           10925\n",
              "dtype: int64"
            ]
          },
          "metadata": {},
          "execution_count": 72
        }
      ],
      "source": [
        "dataframe.count()"
      ]
    },
    {
      "cell_type": "markdown",
      "metadata": {
        "id": "zCLUdZOQ1PDP",
        "papermill": {
          "duration": 0.032655,
          "end_time": "2020-11-27T11:52:32.040143",
          "exception": false,
          "start_time": "2020-11-27T11:52:32.007488",
          "status": "completed"
        },
        "tags": []
      },
      "source": [
        "\n",
        "\n",
        "---\n",
        "\n"
      ]
    },
    {
      "cell_type": "markdown",
      "metadata": {
        "id": "JkXUQtyQW3Dy",
        "papermill": {
          "duration": 0.033049,
          "end_time": "2020-11-27T11:52:32.106118",
          "exception": false,
          "start_time": "2020-11-27T11:52:32.073069",
          "status": "completed"
        },
        "tags": []
      },
      "source": [
        "## 7. Dropping the missing or null values."
      ]
    },
    {
      "cell_type": "markdown",
      "metadata": {
        "id": "K5pKvJi41YCp",
        "papermill": {
          "duration": 0.033171,
          "end_time": "2020-11-27T11:52:32.173467",
          "exception": false,
          "start_time": "2020-11-27T11:52:32.140296",
          "status": "completed"
        },
        "tags": []
      },
      "source": [
        "Detecting and handling missing values is another important step in EDA. In this case, missing values were simply dropped, as the number of missing values was deemed small relative to the total number of data points. However, in other cases, missing values may be replaced with the mean or average of the column."
      ]
    },
    {
      "cell_type": "code",
      "execution_count": 73,
      "metadata": {
        "execution": {
          "iopub.execute_input": "2020-11-27T11:52:32.247260Z",
          "iopub.status.busy": "2020-11-27T11:52:32.246296Z",
          "iopub.status.idle": "2020-11-27T11:52:32.251941Z",
          "shell.execute_reply": "2020-11-27T11:52:32.251446Z"
        },
        "id": "Tzdlg-1OWjMz",
        "outputId": "5fc57993-73d9-4e88-872b-9bbc5b495207",
        "papermill": {
          "duration": 0.045703,
          "end_time": "2020-11-27T11:52:32.252054",
          "exception": false,
          "start_time": "2020-11-27T11:52:32.206351",
          "status": "completed"
        },
        "tags": [],
        "colab": {
          "base_uri": "https://localhost:8080/"
        }
      },
      "outputs": [
        {
          "output_type": "stream",
          "name": "stdout",
          "text": [
            "Make             0\n",
            "Model            0\n",
            "Year             0\n",
            "HP              69\n",
            "Cylinders       30\n",
            "Transmission     0\n",
            "Drive Mode       0\n",
            "MPG-H            0\n",
            "MPG-C            0\n",
            "Price            0\n",
            "dtype: int64\n"
          ]
        }
      ],
      "source": [
        "print(dataframe.isnull().sum())"
      ]
    },
    {
      "cell_type": "markdown",
      "metadata": {
        "id": "iWJqTVxTJQnO",
        "papermill": {
          "duration": 0.033238,
          "end_time": "2020-11-27T11:52:32.318801",
          "exception": false,
          "start_time": "2020-11-27T11:52:32.285563",
          "status": "completed"
        },
        "tags": []
      },
      "source": [
        "This is the reason in the above step while counting both Cylinders and Horsepower (HP) had 10856 and 10895 over 10925 rows."
      ]
    },
    {
      "cell_type": "code",
      "execution_count": 74,
      "metadata": {
        "execution": {
          "iopub.execute_input": "2020-11-27T11:52:32.393563Z",
          "iopub.status.busy": "2020-11-27T11:52:32.392780Z",
          "iopub.status.idle": "2020-11-27T11:52:32.424245Z",
          "shell.execute_reply": "2020-11-27T11:52:32.423583Z"
        },
        "id": "KbbV0xHPWoad",
        "outputId": "dde16c98-2379-4712-fac5-32d3da2b05e2",
        "papermill": {
          "duration": 0.071586,
          "end_time": "2020-11-27T11:52:32.424366",
          "exception": false,
          "start_time": "2020-11-27T11:52:32.352780",
          "status": "completed"
        },
        "tags": [],
        "colab": {
          "base_uri": "https://localhost:8080/"
        }
      },
      "outputs": [
        {
          "output_type": "execute_result",
          "data": {
            "text/plain": [
              "Make            10827\n",
              "Model           10827\n",
              "Year            10827\n",
              "HP              10827\n",
              "Cylinders       10827\n",
              "Transmission    10827\n",
              "Drive Mode      10827\n",
              "MPG-H           10827\n",
              "MPG-C           10827\n",
              "Price           10827\n",
              "dtype: int64"
            ]
          },
          "metadata": {},
          "execution_count": 74
        }
      ],
      "source": [
        "dataframe = dataframe.dropna()    # Dropping the missing values.\n",
        "dataframe.count()"
      ]
    },
    {
      "cell_type": "markdown",
      "metadata": {
        "id": "2t7L9l2mJSoX",
        "papermill": {
          "duration": 0.033726,
          "end_time": "2020-11-27T11:52:32.496715",
          "exception": false,
          "start_time": "2020-11-27T11:52:32.462989",
          "status": "completed"
        },
        "tags": []
      },
      "source": [
        "Now we have removed all the rows which contain the Null values (Cylinders and Horsepower (HP))."
      ]
    },
    {
      "cell_type": "code",
      "execution_count": 75,
      "metadata": {
        "execution": {
          "iopub.execute_input": "2020-11-27T11:52:32.571710Z",
          "iopub.status.busy": "2020-11-27T11:52:32.571093Z",
          "iopub.status.idle": "2020-11-27T11:52:32.575569Z",
          "shell.execute_reply": "2020-11-27T11:52:32.576056Z"
        },
        "id": "V-DmX1O4Wtox",
        "outputId": "8d3687de-57d9-4e93-93c8-c99c80c9766b",
        "papermill": {
          "duration": 0.045646,
          "end_time": "2020-11-27T11:52:32.576197",
          "exception": false,
          "start_time": "2020-11-27T11:52:32.530551",
          "status": "completed"
        },
        "tags": [],
        "colab": {
          "base_uri": "https://localhost:8080/"
        }
      },
      "outputs": [
        {
          "output_type": "stream",
          "name": "stdout",
          "text": [
            "Make            0\n",
            "Model           0\n",
            "Year            0\n",
            "HP              0\n",
            "Cylinders       0\n",
            "Transmission    0\n",
            "Drive Mode      0\n",
            "MPG-H           0\n",
            "MPG-C           0\n",
            "Price           0\n",
            "dtype: int64\n"
          ]
        }
      ],
      "source": [
        "print(dataframe.isnull().sum())   # After dropping the values"
      ]
    },
    {
      "cell_type": "markdown",
      "metadata": {
        "id": "bk8RAHqQJVJK",
        "papermill": {
          "duration": 0.033656,
          "end_time": "2020-11-27T11:52:32.644093",
          "exception": false,
          "start_time": "2020-11-27T11:52:32.610437",
          "status": "completed"
        },
        "tags": []
      },
      "source": [
        "\n",
        "\n",
        "---\n",
        "\n"
      ]
    },
    {
      "cell_type": "markdown",
      "metadata": {
        "id": "8Py3sQc_ZxyU",
        "papermill": {
          "duration": 0.034018,
          "end_time": "2020-11-27T11:52:32.712147",
          "exception": false,
          "start_time": "2020-11-27T11:52:32.678129",
          "status": "completed"
        },
        "tags": []
      },
      "source": [
        "## 8. Detecting Outliers"
      ]
    },
    {
      "cell_type": "markdown",
      "metadata": {
        "id": "1g6CJPofZzHN",
        "papermill": {
          "duration": 0.033631,
          "end_time": "2020-11-27T11:52:32.779927",
          "exception": false,
          "start_time": "2020-11-27T11:52:32.746296",
          "status": "completed"
        },
        "tags": []
      },
      "source": [
        "Detecting and removing outliers is an important step in Exploratory Data Analysis (EDA). Outliers can negatively impact the accuracy of a model and are therefore typically removed. One technique for outlier detection is the IQR score method. Visualizations like box plots can also help identify outliers. In the plots of MSRP, Cylinders, Horsepower, and Engine Size, some points outside the box are outliers."
      ]
    },
    {
      "cell_type": "code",
      "execution_count": 76,
      "metadata": {
        "execution": {
          "iopub.execute_input": "2020-11-27T11:52:32.853465Z",
          "iopub.status.busy": "2020-11-27T11:52:32.852781Z",
          "iopub.status.idle": "2020-11-27T11:52:33.096979Z",
          "shell.execute_reply": "2020-11-27T11:52:33.096361Z"
        },
        "id": "vtxX_y6zZ2ri",
        "outputId": "a747f90a-9ea9-47db-87f9-a9363b8513e8",
        "papermill": {
          "duration": 0.283132,
          "end_time": "2020-11-27T11:52:33.097091",
          "exception": false,
          "start_time": "2020-11-27T11:52:32.813959",
          "status": "completed"
        },
        "tags": [],
        "colab": {
          "base_uri": "https://localhost:8080/",
          "height": 302
        }
      },
      "outputs": [
        {
          "output_type": "execute_result",
          "data": {
            "text/plain": [
              "<matplotlib.axes._subplots.AxesSubplot at 0x7f001ec2a700>"
            ]
          },
          "metadata": {},
          "execution_count": 76
        },
        {
          "output_type": "display_data",
          "data": {
            "text/plain": [
              "<Figure size 432x288 with 1 Axes>"
            ],
            "image/png": "[encoded data removed]"
          },
          "metadata": {}
        }
      ],
      "source": [
        "sns.boxplot(x=dataframe['Price'])"
      ]
    },
    {
      "cell_type": "code",
      "execution_count": 77,
      "metadata": {
        "execution": {
          "iopub.execute_input": "2020-11-27T11:52:33.179459Z",
          "iopub.status.busy": "2020-11-27T11:52:33.178064Z",
          "iopub.status.idle": "2020-11-27T11:52:33.370107Z",
          "shell.execute_reply": "2020-11-27T11:52:33.369534Z"
        },
        "id": "9HtvQYVHZ8u5",
        "outputId": "7692bbd8-6f31-4df6-cee9-cf980f05b431",
        "papermill": {
          "duration": 0.237157,
          "end_time": "2020-11-27T11:52:33.370221",
          "exception": false,
          "start_time": "2020-11-27T11:52:33.133064",
          "status": "completed"
        },
        "tags": [],
        "colab": {
          "base_uri": "https://localhost:8080/",
          "height": 302
        }
      },
      "outputs": [
        {
          "output_type": "execute_result",
          "data": {
            "text/plain": [
              "<matplotlib.axes._subplots.AxesSubplot at 0x7f001eaed8b0>"
            ]
          },
          "metadata": {},
          "execution_count": 77
        },
        {
          "output_type": "display_data",
          "data": {
            "text/plain": [
              "<Figure size 432x288 with 1 Axes>"
            ],
            "image/png": "[encoded data removed]"
          },
          "metadata": {}
        }
      ],
      "source": [
        "sns.boxplot(x=dataframe['HP'])"
      ]
    },
    {
      "cell_type": "code",
      "execution_count": 78,
      "metadata": {
        "execution": {
          "iopub.execute_input": "2020-11-27T11:52:33.457732Z",
          "iopub.status.busy": "2020-11-27T11:52:33.456566Z",
          "iopub.status.idle": "2020-11-27T11:52:33.670130Z",
          "shell.execute_reply": "2020-11-27T11:52:33.669594Z"
        },
        "id": "Xz3MwIjbaBUr",
        "outputId": "6cb395bd-86d8-47fd-b770-38b262c3bb77",
        "papermill": {
          "duration": 0.262939,
          "end_time": "2020-11-27T11:52:33.670253",
          "exception": false,
          "start_time": "2020-11-27T11:52:33.407314",
          "status": "completed"
        },
        "tags": [],
        "colab": {
          "base_uri": "https://localhost:8080/",
          "height": 302
        }
      },
      "outputs": [
        {
          "output_type": "execute_result",
          "data": {
            "text/plain": [
              "<matplotlib.axes._subplots.AxesSubplot at 0x7f001f8565e0>"
            ]
          },
          "metadata": {},
          "execution_count": 78
        },
        {
          "output_type": "display_data",
          "data": {
            "text/plain": [
              "<Figure size 432x288 with 1 Axes>"
            ],
            "image/png": "[encoded data removed]"
          },
          "metadata": {}
        }
      ],
      "source": [
        "sns.boxplot(x=dataframe['Cylinders'])"
      ]
    },
    {
      "cell_type": "code",
      "execution_count": 79,
      "metadata": {
        "execution": {
          "iopub.execute_input": "2020-11-27T11:52:33.751510Z",
          "iopub.status.busy": "2020-11-27T11:52:33.750825Z",
          "iopub.status.idle": "2020-11-27T11:52:33.759278Z",
          "shell.execute_reply": "2020-11-27T11:52:33.758677Z"
        },
        "id": "cFG9hck7aHUx",
        "outputId": "9c4d6ebb-593c-4403-b86b-1d233b289bc5",
        "papermill": {
          "duration": 0.051549,
          "end_time": "2020-11-27T11:52:33.759385",
          "exception": false,
          "start_time": "2020-11-27T11:52:33.707836",
          "status": "completed"
        },
        "tags": [],
        "colab": {
          "base_uri": "https://localhost:8080/"
        }
      },
      "outputs": [
        {
          "output_type": "stream",
          "name": "stdout",
          "text": [
            "Year             9.0\n",
            "HP             130.0\n",
            "Cylinders        2.0\n",
            "MPG-H            8.0\n",
            "MPG-C            6.0\n",
            "Price        21327.5\n",
            "dtype: float64\n"
          ]
        }
      ],
      "source": [
        "Q1 = dataframe.quantile(0.25)\n",
        "Q3 = dataframe.quantile(0.75)\n",
        "IQR = Q3 - Q1\n",
        "print(IQR)"
      ]
    },
    {
      "cell_type": "markdown",
      "metadata": {
        "id": "kCv110_cJiDz",
        "papermill": {
          "duration": 0.036905,
          "end_time": "2020-11-27T11:52:33.833569",
          "exception": false,
          "start_time": "2020-11-27T11:52:33.796664",
          "status": "completed"
        },
        "tags": []
      },
      "source": [
        "Don't worry about the above values because it's not important to know each and every one of them because it's just important to know how to use this technique in order to remove the outliers."
      ]
    },
    {
      "cell_type": "code",
      "execution_count": 80,
      "metadata": {
        "execution": {
          "iopub.execute_input": "2020-11-27T11:52:33.917753Z",
          "iopub.status.busy": "2020-11-27T11:52:33.916141Z",
          "iopub.status.idle": "2020-11-27T11:52:33.940749Z",
          "shell.execute_reply": "2020-11-27T11:52:33.941224Z"
        },
        "id": "igh_mRXeaJrI",
        "outputId": "470d9353-51d7-4510-c7cb-c3a284d1edcb",
        "papermill": {
          "duration": 0.07026,
          "end_time": "2020-11-27T11:52:33.941373",
          "exception": false,
          "start_time": "2020-11-27T11:52:33.871113",
          "status": "completed"
        },
        "tags": [],
        "colab": {
          "base_uri": "https://localhost:8080/"
        }
      },
      "outputs": [
        {
          "output_type": "stream",
          "name": "stderr",
          "text": [
            "<ipython-input-80-261ebb6c4feb>:1: FutureWarning: Automatic reindexing on DataFrame vs Series comparisons is deprecated and will raise ValueError in a future version.  Do `left, right = left.align(right, axis=1, copy=False)` before e.g. `left == right`\n",
            "  dataframe = dataframe[~((dataframe < (Q1 - 1.5 * IQR)) |(dataframe > (Q3 + 1.5 * IQR))).any(axis=1)]\n"
          ]
        },
        {
          "output_type": "execute_result",
          "data": {
            "text/plain": [
              "(9191, 10)"
            ]
          },
          "metadata": {},
          "execution_count": 80
        }
      ],
      "source": [
        "dataframe = dataframe[~((dataframe < (Q1 - 1.5 * IQR)) |(dataframe > (Q3 + 1.5 * IQR))).any(axis=1)]\n",
        "dataframe.shape"
      ]
    },
    {
      "cell_type": "markdown",
      "metadata": {
        "id": "Z87kHbgvaQbb",
        "papermill": {
          "duration": 0.037301,
          "end_time": "2020-11-27T11:52:34.092399",
          "exception": false,
          "start_time": "2020-11-27T11:52:34.055098",
          "status": "completed"
        },
        "tags": []
      },
      "source": [
        "\n",
        "\n",
        "---\n",
        "\n"
      ]
    },
    {
      "cell_type": "markdown",
      "metadata": {
        "id": "WqFPRda8eEp_",
        "papermill": {
          "duration": 0.038833,
          "end_time": "2020-11-27T11:52:34.169033",
          "exception": false,
          "start_time": "2020-11-27T11:52:34.130200",
          "status": "completed"
        },
        "tags": []
      },
      "source": [
        "## 9. Plot different features against one another (scatter), against frequency (histogram)"
      ]
    },
    {
      "cell_type": "markdown",
      "metadata": {
        "id": "Z-W6Q9-hJosZ",
        "papermill": {
          "duration": 0.037659,
          "end_time": "2020-11-27T11:52:34.244690",
          "exception": false,
          "start_time": "2020-11-27T11:52:34.207031",
          "status": "completed"
        },
        "tags": []
      },
      "source": [
        "### Histogram\n",
        "\n",
        "A histogram is a representation of the frequency of occurrence of variables within intervals. It can be used to determine which car manufacturing company has the most cars. The histogram in this case shows the total number of cars produced by each company."
      ]
    },
    {
      "cell_type": "code",
      "execution_count": 86,
      "metadata": {
        "execution": {
          "iopub.execute_input": "2020-11-27T11:52:34.328999Z",
          "iopub.status.busy": "2020-11-27T11:52:34.328053Z",
          "iopub.status.idle": "2020-11-27T11:52:34.926767Z",
          "shell.execute_reply": "2020-11-27T11:52:34.927629Z"
        },
        "id": "dAnd4DSyeHDb",
        "outputId": "aa1b150a-31ae-4437-d222-0c230c6a57d5",
        "papermill": {
          "duration": 0.645152,
          "end_time": "2020-11-27T11:52:34.927853",
          "exception": false,
          "start_time": "2020-11-27T11:52:34.282701",
          "status": "completed"
        },
        "tags": [],
        "colab": {
          "base_uri": "https://localhost:8080/",
          "height": 429
        }
      },
      "outputs": [
        {
          "output_type": "display_data",
          "data": {
            "text/plain": [
              "<Figure size 720x360 with 1 Axes>"
            ],
            "image/png": "[encoded data removed]"
          },
          "metadata": {}
        }
      ],
      "source": [
        "dataframe.Make.value_counts().nlargest(50).plot(kind='bar', figsize=(10,5),color='c')\n",
        "plt.title(\"Number of cars by Make\")\n",
        "plt.ylabel('Number of Cars')\n",
        "plt.xlabel('Make');"
      ]
    },
    {
      "cell_type": "markdown",
      "metadata": {
        "id": "c37WtYYWJuAQ",
        "papermill": {
          "duration": 0.04046,
          "end_time": "2020-11-27T11:52:35.081261",
          "exception": false,
          "start_time": "2020-11-27T11:52:35.040801",
          "status": "completed"
        },
        "tags": []
      },
      "source": [
        "### Heat Maps\n",
        "\n",
        "Heat maps are useful for finding relationships between features. In this case, the heat map reveals that the price feature depends heavily on Engine Size, Horsepower, and Cylinders."
      ]
    },
    {
      "cell_type": "code",
      "execution_count": 82,
      "metadata": {
        "execution": {
          "iopub.execute_input": "2020-11-27T11:52:35.171817Z",
          "iopub.status.busy": "2020-11-27T11:52:35.170966Z",
          "iopub.status.idle": "2020-11-27T11:52:35.541204Z",
          "shell.execute_reply": "2020-11-27T11:52:35.540448Z"
        },
        "id": "yhHfLVTj6nmy",
        "outputId": "1d483a0c-e7f9-4f09-de72-3549ff88e0f6",
        "papermill": {
          "duration": 0.419422,
          "end_time": "2020-11-27T11:52:35.541316",
          "exception": false,
          "start_time": "2020-11-27T11:52:35.121894",
          "status": "completed"
        },
        "tags": [],
        "colab": {
          "base_uri": "https://localhost:8080/",
          "height": 546
        }
      },
      "outputs": [
        {
          "output_type": "execute_result",
          "data": {
            "text/plain": [
              "               Year        HP  Cylinders     MPG-H     MPG-C     Price\n",
              "Year       1.000000  0.326726  -0.133920  0.378479  0.338145  0.592983\n",
              "HP         0.326726  1.000000   0.715237 -0.443807 -0.544551  0.739042\n",
              "Cylinders -0.133920  0.715237   1.000000 -0.703856 -0.755540  0.354013\n",
              "MPG-H      0.378479 -0.443807  -0.703856  1.000000  0.939141 -0.106320\n",
              "MPG-C      0.338145 -0.544551  -0.755540  0.939141  1.000000 -0.180515\n",
              "Price      0.592983  0.739042   0.354013 -0.106320 -0.180515  1.000000"
            ],
            "text/html": [
              "\n",
              "  <div id=\"df-d6a95112-712e-48ba-99f7-f435c4ef8ded\">\n",
              "    <div class=\"colab-df-container\">\n",
              "      <div>\n",
              "<style scoped>\n",
              "    .dataframe tbody tr th:only-of-type {\n",
              "        vertical-align: middle;\n",
              "    }\n",
              "\n",
              "    .dataframe tbody tr th {\n",
              "        vertical-align: top;\n",
              "    }\n",
              "\n",
              "    .dataframe thead th {\n",
              "        text-align: right;\n",
              "    }\n",
              "</style>\n",
              "<table border=\"1\" class=\"dataframe\">\n",
              "  <thead>\n",
              "    <tr style=\"text-align: right;\">\n",
              "      <th></th>\n",
              "      <th>Year</th>\n",
              "      <th>HP</th>\n",
              "      <th>Cylinders</th>\n",
              "      <th>MPG-H</th>\n",
              "      <th>MPG-C</th>\n",
              "      <th>Price</th>\n",
              "    </tr>\n",
              "  </thead>\n",
              "  <tbody>\n",
              "    <tr>\n",
              "      <th>Year</th>\n",
              "      <td>1.000000</td>\n",
              "      <td>0.326726</td>\n",
              "      <td>-0.133920</td>\n",
              "      <td>0.378479</td>\n",
              "      <td>0.338145</td>\n",
              "      <td>0.592983</td>\n",
              "    </tr>\n",
              "    <tr>\n",
              "      <th>HP</th>\n",
              "      <td>0.326726</td>\n",
              "      <td>1.000000</td>\n",
              "      <td>0.715237</td>\n",
              "      <td>-0.443807</td>\n",
              "      <td>-0.544551</td>\n",
              "      <td>0.739042</td>\n",
              "    </tr>\n",
              "    <tr>\n",
              "      <th>Cylinders</th>\n",
              "      <td>-0.133920</td>\n",
              "      <td>0.715237</td>\n",
              "      <td>1.000000</td>\n",
              "      <td>-0.703856</td>\n",
              "      <td>-0.755540</td>\n",
              "      <td>0.354013</td>\n",
              "    </tr>\n",
              "    <tr>\n",
              "      <th>MPG-H</th>\n",
              "      <td>0.378479</td>\n",
              "      <td>-0.443807</td>\n",
              "      <td>-0.703856</td>\n",
              "      <td>1.000000</td>\n",
              "      <td>0.939141</td>\n",
              "      <td>-0.106320</td>\n",
              "    </tr>\n",
              "    <tr>\n",
              "      <th>MPG-C</th>\n",
              "      <td>0.338145</td>\n",
              "      <td>-0.544551</td>\n",
              "      <td>-0.755540</td>\n",
              "      <td>0.939141</td>\n",
              "      <td>1.000000</td>\n",
              "      <td>-0.180515</td>\n",
              "    </tr>\n",
              "    <tr>\n",
              "      <th>Price</th>\n",
              "      <td>0.592983</td>\n",
              "      <td>0.739042</td>\n",
              "      <td>0.354013</td>\n",
              "      <td>-0.106320</td>\n",
              "      <td>-0.180515</td>\n",
              "      <td>1.000000</td>\n",
              "    </tr>\n",
              "  </tbody>\n",
              "</table>\n",
              "</div>\n",
              "      <button class=\"colab-df-convert\" onclick=\"convertToInteractive('df-d6a95112-712e-48ba-99f7-f435c4ef8ded')\"\n",
              "              title=\"Convert this dataframe to an interactive table.\"\n",
              "              style=\"display:none;\">\n",
              "        \n",
              "  <svg xmlns=\"http://www.w3.org/2000/svg\" height=\"24px\"viewBox=\"0 0 24 24\"\n",
              "       width=\"24px\">\n",
              "    <path d=\"M0 0h24v24H0V0z\" fill=\"none\"/>\n",
              "    <path d=\"M18.56 5.44l.94 2.06.94-2.06 2.06-.94-2.06-.94-.94-2.06-.94 2.06-2.06.94zm-11 1L8.5 8.5l.94-2.06 2.06-.94-2.06-.94L8.5 2.5l-.94 2.06-2.06.94zm10 10l.94 2.06.94-2.06 2.06-.94-2.06-.94-.94-2.06-.94 2.06-2.06.94z\"/><path d=\"M17.41 7.96l-1.37-1.37c-.4-.4-.92-.59-1.43-.59-.52 0-1.04.2-1.43.59L10.3 9.45l-7.72 7.72c-.78.78-.78 2.05 0 2.83L4 21.41c.39.39.9.59 1.41.59.51 0 1.02-.2 1.41-.59l7.78-7.78 2.81-2.81c.8-.78.8-2.07 0-2.86zM5.41 20L4 18.59l7.72-7.72 1.47 1.35L5.41 20z\"/>\n",
              "  </svg>\n",
              "      </button>\n",
              "      \n",
              "  <style>\n",
              "    .colab-df-container {\n",
              "      display:flex;\n",
              "      flex-wrap:wrap;\n",
              "      gap: 12px;\n",
              "    }\n",
              "\n",
              "    .colab-df-convert {\n",
              "      background-color: #E8F0FE;\n",
              "      border: none;\n",
              "      border-radius: 50%;\n",
              "      cursor: pointer;\n",
              "      display: none;\n",
              "      fill: #1967D2;\n",
              "      height: 32px;\n",
              "      padding: 0 0 0 0;\n",
              "      width: 32px;\n",
              "    }\n",
              "\n",
              "    .colab-df-convert:hover {\n",
              "      background-color: #E2EBFA;\n",
              "      box-shadow: 0px 1px 2px rgba(60, 64, 67, 0.3), 0px 1px 3px 1px rgba(60, 64, 67, 0.15);\n",
              "      fill: #174EA6;\n",
              "    }\n",
              "\n",
              "    [theme=dark] .colab-df-convert {\n",
              "      background-color: #3B4455;\n",
              "      fill: #D2E3FC;\n",
              "    }\n",
              "\n",
              "    [theme=dark] .colab-df-convert:hover {\n",
              "      background-color: #434B5C;\n",
              "      box-shadow: 0px 1px 3px 1px rgba(0, 0, 0, 0.15);\n",
              "      filter: drop-shadow(0px 1px 2px rgba(0, 0, 0, 0.3));\n",
              "      fill: #FFFFFF;\n",
              "    }\n",
              "  </style>\n",
              "\n",
              "      <script>\n",
              "        const buttonEl =\n",
              "          document.querySelector('#df-d6a95112-712e-48ba-99f7-f435c4ef8ded button.colab-df-convert');\n",
              "        buttonEl.style.display =\n",
              "          google.colab.kernel.accessAllowed ? 'block' : 'none';\n",
              "\n",
              "        async function convertToInteractive(key) {\n",
              "          const element = document.querySelector('#df-d6a95112-712e-48ba-99f7-f435c4ef8ded');\n",
              "          const dataTable =\n",
              "            await google.colab.kernel.invokeFunction('convertToInteractive',\n",
              "                                                     [key], {});\n",
              "          if (!dataTable) return;\n",
              "\n",
              "          const docLinkHtml = 'Like what you see? Visit the ' +\n",
              "            '<a target=\"_blank\" href=https://colab.research.google.com/notebooks/data_table.ipynb>data table notebook</a>'\n",
              "            + ' to learn more about interactive tables.';\n",
              "          element.innerHTML = '';\n",
              "          dataTable['output_type'] = 'display_data';\n",
              "          await google.colab.output.renderOutput(dataTable, element);\n",
              "          const docLink = document.createElement('div');\n",
              "          docLink.innerHTML = docLinkHtml;\n",
              "          element.appendChild(docLink);\n",
              "        }\n",
              "      </script>\n",
              "    </div>\n",
              "  </div>\n",
              "  "
            ]
          },
          "metadata": {},
          "execution_count": 82
        },
        {
          "output_type": "display_data",
          "data": {
            "text/plain": [
              "<Figure size 720x360 with 2 Axes>"
            ],
            "image/png": "[encoded data removed]"
          },
          "metadata": {}
        }
      ],
      "source": [
        "plt.figure(figsize=(10,5))\n",
        "c= dataframe.corr()\n",
        "sns.heatmap(c,cmap=\"viridis\",annot=True)\n",
        "c"
      ]
    },
    {
      "cell_type": "markdown",
      "metadata": {
        "id": "1ROThOLQfRZw",
        "papermill": {
          "duration": 0.041995,
          "end_time": "2020-11-27T11:52:35.626197",
          "exception": false,
          "start_time": "2020-11-27T11:52:35.584202",
          "status": "completed"
        },
        "tags": []
      },
      "source": [
        "### Scatterplot\n",
        "\n",
        "Scatter plots are used to find correlations between variables. The scatter plot between Horsepower and Price shows a clear trend line and indicates a good scattering of points."
      ]
    },
    {
      "cell_type": "code",
      "execution_count": 87,
      "metadata": {
        "execution": {
          "iopub.execute_input": "2020-11-27T11:52:35.722504Z",
          "iopub.status.busy": "2020-11-27T11:52:35.718538Z",
          "iopub.status.idle": "2020-11-27T11:52:35.987456Z",
          "shell.execute_reply": "2020-11-27T11:52:35.986746Z"
        },
        "id": "2aOfHNFefSrX",
        "outputId": "4ffc6f35-fd94-40ea-e6fe-30d6898b3981",
        "papermill": {
          "duration": 0.319087,
          "end_time": "2020-11-27T11:52:35.987616",
          "exception": false,
          "start_time": "2020-11-27T11:52:35.668529",
          "status": "completed"
        },
        "tags": [],
        "colab": {
          "base_uri": "https://localhost:8080/",
          "height": 394
        }
      },
      "outputs": [
        {
          "output_type": "display_data",
          "data": {
            "text/plain": [
              "<Figure size 720x432 with 1 Axes>"
            ],
            "image/png": "[encoded data removed]"
          },
          "metadata": {}
        }
      ],
      "source": [
        "fig, ax = plt.subplots(figsize=(10,6))\n",
        "ax.scatter(dataframe['HP'], dataframe['Price'],color='k')\n",
        "ax.set_xlabel('HP')\n",
        "ax.set_ylabel('Price')\n",
        "plt.show()"
      ]
    },
    {
      "cell_type": "markdown",
      "metadata": {
        "id": "hQXy8o_gKFS5",
        "papermill": {
          "duration": 0.043811,
          "end_time": "2020-11-27T11:52:36.075327",
          "exception": false,
          "start_time": "2020-11-27T11:52:36.031516",
          "status": "completed"
        },
        "tags": []
      },
      "source": [
        "**These steps provide a general overview of what is involved in EDA. There are many other steps involved, but these provide a good starting point.**\n"
      ]
    },
    {
      "cell_type": "code",
      "source": [],
      "metadata": {
        "id": "gI36U63tcPhP"
      },
      "execution_count": 83,
      "outputs": []
    }
  ],
  "metadata": {
    "kernelspec": {
      "display_name": "Python 3",
      "language": "python",
      "name": "python3"
    },
    "language_info": {
      "codemirror_mode": {
        "name": "ipython",
        "version": 3
      },
      "file_extension": ".py",
      "mimetype": "text/x-python",
      "name": "python",
      "nbconvert_exporter": "python",
      "pygments_lexer": "ipython3",
      "version": "3.7.6"
    },
    "papermill": {
      "duration": 12.885345,
      "end_time": "2020-11-27T11:52:37.154623",
      "environment_variables": {},
      "exception": null,
      "input_path": "__notebook__.ipynb",
      "output_path": "__notebook__.ipynb",
      "parameters": {},
      "start_time": "2020-11-27T11:52:24.269278",
      "version": "2.1.0"
    },
    "colab": {
      "provenance": [],
      "include_colab_link": true
    }
  },
  "nbformat": 4,
  "nbformat_minor": 0
}