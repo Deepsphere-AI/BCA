{
  "nbformat": 4,
  "nbformat_minor": 0,
  "metadata": {
    "colab": {
      "provenance": [],
      "authorship_tag": "ABX9TyMhqiNNiQnenZqyFJknSe8s",
      "include_colab_link": true
    },
    "kernelspec": {
      "name": "python3",
      "display_name": "Python 3"
    },
    "language_info": {
      "name": "python"
    }
  },
  "cells": [
    {
      "cell_type": "markdown",
      "metadata": {
        "id": "view-in-github",
        "colab_type": "text"
      },
      "source": [
        "<a href=\"https://colab.research.google.com/github/Deepsphere-AI/BCA/blob/main/BCA/SEM-2/Data%20Science/Programs/Lab14.ipynb\" target=\"_parent\"><img src=\"https://colab.research.google.com/assets/colab-badge.svg\" alt=\"Open In Colab\"/></a>"
      ]
    },
    {
      "cell_type": "markdown",
      "source": [
        "# LAB 14"
      ],
      "metadata": {
        "id": "ak8aUpprrAky"
      }
    },
    {
      "cell_type": "markdown",
      "source": [
        "Here's a step by step guide to install Matplotlib, import it in Python, and explore different data visualization graphs:\n",
        "\n",
        "1. Install Matplotlib: You can install Matplotlib by running the following command in your terminal: pip install matplotlib.\n",
        "\n",
        "2. Import Matplotlib in Python: To import 'Matplotlib' in Python, \n",
        "use the following code: import matplotlib.pyplot as plt."
      ],
      "metadata": {
        "id": "T1pl_5vDrFSL"
      }
    },
    {
      "cell_type": "code",
      "source": [
        "!pip install matplotlib"
      ],
      "metadata": {
        "colab": {
          "base_uri": "https://localhost:8080/"
        },
        "id": "efDsN84qqakN",
        "outputId": "366a5447-0c92-4e70-f5da-84b730bf1314"
      },
      "execution_count": null,
      "outputs": [
        {
          "output_type": "stream",
          "name": "stdout",
          "text": [
            "Looking in indexes: https://pypi.org/simple, https://us-python.pkg.dev/colab-wheels/public/simple/\n",
            "Requirement already satisfied: matplotlib in /usr/local/lib/python3.8/dist-packages (3.2.2)\n",
            "Requirement already satisfied: python-dateutil>=2.1 in /usr/local/lib/python3.8/dist-packages (from matplotlib) (2.8.2)\n",
            "Requirement already satisfied: kiwisolver>=1.0.1 in /usr/local/lib/python3.8/dist-packages (from matplotlib) (1.4.4)\n",
            "Requirement already satisfied: numpy>=1.11 in /usr/local/lib/python3.8/dist-packages (from matplotlib) (1.21.6)\n",
            "Requirement already satisfied: pyparsing!=2.0.4,!=2.1.2,!=2.1.6,>=2.0.1 in /usr/local/lib/python3.8/dist-packages (from matplotlib) (3.0.9)\n",
            "Requirement already satisfied: cycler>=0.10 in /usr/local/lib/python3.8/dist-packages (from matplotlib) (0.11.0)\n",
            "Requirement already satisfied: six>=1.5 in /usr/local/lib/python3.8/dist-packages (from python-dateutil>=2.1->matplotlib) (1.15.0)\n"
          ]
        }
      ]
    },
    {
      "cell_type": "code",
      "source": [
        "import matplotlib.pyplot as plt"
      ],
      "metadata": {
        "id": "miUaOfv3rEJH"
      },
      "execution_count": null,
      "outputs": []
    },
    {
      "cell_type": "markdown",
      "source": [
        "**Line Plot:** A Line Plot is used to visualize the relationship between a continuous dependent variable and a continuous independent variable. It shows the trend of the dependent variable over time or any other continuous independent variable.\n",
        "\n",
        "**Scatter Plot:** A Scatter Plot is used to visualize the relationship between two continuous variables. It shows the distribution of data points in a 2D space, allowing you to see any patterns or trends in the data.\n",
        "\n",
        "**Bar Plot:** A Bar Plot is used to visualize the relationship between a categorical independent variable and a continuous dependent variable. It shows the value of the dependent variable for each category of the independent variable.\n",
        "\n",
        "**Histogram** Plot: A Histogram Plot is used to visualize the distribution of a continuous variable. It shows the frequency of data points in a particular range of values by dividing the data into bins and plotting the number of data points in each bin as a bar.\n",
        "\n",
        "**Pie Chart**: A Pie Chart is used to visualize the proportion of different categories in a categorical variable. It shows the value of each category as a slice of a pie, where the size of each slice is proportional to the value of that category.\n",
        "\n",
        "**Stacked Bar Plot:** A Stacked Bar Plot is used to visualize the relationship between a categorical independent variable and multiple continuous dependent variables. It shows the value of each dependent variable for each category of the independent variable, stacked on top of each other.\n",
        "\n",
        "**Area Plot:** An Area Plot is used to visualize the relationship between a continuous dependent variable and a continuous independent variable. It shows the value of the dependent variable over time or any other continuous independent variable, with the area under the line filled in with color.\n",
        "\n",
        "**Hexbin Plot:** A Hexbin Plot is used to visualize the relationship between two continuous variables. It shows the distribution of data points in a 2D space, with each hexagon representing a bin of data points.\n",
        "\n",
        "**Box Plot:** A Box Plot is used to visualize the distribution of a continuous variable. It shows the median, quartiles, and outliers of the data, and provides a compact way to visualize the distribution of the data.\n",
        "\n",
        "**Violin Plot:** A Violin Plot is used to visualize the distribution of a continuous variable. It shows the density of the data, with the width of the violin shape representing the density of data points.\n",
        "\n",
        "**Swarm Plot:** A Swarm Plot is used to visualize the distribution of continuous variables. It shows the distribution of data points as points in a 2D space and avoids overplotting by adjusting the position of points along one axis.\n",
        "\n",
        "**Pair Plot:** A Pair Plot is used to visualize the relationship between multiple continuous variables. It creates a matrix of scatter plots between all combinations of variables, allowing you to quickly see how each variable is related to all other variables in the dataset.\n",
        "\n",
        "**Heatmap Plot:** A Heatmap Plot is used to represent the relationship between two continuous variables. It shows the relationship between two variables as a grid of colored cells, where each cell represents the value of two variables.\n",
        "\n",
        "**Contour Plot:** A Contour Plot is used to visualize the relationship between two continuous variables. It shows the relationship between two variables as a series of contour lines, where each contour line represents a specific value of the two variables.\n",
        "\n",
        "**3D Surface Plot:** A 3D Surface Plot is used to visualize the relationship between three continuous variables. It shows the relationship between three variables as a 3D surface, where each point on the surface represents the value of three variables."
      ],
      "metadata": {
        "id": "je1l8JyPEKX4"
      }
    }
  ]
}