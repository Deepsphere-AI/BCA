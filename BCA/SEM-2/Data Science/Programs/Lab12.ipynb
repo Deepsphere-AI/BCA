{
  "nbformat": 4,
  "nbformat_minor": 0,
  "metadata": {
    "colab": {
      "provenance": [],
      "authorship_tag": "ABX9TyPObDUEwqfysUwDvgum84V+",
      "include_colab_link": true
    },
    "kernelspec": {
      "name": "python3",
      "display_name": "Python 3"
    },
    "language_info": {
      "name": "python"
    }
  },
  "cells": [
    {
      "cell_type": "markdown",
      "metadata": {
        "id": "view-in-github",
        "colab_type": "text"
      },
      "source": [
        "<a href=\"https://colab.research.google.com/github/Deepsphere-AI/BCA/blob/main/BCA/SEM-2/Data%20Science/Programs/Lab12.ipynb\" target=\"_parent\"><img src=\"https://colab.research.google.com/assets/colab-badge.svg\" alt=\"Open In Colab\"/></a>"
      ]
    },
    {
      "cell_type": "markdown",
      "source": [
        "**Lab 12: Install and perform a simple text processing using NLTK**"
      ],
      "metadata": {
        "id": "Sa3lfMiLb5lw"
      }
    },
    {
      "cell_type": "markdown",
      "source": [
        "To install NLTK, you can use the pip package manager. Open up the terminal or command prompt and run the following command:"
      ],
      "metadata": {
        "id": "wxMpLy8ocMsl"
      }
    },
    {
      "cell_type": "code",
      "source": [
        "!pip install nltk\n"
      ],
      "metadata": {
        "id": "KqYXQYllcNmw"
      },
      "execution_count": null,
      "outputs": []
    },
    {
      "cell_type": "markdown",
      "source": [
        "To import the NLTK library, you will use the following code in Python:"
      ],
      "metadata": {
        "id": "4sVqZ9ujcR9f"
      }
    },
    {
      "cell_type": "code",
      "source": [
        "import nltk               \n"
      ],
      "metadata": {
        "id": "Krse98qpcSuo"
      },
      "execution_count": null,
      "outputs": []
    },
    {
      "cell_type": "markdown",
      "source": [
        "NLTK requires some additional data to be downloaded to perform various NLP tasks. You can download these data by using the following code:"
      ],
      "metadata": {
        "id": "jG8yhPRkcVJU"
      }
    },
    {
      "cell_type": "code",
      "source": [
        "nltk.download('punkt')\n"
      ],
      "metadata": {
        "colab": {
          "base_uri": "https://localhost:8080/"
        },
        "id": "wzDiQ_sfcY5a",
        "outputId": "9e50a8de-8bf4-4eb5-ede9-984c400456f0"
      },
      "execution_count": null,
      "outputs": [
        {
          "output_type": "stream",
          "name": "stderr",
          "text": [
            "[nltk_data] Downloading package punkt to /root/nltk_data...\n",
            "[nltk_data]   Unzipping tokenizers/punkt.zip.\n"
          ]
        },
        {
          "output_type": "execute_result",
          "data": {
            "text/plain": [
              "True"
            ]
          },
          "metadata": {},
          "execution_count": 8
        }
      ]
    },
    {
      "cell_type": "markdown",
      "source": [
        "Now that you have installed and imported the NLTK library, you can start with a simple text processing task. Here is an example code to perform word tokenization:\n",
        "\n"
      ],
      "metadata": {
        "id": "wWc1Mc9ocdbo"
      }
    },
    {
      "cell_type": "code",
      "source": [
        "from nltk.tokenize import word_tokenize\n",
        "\n",
        "text = \"NLTK is a leading platform for building Python programs to work with human language data.\"\n",
        "\n",
        "# Tokenize the text\n",
        "tokens = word_tokenize(text)\n",
        "\n",
        "# Print the tokens\n",
        "print(tokens)\n"
      ],
      "metadata": {
        "colab": {
          "base_uri": "https://localhost:8080/"
        },
        "id": "UD2SqFvAceB8",
        "outputId": "dcbc2186-9b28-40cf-a833-1a63b16241b5"
      },
      "execution_count": null,
      "outputs": [
        {
          "output_type": "stream",
          "name": "stdout",
          "text": [
            "['NLTK', 'is', 'a', 'leading', 'platform', 'for', 'building', 'Python', 'programs', 'to', 'work', 'with', 'human', 'language', 'data', '.']\n"
          ]
        }
      ]
    },
    {
      "cell_type": "markdown",
      "source": [
        "In this lab, you learned how to install and use nltk and how to perform a simple text processing using NLTK "
      ],
      "metadata": {
        "id": "63J2nibPcjSA"
      }
    }
  ]
}